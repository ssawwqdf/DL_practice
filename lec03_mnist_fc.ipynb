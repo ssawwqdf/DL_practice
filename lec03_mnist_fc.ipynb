{
 "cells": [
  {
   "cell_type": "markdown",
   "id": "f0e1f766-532c-42c2-8e27-d2c5819daca7",
   "metadata": {},
   "source": [
    "# import"
   ]
  },
  {
   "cell_type": "code",
   "execution_count": 2,
   "id": "55702959-a29e-4bc9-a41a-1050a765507e",
   "metadata": {},
   "outputs": [],
   "source": [
    "import pandas as pd\n",
    "import numpy as np\n",
    "import matplotlib.pyplot as plt\n",
    "import seaborn as sns\n",
    "\n",
    "import warnings\n",
    "warnings.filterwarnings(action='ignore')\n",
    "\n",
    "#-------------------- 차트 관련 속성 (한글처리, 그리드) -----------\n",
    "#plt.rc('font', family='NanumGothicOTF') # For MacOS\n",
    "plt.rcParams['font.family']= 'Malgun Gothic'\n",
    "plt.rcParams['axes.unicode_minus'] = False\n",
    "sns.set()\n"
   ]
  },
  {
   "cell_type": "code",
   "execution_count": 3,
   "id": "ab5dfe64-721a-4a3c-974e-bffae8b38a28",
   "metadata": {},
   "outputs": [],
   "source": [
    "import tensorflow as tf\n",
    "from keras.models import Sequential\n",
    "from keras.layers import Dense, Activation\n",
    "\n",
    "# ------------------- seed 고정 -----------------------\n",
    "np.random.seed(1024)\n",
    "tf.random.set_seed(1024)"
   ]
  },
  {
   "cell_type": "markdown",
   "id": "dca7831d-e10d-4a10-a650-e3311ffb744e",
   "metadata": {},
   "source": [
    "# data"
   ]
  },
  {
   "cell_type": "code",
   "execution_count": 4,
   "id": "e693da72-0c24-4f91-940e-2eba56d87953",
   "metadata": {},
   "outputs": [],
   "source": [
    "# api에는 tensorflow.keras 쓰도록 되어있지만 keras가 떨어져 나와서 tensorflow 없어도 됨.\n",
    "from keras.datasets import mnist # toydataset. 누구나 거쳐가는 데이터"
   ]
  },
  {
   "cell_type": "code",
   "execution_count": 5,
   "id": "8cee4c6e-2e72-459b-9f71-4ba3bdeec6eb",
   "metadata": {},
   "outputs": [],
   "source": [
    "(X_train, y_train), (X_test, y_test) = mnist.load_data() # keras에서 load_data는 train, test set 나눠서 한다."
   ]
  },
  {
   "cell_type": "code",
   "execution_count": 6,
   "id": "bb411fc6-f456-4581-bf91-78d470169b14",
   "metadata": {},
   "outputs": [
    {
     "data": {
      "text/plain": [
       "((60000, 28, 28), (60000,), (10000, 28, 28), (10000,))"
      ]
     },
     "execution_count": 6,
     "metadata": {},
     "output_type": "execute_result"
    }
   ],
   "source": [
    "X_train.shape, y_train.shape, X_test.shape, y_test.shape"
   ]
  },
  {
   "cell_type": "code",
   "execution_count": 7,
   "id": "b8a4680c-d862-46ae-a737-8c5e12f10211",
   "metadata": {},
   "outputs": [
    {
     "data": {
      "text/plain": [
       "(array([5], dtype=uint8),\n",
       " array([[[  0,   0,   0,   0,   0,   0,   0,   0,   0,   0,   0,   0,\n",
       "            0,   0,   0,   0,   0,   0,   0,   0,   0,   0,   0,   0,\n",
       "            0,   0,   0,   0],\n",
       "         [  0,   0,   0,   0,   0,   0,   0,   0,   0,   0,   0,   0,\n",
       "            0,   0,   0,   0,   0,   0,   0,   0,   0,   0,   0,   0,\n",
       "            0,   0,   0,   0],\n",
       "         [  0,   0,   0,   0,   0,   0,   0,   0,   0,   0,   0,   0,\n",
       "            0,   0,   0,   0,   0,   0,   0,   0,   0,   0,   0,   0,\n",
       "            0,   0,   0,   0],\n",
       "         [  0,   0,   0,   0,   0,   0,   0,   0,   0,   0,   0,   0,\n",
       "            0,   0,   0,   0,   0,   0,   0,   0,   0,   0,   0,   0,\n",
       "            0,   0,   0,   0],\n",
       "         [  0,   0,   0,   0,   0,   0,   0,   0,   0,   0,   0,   0,\n",
       "            0,   0,   0,   0,   0,   0,   0,   0,   0,   0,   0,   0,\n",
       "            0,   0,   0,   0],\n",
       "         [  0,   0,   0,   0,   0,   0,   0,   0,   0,   0,   0,   0,\n",
       "            3,  18,  18,  18, 126, 136, 175,  26, 166, 255, 247, 127,\n",
       "            0,   0,   0,   0],\n",
       "         [  0,   0,   0,   0,   0,   0,   0,   0,  30,  36,  94, 154,\n",
       "          170, 253, 253, 253, 253, 253, 225, 172, 253, 242, 195,  64,\n",
       "            0,   0,   0,   0],\n",
       "         [  0,   0,   0,   0,   0,   0,   0,  49, 238, 253, 253, 253,\n",
       "          253, 253, 253, 253, 253, 251,  93,  82,  82,  56,  39,   0,\n",
       "            0,   0,   0,   0],\n",
       "         [  0,   0,   0,   0,   0,   0,   0,  18, 219, 253, 253, 253,\n",
       "          253, 253, 198, 182, 247, 241,   0,   0,   0,   0,   0,   0,\n",
       "            0,   0,   0,   0],\n",
       "         [  0,   0,   0,   0,   0,   0,   0,   0,  80, 156, 107, 253,\n",
       "          253, 205,  11,   0,  43, 154,   0,   0,   0,   0,   0,   0,\n",
       "            0,   0,   0,   0],\n",
       "         [  0,   0,   0,   0,   0,   0,   0,   0,   0,  14,   1, 154,\n",
       "          253,  90,   0,   0,   0,   0,   0,   0,   0,   0,   0,   0,\n",
       "            0,   0,   0,   0],\n",
       "         [  0,   0,   0,   0,   0,   0,   0,   0,   0,   0,   0, 139,\n",
       "          253, 190,   2,   0,   0,   0,   0,   0,   0,   0,   0,   0,\n",
       "            0,   0,   0,   0],\n",
       "         [  0,   0,   0,   0,   0,   0,   0,   0,   0,   0,   0,  11,\n",
       "          190, 253,  70,   0,   0,   0,   0,   0,   0,   0,   0,   0,\n",
       "            0,   0,   0,   0],\n",
       "         [  0,   0,   0,   0,   0,   0,   0,   0,   0,   0,   0,   0,\n",
       "           35, 241, 225, 160, 108,   1,   0,   0,   0,   0,   0,   0,\n",
       "            0,   0,   0,   0],\n",
       "         [  0,   0,   0,   0,   0,   0,   0,   0,   0,   0,   0,   0,\n",
       "            0,  81, 240, 253, 253, 119,  25,   0,   0,   0,   0,   0,\n",
       "            0,   0,   0,   0],\n",
       "         [  0,   0,   0,   0,   0,   0,   0,   0,   0,   0,   0,   0,\n",
       "            0,   0,  45, 186, 253, 253, 150,  27,   0,   0,   0,   0,\n",
       "            0,   0,   0,   0],\n",
       "         [  0,   0,   0,   0,   0,   0,   0,   0,   0,   0,   0,   0,\n",
       "            0,   0,   0,  16,  93, 252, 253, 187,   0,   0,   0,   0,\n",
       "            0,   0,   0,   0],\n",
       "         [  0,   0,   0,   0,   0,   0,   0,   0,   0,   0,   0,   0,\n",
       "            0,   0,   0,   0,   0, 249, 253, 249,  64,   0,   0,   0,\n",
       "            0,   0,   0,   0],\n",
       "         [  0,   0,   0,   0,   0,   0,   0,   0,   0,   0,   0,   0,\n",
       "            0,   0,  46, 130, 183, 253, 253, 207,   2,   0,   0,   0,\n",
       "            0,   0,   0,   0],\n",
       "         [  0,   0,   0,   0,   0,   0,   0,   0,   0,   0,   0,   0,\n",
       "           39, 148, 229, 253, 253, 253, 250, 182,   0,   0,   0,   0,\n",
       "            0,   0,   0,   0],\n",
       "         [  0,   0,   0,   0,   0,   0,   0,   0,   0,   0,  24, 114,\n",
       "          221, 253, 253, 253, 253, 201,  78,   0,   0,   0,   0,   0,\n",
       "            0,   0,   0,   0],\n",
       "         [  0,   0,   0,   0,   0,   0,   0,   0,  23,  66, 213, 253,\n",
       "          253, 253, 253, 198,  81,   2,   0,   0,   0,   0,   0,   0,\n",
       "            0,   0,   0,   0],\n",
       "         [  0,   0,   0,   0,   0,   0,  18, 171, 219, 253, 253, 253,\n",
       "          253, 195,  80,   9,   0,   0,   0,   0,   0,   0,   0,   0,\n",
       "            0,   0,   0,   0],\n",
       "         [  0,   0,   0,   0,  55, 172, 226, 253, 253, 253, 253, 244,\n",
       "          133,  11,   0,   0,   0,   0,   0,   0,   0,   0,   0,   0,\n",
       "            0,   0,   0,   0],\n",
       "         [  0,   0,   0,   0, 136, 253, 253, 253, 212, 135, 132,  16,\n",
       "            0,   0,   0,   0,   0,   0,   0,   0,   0,   0,   0,   0,\n",
       "            0,   0,   0,   0],\n",
       "         [  0,   0,   0,   0,   0,   0,   0,   0,   0,   0,   0,   0,\n",
       "            0,   0,   0,   0,   0,   0,   0,   0,   0,   0,   0,   0,\n",
       "            0,   0,   0,   0],\n",
       "         [  0,   0,   0,   0,   0,   0,   0,   0,   0,   0,   0,   0,\n",
       "            0,   0,   0,   0,   0,   0,   0,   0,   0,   0,   0,   0,\n",
       "            0,   0,   0,   0],\n",
       "         [  0,   0,   0,   0,   0,   0,   0,   0,   0,   0,   0,   0,\n",
       "            0,   0,   0,   0,   0,   0,   0,   0,   0,   0,   0,   0,\n",
       "            0,   0,   0,   0]]], dtype=uint8))"
      ]
     },
     "execution_count": 7,
     "metadata": {},
     "output_type": "execute_result"
    }
   ],
   "source": [
    "y_train[:1], X_train[:1] # y_train 첫번째 값 5, X_train[:1]은 28*28 한 장"
   ]
  },
  {
   "cell_type": "markdown",
   "id": "f92a0df3-0c16-40e5-a1fb-24e9e094fdb3",
   "metadata": {},
   "source": [
    "# EDA"
   ]
  },
  {
   "cell_type": "code",
   "execution_count": 8,
   "id": "347b6281-78f7-4681-928d-ebb4e389a0fd",
   "metadata": {},
   "outputs": [
    {
     "name": "stdout",
     "output_type": "stream",
     "text": [
      "(60000, 28, 28)\n"
     ]
    },
    {
     "data": {
      "image/png": "[encoded data removed]",
      "text/plain": [
       "<Figure size 1440x648 with 30 Axes>"
      ]
     },
     "metadata": {},
     "output_type": "display_data"
    }
   ],
   "source": [
    "# import matplotlib.pyplot as plt\n",
    "p, axes = plt.subplots(3,10,figsize=(20,9))\n",
    "\n",
    "print(X_train.shape)\n",
    "X_train.shape[0]\n",
    "for i in range(30): # range(X_train[:30].shape[0]) 해도 된다.\n",
    "    row=i//10\n",
    "    col=i%10\n",
    "    axes[row,col].imshow(X_train[i]) #, cmap=plt.get_cmap('gray'))\n",
    "    axes[row,col].set_title(y_train[i])\n",
    "plt.show()"
   ]
  },
  {
   "cell_type": "markdown",
   "id": "335fc913-4192-4b08-92f4-57c0d7a7bd22",
   "metadata": {},
   "source": [
    "## 미션: 0~9까지 10 개씩만 찍어보세요."
   ]
  },
  {
   "cell_type": "code",
   "execution_count": 13,
   "id": "699406af-b797-4b91-85d8-e11629acf3df",
   "metadata": {},
   "outputs": [
    {
     "data": {
      "text/plain": [
       "1    6742\n",
       "7    6265\n",
       "3    6131\n",
       "2    5958\n",
       "9    5949\n",
       "0    5923\n",
       "6    5918\n",
       "8    5851\n",
       "4    5842\n",
       "5    5421\n",
       "dtype: int64"
      ]
     },
     "execution_count": 13,
     "metadata": {},
     "output_type": "execute_result"
    }
   ],
   "source": [
    "pd.Series(y_train).value_counts()"
   ]
  },
  {
   "cell_type": "code",
   "execution_count": 15,
   "id": "fae1d168-d527-4a28-a167-5db59ebd9c8a",
   "metadata": {},
   "outputs": [],
   "source": [
    "y_train_s=pd.Series(y_train)"
   ]
  },
  {
   "cell_type": "code",
   "execution_count": 27,
   "id": "73751c7d-df7a-4824-adab-c465b33ffa99",
   "metadata": {},
   "outputs": [
    {
     "data": {
      "text/plain": [
       "(28, 28)"
      ]
     },
     "execution_count": 27,
     "metadata": {},
     "output_type": "execute_result"
    }
   ],
   "source": [
    "X_train[6].shape"
   ]
  },
  {
   "cell_type": "code",
   "execution_count": 50,
   "id": "749e85f7-9833-4514-b67b-ea54e60371ad",
   "metadata": {},
   "outputs": [
    {
     "data": {
      "text/plain": [
       "1    6742\n",
       "7    6265\n",
       "3    6131\n",
       "2    5958\n",
       "9    5949\n",
       "0    5923\n",
       "6    5918\n",
       "8    5851\n",
       "4    5842\n",
       "5    5421\n",
       "dtype: int64"
      ]
     },
     "execution_count": 50,
     "metadata": {},
     "output_type": "execute_result"
    }
   ],
   "source": [
    "y_train_s.value_counts()"
   ]
  },
  {
   "cell_type": "code",
   "execution_count": 49,
   "id": "b473fc3d-4a21-4fe5-aced-310cfe6dedfd",
   "metadata": {},
   "outputs": [
    {
     "data": {
      "image/png": "[encoded data removed]",
      "text/plain": [
       "<Figure size 2880x1440 with 100 Axes>"
      ]
     },
     "metadata": {},
     "output_type": "display_data"
    }
   ],
   "source": [
    "p, axes = plt.subplots(10,10,figsize=(40,20))\n",
    "for num in range(10):\n",
    "    for n, idx in enumerate(y_train_s[y_train_s==num].index[:10]):\n",
    "        row=n//10+num\n",
    "        col=n%10\n",
    "        # print(num, n,idx,row,col)\n",
    "        axes[row,col].imshow(X_train[idx]) #, cmap=plt.get_cmap('gray'))\n",
    "        axes[row,col].set_title(y_train[idx])\n",
    "plt.show()"
   ]
  },
  {
   "cell_type": "code",
   "execution_count": 47,
   "id": "57251f5d-f338-42e7-b772-b79d597d8fcd",
   "metadata": {},
   "outputs": [],
   "source": [
    "# 두 줄 씩 배열하려면 +num*2 해야 함.\n",
    "# p, axes = plt.subplots(20,5,figsize=(40,20))\n",
    "# for num in range(10):\n",
    "#     for n, idx in enumerate(y_train_s[y_train_s==num].index[:10]):\n",
    "#         row=n//5+2*num\n",
    "#         col=n%5\n",
    "#         # print(num, n,idx,row,col)\n",
    "#         axes[row,col].imshow(X_train[idx]) #, cmap=plt.get_cmap('gray'))\n",
    "#         axes[row,col].set_title(y_train[idx])\n",
    "# plt.show()"
   ]
  },
  {
   "cell_type": "code",
   "execution_count": 51,
   "id": "ec1c8414-0dc9-4620-813a-4c10222cef9a",
   "metadata": {},
   "outputs": [],
   "source": [
    "# 강사님 방법 참고\n",
    "# idx_list.extend와 idx_lsit.append 차이: append는 idx_list이런 거 붙여서 더하고 extend는 요소값만 더함."
   ]
  },
  {
   "cell_type": "markdown",
   "id": "64342d0e-3ec7-4ca9-885d-76d818807fc8",
   "metadata": {},
   "source": [
    "# X데이터 flatten() 화"
   ]
  },
  {
   "cell_type": "markdown",
   "id": "65a64dbd-c255-4c17-86bd-86c1a80679f1",
   "metadata": {},
   "source": [
    "<pre>\n",
    "* 3D array --> 2D array(여야 할듯? 강사님은 2D => 1D라고 하심)\n",
    "X_train.shape : (60000, 28, 28)\n",
    "줄: 데이터 개수\n",
    "칸: 28*28 = 784 만큼."
   ]
  },
  {
   "cell_type": "code",
   "execution_count": 53,
   "id": "2a14653a-3e1d-4c40-af59-43c0477f169c",
   "metadata": {},
   "outputs": [
    {
     "data": {
      "text/plain": [
       "((60000, 28, 28), (10000, 28, 28))"
      ]
     },
     "execution_count": 53,
     "metadata": {},
     "output_type": "execute_result"
    }
   ],
   "source": [
    "X_train.shape, X_test.shape"
   ]
  },
  {
   "cell_type": "code",
   "execution_count": 54,
   "id": "02d9d74d-38b6-48dd-b92d-76965b0d3707",
   "metadata": {},
   "outputs": [],
   "source": [
    "# 이거 안 하면 shape에러 난다.\n",
    "input_shape = X_train.shape[1]*X_train.shape[2]\n",
    "X_train = X_train.reshape(-1, input_shape)  # 3차원 -> 2차원\n",
    "X_test = X_test.reshape(-1, input_shape)"
   ]
  },
  {
   "cell_type": "code",
   "execution_count": 55,
   "id": "6837d6e3-6025-452c-8cf7-2f4cd5c403c6",
   "metadata": {},
   "outputs": [],
   "source": [
    "# 강사님 방법\n",
    "# X_train = X_train.reshape(X_train.shape[0], 784) # 784=28*28\n",
    "# X_test = X_test.reshape(X_test.shape[0], 784) # 784=28*28"
   ]
  },
  {
   "cell_type": "code",
   "execution_count": 56,
   "id": "782a11a4-1800-4970-afce-438c6699d587",
   "metadata": {},
   "outputs": [
    {
     "data": {
      "text/plain": [
       "((60000, 784), (10000, 784))"
      ]
     },
     "execution_count": 56,
     "metadata": {},
     "output_type": "execute_result"
    }
   ],
   "source": [
    "X_train.shape, X_test.shape"
   ]
  },
  {
   "cell_type": "markdown",
   "id": "a7f52133-75d8-46b8-af46-3d79ae58f2b1",
   "metadata": {},
   "source": [
    "# y label 평준화\n",
    "y_label : integers in range 0-9"
   ]
  },
  {
   "cell_type": "markdown",
   "id": "78d59a71-c3d0-4099-9566-f9319907764e",
   "metadata": {},
   "source": [
    "<pre>\n",
    "* ML : arr.LabelEncoder() 글->숫, arr.OneHotEncoder() 1 0 0 0 ... df.get_dummies() 결측처리, 글->숫, 원핫"
   ]
  },
  {
   "cell_type": "code",
   "execution_count": 57,
   "id": "0ba03270-7d7c-45c0-9d65-a81f79caa5e2",
   "metadata": {},
   "outputs": [
    {
     "name": "stdout",
     "output_type": "stream",
     "text": [
      "[5 0 4 1 9]\n",
      "[[0 0 0 0 0 1 0 0 0 0]\n",
      " [1 0 0 0 0 0 0 0 0 0]\n",
      " [0 0 0 0 1 0 0 0 0 0]\n",
      " [0 1 0 0 0 0 0 0 0 0]\n",
      " [0 0 0 0 0 0 0 0 0 1]]\n"
     ]
    }
   ],
   "source": [
    "from tensorflow.keras.utils import to_categorical\n",
    "\n",
    "print(y_train[:5])\n",
    "y_train=to_categorical(y=y_train, num_classes=10, dtype='int32') # class 숫자 찍어줘야함\n",
    "y_test=to_categorical(y=y_test, num_classes=10, dtype='int32')\n",
    "print(y_train[:5]) # 원핫 인코딩화 되었다."
   ]
  },
  {
   "cell_type": "code",
   "execution_count": 58,
   "id": "61126794-cbee-4efd-9507-f6f246a6d112",
   "metadata": {},
   "outputs": [
    {
     "name": "stdout",
     "output_type": "stream",
     "text": [
      "[[0 0 0 0 0 1 0 0 0 0]\n",
      " [1 0 0 0 0 0 0 0 0 0]\n",
      " [0 0 0 0 1 0 0 0 0 0]\n",
      " [0 1 0 0 0 0 0 0 0 0]\n",
      " [0 0 0 0 0 0 0 0 0 1]] (60000, 10)\n",
      "[[0 0 0 0 0 0 0 1 0 0]\n",
      " [0 0 1 0 0 0 0 0 0 0]\n",
      " [0 1 0 0 0 0 0 0 0 0]\n",
      " [1 0 0 0 0 0 0 0 0 0]\n",
      " [0 0 0 0 1 0 0 0 0 0]] (10000, 10)\n"
     ]
    }
   ],
   "source": [
    "print(y_train[:5], y_train.shape) # 원핫 인코딩화 되었다.\n",
    "print(y_test[:5], y_test.shape) # 원핫 인코딩화 되었다."
   ]
  },
  {
   "cell_type": "markdown",
   "id": "a867062d-5296-4b98-be39-0d3eb195ded8",
   "metadata": {},
   "source": [
    "# Model"
   ]
  },
  {
   "cell_type": "markdown",
   "id": "a004fc03-525e-4bb3-964d-64aa599e5778",
   "metadata": {},
   "source": [
    "<pre>\n",
    "* Activation Function : sigmoid(0~1), tanh(-1~1), softmax(0~...n) relu(0,val)"
   ]
  },
  {
   "cell_type": "code",
   "execution_count": 79,
   "id": "bb9e9100-91e6-48b3-8aa0-95bd67d34876",
   "metadata": {},
   "outputs": [],
   "source": [
    "model=Sequential()\n",
    "\n",
    "# model.add(Dense(units=100 , activation='relu' ,input_dim=784)) # 784=28*28 한 줄로 폈을 때\n",
    "model.add(Dense(units=64 , activation='relu' ,input_shape=(28*28,))) # 784=28*28 한 줄로 폈을 때. 28*28 뒤 쉼표는 몇 장 넣을지.\n",
    "model.add(Dense(units=32 , activation='relu'))\n",
    "model.add(Dense(units=16 , activation='relu'))\n",
    "model.add(Dense(units=10 , activation='softmax')) # 다중분류 예측(0~9)\n",
    "\n",
    "\n",
    "\n",
    "# model.add(Dense(units=10 , activation='sigmoid')) # 내가 쓴 것. 다중분류????? to_categorical 하면 0~1 맞추는 거 아닌가"
   ]
  },
  {
   "cell_type": "code",
   "execution_count": 80,
   "id": "0001a8c0-a986-4528-a3a3-63bd5d597d21",
   "metadata": {},
   "outputs": [
    {
     "name": "stdout",
     "output_type": "stream",
     "text": [
      "Model: \"sequential_2\"\n",
      "_________________________________________________________________\n",
      " Layer (type)                Output Shape              Param #   \n",
      "=================================================================\n",
      " dense_8 (Dense)             (None, 64)                50240     \n",
      "                                                                 \n",
      " dense_9 (Dense)             (None, 32)                2080      \n",
      "                                                                 \n",
      " dense_10 (Dense)            (None, 16)                528       \n",
      "                                                                 \n",
      " dense_11 (Dense)            (None, 10)                170       \n",
      "                                                                 \n",
      "=================================================================\n",
      "Total params: 53,018\n",
      "Trainable params: 53,018\n",
      "Non-trainable params: 0\n",
      "_________________________________________________________________\n"
     ]
    }
   ],
   "source": [
    "model.summary()"
   ]
  },
  {
   "cell_type": "markdown",
   "id": "2debdc03-3910-4fb4-98d9-311f4408b67c",
   "metadata": {},
   "source": [
    "<pre>\n",
    "* model.compile : lom\n",
    "* model.compile(loss = '', optimizer='', metrics=[''])\n",
    "\n",
    "* optimizer : back-propagation(역전파) 이용해서 편미분한 값을 이용해 가중치 최적화\n",
    "gd(경사하강)\n",
    "sgd(확률적 샘플링 경사하강)\n",
    "momentum(가속도v*learning_rate)\n",
    "adagrade(피쳐 별로 weight를 다르게 조정)\n",
    "adam(momentum+adagrade)\n",
    "rmsprop(...)\n",
    "\n",
    "* loss : 오류\n",
    "회귀: mse\n",
    "분류: 이진분류 손실함수(sigmoid)   ------- 손실값(crossentropy) class=2\n",
    "      다중분류 손실함수(softmax)   ------- 손실값(crossentropy) class > 2\n",
    "      \n",
    "      -> binary_crossentropy(원본값) : 0,1 또는 1,2 둘 중 하나일 때 (sparse_crossentropy도 가능)\n",
    "          sparse_crossentropy(원본값) : 0~9~..... 여러 개 중 하나일 때\n",
    "         categorical_crossentropy(원핫) : 0,0,0,0,0,1 (이런식)\n",
    "                  "
   ]
  },
  {
   "cell_type": "code",
   "execution_count": 81,
   "id": "3bef72a5-0b20-47dc-8ca7-a02f7ee1f678",
   "metadata": {},
   "outputs": [],
   "source": [
    "model.compile(loss='categorical_crossentropy', # logloss라고 써도 된다.\n",
    "             optimizer='adam',\n",
    "             metrics='accuracy')"
   ]
  },
  {
   "cell_type": "code",
   "execution_count": 82,
   "id": "802e085f-a95a-45d5-90c3-0f0df00d5431",
   "metadata": {},
   "outputs": [
    {
     "name": "stdout",
     "output_type": "stream",
     "text": [
      "Epoch 1/30\n",
      "422/422 [==============================] - 2s 3ms/step - loss: 2.1438 - accuracy: 0.4886 - val_loss: 1.0278 - val_accuracy: 0.6405\n",
      "Epoch 2/30\n",
      "422/422 [==============================] - 1s 3ms/step - loss: 0.8326 - accuracy: 0.7180 - val_loss: 0.5782 - val_accuracy: 0.8303\n",
      "Epoch 3/30\n",
      "422/422 [==============================] - 1s 3ms/step - loss: 0.4811 - accuracy: 0.8663 - val_loss: 0.3464 - val_accuracy: 0.9138\n",
      "Epoch 4/30\n",
      "422/422 [==============================] - 1s 3ms/step - loss: 0.3327 - accuracy: 0.9083 - val_loss: 0.2920 - val_accuracy: 0.9282\n",
      "Epoch 5/30\n",
      "422/422 [==============================] - 1s 3ms/step - loss: 0.2617 - accuracy: 0.9283 - val_loss: 0.2565 - val_accuracy: 0.9368\n",
      "Epoch 6/30\n",
      "422/422 [==============================] - 1s 2ms/step - loss: 0.2187 - accuracy: 0.9399 - val_loss: 0.2373 - val_accuracy: 0.9413\n",
      "Epoch 7/30\n",
      "422/422 [==============================] - 1s 2ms/step - loss: 0.1838 - accuracy: 0.9494 - val_loss: 0.2185 - val_accuracy: 0.9485\n",
      "Epoch 8/30\n",
      "422/422 [==============================] - 1s 2ms/step - loss: 0.1670 - accuracy: 0.9533 - val_loss: 0.1992 - val_accuracy: 0.9512\n",
      "Epoch 9/30\n",
      "422/422 [==============================] - 1s 2ms/step - loss: 0.1388 - accuracy: 0.9606 - val_loss: 0.1898 - val_accuracy: 0.9535\n",
      "Epoch 10/30\n",
      "422/422 [==============================] - 1s 2ms/step - loss: 0.1277 - accuracy: 0.9641 - val_loss: 0.1739 - val_accuracy: 0.9582\n",
      "Epoch 11/30\n",
      "422/422 [==============================] - 1s 2ms/step - loss: 0.1138 - accuracy: 0.9680 - val_loss: 0.1633 - val_accuracy: 0.9623\n",
      "Epoch 12/30\n",
      "422/422 [==============================] - 1s 2ms/step - loss: 0.1058 - accuracy: 0.9689 - val_loss: 0.1542 - val_accuracy: 0.9622\n",
      "Epoch 13/30\n",
      "422/422 [==============================] - 1s 2ms/step - loss: 0.0915 - accuracy: 0.9732 - val_loss: 0.1595 - val_accuracy: 0.9630\n",
      "Epoch 14/30\n",
      "422/422 [==============================] - 1s 3ms/step - loss: 0.0856 - accuracy: 0.9749 - val_loss: 0.1477 - val_accuracy: 0.9650\n",
      "Epoch 15/30\n",
      "422/422 [==============================] - 1s 2ms/step - loss: 0.0763 - accuracy: 0.9779 - val_loss: 0.1544 - val_accuracy: 0.9638\n",
      "Epoch 16/30\n",
      "422/422 [==============================] - 1s 2ms/step - loss: 0.0711 - accuracy: 0.9792 - val_loss: 0.1587 - val_accuracy: 0.9623\n",
      "Epoch 17/30\n",
      "422/422 [==============================] - 1s 2ms/step - loss: 0.0712 - accuracy: 0.9784 - val_loss: 0.1510 - val_accuracy: 0.9648\n",
      "Epoch 18/30\n",
      "422/422 [==============================] - 1s 2ms/step - loss: 0.0616 - accuracy: 0.9816 - val_loss: 0.1468 - val_accuracy: 0.9678\n",
      "Epoch 19/30\n",
      "422/422 [==============================] - 1s 2ms/step - loss: 0.0588 - accuracy: 0.9820 - val_loss: 0.1352 - val_accuracy: 0.9695\n",
      "Epoch 20/30\n",
      "422/422 [==============================] - 1s 2ms/step - loss: 0.0573 - accuracy: 0.9826 - val_loss: 0.1360 - val_accuracy: 0.9698\n",
      "Epoch 21/30\n",
      "422/422 [==============================] - 1s 2ms/step - loss: 0.0533 - accuracy: 0.9846 - val_loss: 0.1381 - val_accuracy: 0.9683\n",
      "Epoch 22/30\n",
      "422/422 [==============================] - 1s 2ms/step - loss: 0.0490 - accuracy: 0.9849 - val_loss: 0.1484 - val_accuracy: 0.9662\n",
      "Epoch 23/30\n",
      "422/422 [==============================] - 1s 2ms/step - loss: 0.0455 - accuracy: 0.9861 - val_loss: 0.1433 - val_accuracy: 0.9697\n",
      "Epoch 24/30\n",
      "422/422 [==============================] - 1s 2ms/step - loss: 0.0445 - accuracy: 0.9863 - val_loss: 0.1784 - val_accuracy: 0.9630\n",
      "Epoch 25/30\n",
      "422/422 [==============================] - 1s 2ms/step - loss: 0.0434 - accuracy: 0.9869 - val_loss: 0.1610 - val_accuracy: 0.9653\n",
      "Epoch 26/30\n",
      "422/422 [==============================] - 1s 2ms/step - loss: 0.0405 - accuracy: 0.9873 - val_loss: 0.1563 - val_accuracy: 0.9663\n",
      "Epoch 27/30\n",
      "422/422 [==============================] - 1s 2ms/step - loss: 0.0341 - accuracy: 0.9895 - val_loss: 0.1430 - val_accuracy: 0.9678\n",
      "Epoch 28/30\n",
      "422/422 [==============================] - 1s 2ms/step - loss: 0.0355 - accuracy: 0.9891 - val_loss: 0.1515 - val_accuracy: 0.9675\n",
      "Epoch 29/30\n",
      "422/422 [==============================] - 1s 2ms/step - loss: 0.0364 - accuracy: 0.9888 - val_loss: 0.1657 - val_accuracy: 0.9643\n",
      "Epoch 30/30\n",
      "422/422 [==============================] - 1s 2ms/step - loss: 0.0292 - accuracy: 0.9911 - val_loss: 0.1624 - val_accuracy: 0.9680\n"
     ]
    }
   ],
   "source": [
    "res=model.fit(X_train,y_train,\n",
    "              batch_size=128,   # 128바이트씩 끊어서 읽어라\n",
    "              validation_split=0.1,\n",
    "              # validation_data=(X_test,y_test),\n",
    "              epochs=30\n",
    "                )"
   ]
  },
  {
   "cell_type": "markdown",
   "id": "235fa9d3-8050-441f-b14c-e9f309f2bc8a",
   "metadata": {},
   "source": [
    "# test 데이터 예측"
   ]
  },
  {
   "cell_type": "code",
   "execution_count": 83,
   "id": "b3da63b7-fd3b-4483-b856-f5e0b49b532d",
   "metadata": {},
   "outputs": [
    {
     "name": "stdout",
     "output_type": "stream",
     "text": [
      "313/313 [==============================] - 0s 1ms/step - loss: 0.1806 - accuracy: 0.9679\n"
     ]
    }
   ],
   "source": [
    "# 한 번도 안 보여준 데이터 맞춰봐\n",
    "loss_cateforical_crossentropy, metrics_accuracy = model.evaluate(X_test, y_test) "
   ]
  },
  {
   "cell_type": "markdown",
   "id": "e49a05b1-79c4-4c22-bc47-9baecf7bc4b7",
   "metadata": {},
   "source": [
    "# 평가 시각화"
   ]
  },
  {
   "cell_type": "code",
   "execution_count": 84,
   "id": "a54d3975-2e8a-4fd7-a99e-936b8564254a",
   "metadata": {},
   "outputs": [
    {
     "data": {
      "image/png": "[encoded data removed]",
      "text/plain": [
       "<Figure size 432x288 with 1 Axes>"
      ]
     },
     "metadata": {},
     "output_type": "display_data"
    }
   ],
   "source": [
    "plt.plot(np.arange(len(res.history['loss'])), res.history['loss'], c='red', label='loss')\n",
    "plt.plot(np.arange(len(res.history['val_loss'])), res.history['val_loss'], c='blue', label='val_loss')\n",
    "plt.legend()\n",
    "plt.show()"
   ]
  },
  {
   "cell_type": "code",
   "execution_count": 85,
   "id": "52b0a7ee-db5a-438e-bd51-d53845427e4d",
   "metadata": {},
   "outputs": [
    {
     "data": {
      "image/png": "[encoded data removed]",
      "text/plain": [
       "<Figure size 432x288 with 1 Axes>"
      ]
     },
     "metadata": {},
     "output_type": "display_data"
    }
   ],
   "source": [
    "plt.plot(np.arange(len(res.history['accuracy'])), res.history['accuracy'], c='red', label='accuracy')\n",
    "plt.plot(np.arange(len(res.history['val_accuracy'])), res.history['val_accuracy'], c='blue', label='val_accuracy')\n",
    "plt.legend()\n",
    "plt.show()"
   ]
  },
  {
   "cell_type": "markdown",
   "id": "870be22f-292c-4883-8d36-20c3f33690c9",
   "metadata": {},
   "source": [
    "# 오답 확인(검증)"
   ]
  },
  {
   "cell_type": "markdown",
   "id": "1f8fd3e1-3541-4c60-ae98-68b1ca78baf3",
   "metadata": {},
   "source": [
    "<pre>\n",
    "마지막 activation softmax일 때\n",
    "array([[1.13563655e-11, 4.09593217e-14, 3.44085223e-23, ...,\n",
    "        1.67893665e-28, 9.50522733e-12, 5.38400990e-11],\n",
    "       [9.99997973e-01, 1.86131458e-14, 1.95500684e-06, ...,\n",
    "        1.15688993e-10, 5.19868726e-09, 2.61993023e-08],\n",
    "       [1.36705456e-11, 1.35698246e-15, 9.77170398e-31, ...,\n",
    "        3.26508331e-14, 1.54656667e-18, 4.22236361e-08],\n",
    "       ...,\n",
    "       [2.52357085e-14, 1.33963915e-15, 1.56802344e-26, ...,\n",
    "        0.00000000e+00, 2.04294264e-12, 1.61712809e-15],\n",
    "       [2.76852757e-06, 2.37285275e-10, 9.00545694e-15, ...,\n",
    "        2.94714961e-21, 2.96000091e-09, 2.53697596e-09],\n",
    "       [1.49634752e-06, 3.84673285e-07, 5.38747770e-07, ...,\n",
    "        5.42919099e-10, 9.99994040e-01, 2.84778025e-06]], dtype=float32)\n",
    "\n",
    "\n",
    "마지막 activation sigmoid일 때\n",
    "array([[9.9661779e-01, 8.8259023e-01, 6.9181020e-05, ..., 9.9164963e-01,\n",
    "        9.9969864e-01, 1.3897926e-02],\n",
    "       [1.0000000e+00, 2.0549580e-01, 9.9998891e-01, ..., 7.2676921e-01,\n",
    "        9.7586262e-01, 9.9989325e-01],\n",
    "       [8.6293136e-07, 2.6617295e-06, 9.9933469e-01, ..., 1.2680653e-01,\n",
    "        9.2893493e-01, 7.1668248e-05],\n",
    "       ...,\n",
    "       [1.0000000e+00, 9.9986327e-01, 8.2485935e-11, ..., 1.0000000e+00,\n",
    "        1.0000000e+00, 1.3217325e-05],\n",
    "       [8.5758209e-01, 6.0521007e-02, 4.1734385e-01, ..., 3.5417706e-02,\n",
    "        7.6476723e-02, 3.0084848e-03],\n",
    "       [1.1282463e-06, 4.9108565e-03, 7.1209371e-03, ..., 7.1980626e-06,\n",
    "        9.9722326e-01, 3.1024814e-03]], dtype=float32)"
   ]
  },
  {
   "cell_type": "code",
   "execution_count": null,
   "id": "4397f509-627d-4189-a627-5f53373bd346",
   "metadata": {},
   "outputs": [],
   "source": []
  },
  {
   "cell_type": "code",
   "execution_count": 121,
   "id": "3fed2174-f09b-432e-8ccf-5e6776431bf9",
   "metadata": {},
   "outputs": [],
   "source": [
    "# model(X_test) # 이렇게 하면 tf.Tensor형태라 값만 빼오기 어렵다.\n",
    "# ans=model(X_test)"
   ]
  },
  {
   "cell_type": "code",
   "execution_count": 133,
   "id": "15b2c234-8a9b-469e-ab84-99e6d786b9aa",
   "metadata": {},
   "outputs": [
    {
     "name": "stdout",
     "output_type": "stream",
     "text": [
      "[[3.2699505e-13 1.0349015e-09 1.8672623e-07 5.8743863e-06 1.3602774e-20\n",
      "  1.1846583e-22 0.0000000e+00 9.9999380e-01 1.5753494e-07 1.3302332e-11]\n",
      " [6.5144569e-17 5.5791101e-05 9.9994421e-01 7.1246191e-14 1.2105542e-10\n",
      "  2.1392391e-22 5.6724192e-16 9.3335784e-09 8.1593556e-21 4.8789232e-22]]\n"
     ]
    }
   ],
   "source": [
    "proba=model.predict(X_test)\n",
    "print(proba[:2])"
   ]
  },
  {
   "cell_type": "code",
   "execution_count": 152,
   "id": "766f4614-a3f3-42c1-92dc-7bd407a327f6",
   "metadata": {},
   "outputs": [
    {
     "data": {
      "text/plain": [
       "0.9999938"
      ]
     },
     "execution_count": 152,
     "metadata": {},
     "output_type": "execute_result"
    }
   ],
   "source": [
    "proba[0].max()"
   ]
  },
  {
   "cell_type": "code",
   "execution_count": 154,
   "id": "0c498a08-4a7a-4dcd-ae42-b7974d084676",
   "metadata": {},
   "outputs": [
    {
     "data": {
      "text/plain": [
       "10000"
      ]
     },
     "execution_count": 154,
     "metadata": {},
     "output_type": "execute_result"
    }
   ],
   "source": [
    "proba.shape[0]"
   ]
  },
  {
   "cell_type": "code",
   "execution_count": 208,
   "id": "5a317698-62ee-4440-b76c-5eb7463f97cc",
   "metadata": {},
   "outputs": [],
   "source": [
    "# 최대값 찾기 - by csh\n",
    "# max=proba[0].max()\n",
    "# np.where(proba[0] == max)[0][0]\n",
    "\n",
    "# np.argmax() 하면 편하다."
   ]
  },
  {
   "cell_type": "code",
   "execution_count": 209,
   "id": "703426b4-f791-4d2c-a02f-85efbda0f39d",
   "metadata": {},
   "outputs": [],
   "source": [
    "pred_list=[]\n",
    "for i in range(proba.shape[0]):\n",
    "    pred_list.append(np.argmax(proba[i])) # np.argmax: 가장 큰 값을 가지고 있는 인덱스 리턴 "
   ]
  },
  {
   "cell_type": "code",
   "execution_count": 210,
   "id": "fe97c9b1-b87c-4543-a79f-659c52608165",
   "metadata": {},
   "outputs": [],
   "source": [
    "pred_s=pd.Series(pred_list, name='pred')"
   ]
  },
  {
   "cell_type": "code",
   "execution_count": 211,
   "id": "4c2457a3-6f72-47fd-9ec7-0d052489eb59",
   "metadata": {},
   "outputs": [],
   "source": [
    "real_list=[]\n",
    "for i in range(y_test.shape[0]):\n",
    "    real_list.append(np.argmax(y_test[i]))"
   ]
  },
  {
   "cell_type": "code",
   "execution_count": 212,
   "id": "7895495e-266f-4db9-bcd4-ea80f9ec2b53",
   "metadata": {},
   "outputs": [],
   "source": [
    "real_s=pd.Series(real_list, name='real')"
   ]
  },
  {
   "cell_type": "code",
   "execution_count": 213,
   "id": "ef58f857-c6b3-407e-8615-f5ca63775645",
   "metadata": {},
   "outputs": [],
   "source": [
    "df=pd.concat([pred_s, real_s], axis=1)"
   ]
  },
  {
   "cell_type": "code",
   "execution_count": 214,
   "id": "cfd02556-4a47-4ff1-89a7-eb4665bb8f88",
   "metadata": {},
   "outputs": [
    {
     "data": {
      "text/plain": [
       "Int64Index([   8,   43,  149,  151,  175,  233,  247,  321,  340,  404,\n",
       "            ...\n",
       "            9749, 9768, 9770, 9792, 9793, 9808, 9839, 9888, 9904, 9940],\n",
       "           dtype='int64', length=321)"
      ]
     },
     "execution_count": 214,
     "metadata": {},
     "output_type": "execute_result"
    }
   ],
   "source": [
    "df[df['pred']!=df['real']].index"
   ]
  },
  {
   "cell_type": "code",
   "execution_count": 215,
   "id": "1f8114ba-577f-4748-be68-c38980c9bad0",
   "metadata": {},
   "outputs": [
    {
     "data": {
      "text/html": [
       "<div>\n",
       "<style scoped>\n",
       "    .dataframe tbody tr th:only-of-type {\n",
       "        vertical-align: middle;\n",
       "    }\n",
       "\n",
       "    .dataframe tbody tr th {\n",
       "        vertical-align: top;\n",
       "    }\n",
       "\n",
       "    .dataframe thead th {\n",
       "        text-align: right;\n",
       "    }\n",
       "</style>\n",
       "<table border=\"1\" class=\"dataframe\">\n",
       "  <thead>\n",
       "    <tr style=\"text-align: right;\">\n",
       "      <th></th>\n",
       "      <th>pred</th>\n",
       "      <th>real</th>\n",
       "    </tr>\n",
       "  </thead>\n",
       "  <tbody>\n",
       "    <tr>\n",
       "      <th>8</th>\n",
       "      <td>6</td>\n",
       "      <td>5</td>\n",
       "    </tr>\n",
       "    <tr>\n",
       "      <th>43</th>\n",
       "      <td>1</td>\n",
       "      <td>2</td>\n",
       "    </tr>\n",
       "    <tr>\n",
       "      <th>149</th>\n",
       "      <td>4</td>\n",
       "      <td>2</td>\n",
       "    </tr>\n",
       "    <tr>\n",
       "      <th>151</th>\n",
       "      <td>3</td>\n",
       "      <td>9</td>\n",
       "    </tr>\n",
       "    <tr>\n",
       "      <th>175</th>\n",
       "      <td>9</td>\n",
       "      <td>7</td>\n",
       "    </tr>\n",
       "    <tr>\n",
       "      <th>...</th>\n",
       "      <td>...</td>\n",
       "      <td>...</td>\n",
       "    </tr>\n",
       "    <tr>\n",
       "      <th>9808</th>\n",
       "      <td>4</td>\n",
       "      <td>9</td>\n",
       "    </tr>\n",
       "    <tr>\n",
       "      <th>9839</th>\n",
       "      <td>7</td>\n",
       "      <td>2</td>\n",
       "    </tr>\n",
       "    <tr>\n",
       "      <th>9888</th>\n",
       "      <td>5</td>\n",
       "      <td>6</td>\n",
       "    </tr>\n",
       "    <tr>\n",
       "      <th>9904</th>\n",
       "      <td>6</td>\n",
       "      <td>2</td>\n",
       "    </tr>\n",
       "    <tr>\n",
       "      <th>9940</th>\n",
       "      <td>2</td>\n",
       "      <td>6</td>\n",
       "    </tr>\n",
       "  </tbody>\n",
       "</table>\n",
       "<p>321 rows × 2 columns</p>\n",
       "</div>"
      ],
      "text/plain": [
       "      pred  real\n",
       "8        6     5\n",
       "43       1     2\n",
       "149      4     2\n",
       "151      3     9\n",
       "175      9     7\n",
       "...    ...   ...\n",
       "9808     4     9\n",
       "9839     7     2\n",
       "9888     5     6\n",
       "9904     6     2\n",
       "9940     2     6\n",
       "\n",
       "[321 rows x 2 columns]"
      ]
     },
     "execution_count": 215,
     "metadata": {},
     "output_type": "execute_result"
    }
   ],
   "source": [
    "df[df['pred']!=df['real']]"
   ]
  },
  {
   "cell_type": "code",
   "execution_count": 216,
   "id": "a3fc489f-4a4c-4787-92df-b6140cb80e42",
   "metadata": {},
   "outputs": [
    {
     "data": {
      "text/plain": [
       "(10000, 784)"
      ]
     },
     "execution_count": 216,
     "metadata": {},
     "output_type": "execute_result"
    }
   ],
   "source": [
    "X_test.shape"
   ]
  },
  {
   "cell_type": "code",
   "execution_count": 217,
   "id": "1f5a4b89-a8fb-4a2f-b742-b14de0af9609",
   "metadata": {},
   "outputs": [],
   "source": [
    "X_test_temp=X_test.reshape(10000,28,28)"
   ]
  },
  {
   "cell_type": "code",
   "execution_count": 218,
   "id": "7654b33e-0a4d-4e4d-88a1-350d617db473",
   "metadata": {},
   "outputs": [
    {
     "data": {
      "image/png": "[encoded data removed]",
      "text/plain": [
       "<Figure size 720x360 with 10 Axes>"
      ]
     },
     "metadata": {},
     "output_type": "display_data"
    }
   ],
   "source": [
    "p, axes = plt.subplots(2,5,figsize=(10,5))\n",
    "for n, idx in enumerate(df[df['pred']!=df['real']].index[:10]):\n",
    "    row=n//5\n",
    "    col=n%5\n",
    "    # print(num, n,idx,row,col)\n",
    "    axes[row,col].imshow(X_test_temp[idx]) #, cmap=plt.get_cmap('gray'))\n",
    "    axes[row,col].set_title((df.iloc[idx, 0], df.iloc[idx, 1]))\n",
    "plt.show()"
   ]
  },
  {
   "cell_type": "code",
   "execution_count": null,
   "id": "89bcb492-26a2-4e2e-b469-3310fadbdf02",
   "metadata": {},
   "outputs": [],
   "source": [
    "# proba=model.predict(X_test)"
   ]
  },
  {
   "cell_type": "code",
   "execution_count": null,
   "id": "cc8b1c55-695e-424f-b04e-167d43524fcf",
   "metadata": {},
   "outputs": [],
   "source": [
    "\n",
    "pred_list=[]\n",
    "for i in range(proba.shape[0]):\n",
    "    pred_list.append(np.argmax(proba[i])) # np.argmax: 가장 큰 값을 가지고 있는 인덱스 리턴 \n",
    "    \n",
    "pred_s=pd.Series(pred_list, name='pred')\n",
    "\n",
    "real_list=[]\n",
    "for i in range(y_test.shape[0]):\n",
    "    real_list.append(np.argmax(y_test[i]))\n",
    "    \n",
    "real_s=pd.Series(real_list, name='real')\n",
    "\n",
    "df=pd.concat([pred_s, real_s], axis=1)\n",
    "\n",
    "df[df['pred']!=df['real']].index\n",
    "\n",
    "df[df['pred']!=df['real']]\n",
    "\n",
    "X_test.shape\n",
    "\n",
    "X_test_temp=X_test.reshape(10000,28,28)\n",
    "\n",
    "p, axes = plt.subplots(2,5,figsize=(10,5))\n",
    "for n, idx in enumerate(df[df['pred']!=df['real']].index[:10]):\n",
    "    row=n//5\n",
    "    col=n%5\n",
    "    # print(num, n,idx,row,col)\n",
    "    axes[row,col].imshow(X_test_temp[idx]) #, cmap=plt.get_cmap('gray'))\n",
    "    axes[row,col].set_title((df.iloc[idx, 0], df.iloc[idx, 1]))\n",
    "plt.show()"
   ]
  },
  {
   "cell_type": "markdown",
   "id": "35c230e3-5ff6-41f9-a1b7-659593da4a25",
   "metadata": {},
   "source": [
    "### 강사님 -> 전체 코드 참고(아주 깔끔하다)"
   ]
  },
  {
   "cell_type": "code",
   "execution_count": 219,
   "id": "fbdfc47f-e8a1-4ae8-a15e-196d210eb963",
   "metadata": {},
   "outputs": [],
   "source": [
    "# 예측값 꺼내기 더 간편한 버전\n",
    "# for arr in proba:\n",
    "#     print(np.argmax(arr))"
   ]
  },
  {
   "cell_type": "code",
   "execution_count": null,
   "id": "67e7f862-2092-4212-973e-deaa61d70970",
   "metadata": {},
   "outputs": [],
   "source": [
    "# proba = model.predict(X_test)\n",
    "# print(len(proba), proba[:2])\n",
    "\n",
    "# list=[]\n",
    "# for arr in proba:\n",
    "#     list.append(np.argmax(arr))\n",
    "\n",
    "# ox_df = pd.DataFrame(dict형태로 어쩌고....)"
   ]
  },
  {
   "cell_type": "code",
   "execution_count": null,
   "id": "950fee2a-5c86-4aaa-9e20-2ea7e5c0b60b",
   "metadata": {},
   "outputs": [],
   "source": [
    "# for문 안에서 X_test[idx].reshape(28,28)해도 된다.\n",
    "# set_title(f\"{real} {pred}\")이렇게 하면 깔끔"
   ]
  },
  {
   "cell_type": "markdown",
   "id": "0f3fc8cc-9736-4545-bd05-c64386f6245c",
   "metadata": {},
   "source": [
    "### 왜 이렇게 오차가 클까?\n",
    "- rgb로 학습해서 자주색 빨간색같은 불필요한 정보가 들어온다.      => 흑백화\n",
    "- 큰 수치는 좋은 걸로 학습한다. -> rgb에서 큰 값을 좋게 해석한다. => 정규화(이미지에서는 min-max scale 주로 사용)\n",
    "cf. rgb 컬러 0~255 -> 비율을 유지하기 위해..????????????????????????????????????\n"
   ]
  },
  {
   "cell_type": "markdown",
   "id": "dedeb986-ead3-459c-80f7-f48baddbda74",
   "metadata": {},
   "source": [
    "# X 데이터 가공"
   ]
  },
  {
   "cell_type": "markdown",
   "id": "547d42b9-a236-4919-a19b-c8ac7c9f68ae",
   "metadata": {},
   "source": [
    "## 가공"
   ]
  },
  {
   "cell_type": "code",
   "execution_count": 226,
   "id": "e3aedefa-719b-4de4-94a7-dd615a177af5",
   "metadata": {},
   "outputs": [],
   "source": [
    "X_train_scaled=X_train/255.0\n",
    "X_test_scaled=X_test/255.0"
   ]
  },
  {
   "cell_type": "code",
   "execution_count": null,
   "id": "4e24e2d4-b4b5-4ebf-abea-ade9764d3646",
   "metadata": {},
   "outputs": [
    {
     "name": "stdout",
     "output_type": "stream",
     "text": [
      "[[  0   0   0   0   0   0   0   0   0   0   0   0   0   0   0   0   0   0\n",
      "    0   0   0   0   0   0   0   0   0   0   0   0   0   0   0   0   0   0\n",
      "    0   0   0   0   0   0   0   0   0   0   0   0   0   0   0   0   0   0\n",
      "    0   0   0   0   0   0   0   0   0   0   0   0   0   0   0   0   0   0\n",
      "    0   0   0   0   0   0   0   0   0   0   0   0   0   0   0   0   0   0\n",
      "    0   0   0   0   0   0   0   0   0   0   0   0   0   0   0   0   0   0\n",
      "    0   0   0   0   0   0   0   0   0   0   0   0   0   0   0   0   0   0\n",
      "    0   0   0   0   0   0   0   0   0   0   0   0   0   0   0   0   0   0\n",
      "    0   0   0   0   0   0   0   0   3  18  18  18 126 136 175  26 166 255\n",
      "  247 127   0   0   0   0   0   0   0   0   0   0   0   0  30  36  94 154\n",
      "  170 253 253 253 253 253 225 172 253 242 195  64   0   0   0   0   0   0\n",
      "    0   0   0   0   0  49 238 253 253 253 253 253 253 253 253 251  93  82\n",
      "   82  56  39   0   0   0   0   0   0   0   0   0   0   0   0  18 219 253\n",
      "  253 253 253 253 198 182 247 241   0   0   0   0   0   0   0   0   0   0\n",
      "    0   0   0   0   0   0   0   0  80 156 107 253 253 205  11   0  43 154\n",
      "    0   0   0   0   0   0   0   0   0   0   0   0   0   0   0   0   0   0\n",
      "    0  14   1 154 253  90   0   0   0   0   0   0   0   0   0   0   0   0\n",
      "    0   0   0   0   0   0   0   0   0   0   0   0   0 139 253 190   2   0\n",
      "    0   0   0   0   0   0   0   0   0   0   0   0   0   0   0   0   0   0\n",
      "    0   0   0   0   0  11 190 253  70   0   0   0   0   0   0   0   0   0\n",
      "    0   0   0   0   0   0   0   0   0   0   0   0   0   0   0   0  35 241\n",
      "  225 160 108   1   0   0   0   0   0   0   0   0   0   0   0   0   0   0\n",
      "    0   0   0   0   0   0   0   0   0  81 240 253 253 119  25   0   0   0\n",
      "    0   0   0   0   0   0   0   0   0   0   0   0   0   0   0   0   0   0\n",
      "    0   0  45 186 253 253 150  27   0   0   0   0   0   0   0   0   0   0\n",
      "    0   0   0   0   0   0   0   0   0   0   0   0   0  16  93 252 253 187\n",
      "    0   0   0   0   0   0   0   0   0   0   0   0   0   0   0   0   0   0\n",
      "    0   0   0   0   0   0   0 249 253 249  64   0   0   0   0   0   0   0\n",
      "    0   0   0   0   0   0   0   0   0   0   0   0   0   0  46 130 183 253\n",
      "  253 207   2   0   0   0   0   0   0   0   0   0   0   0   0   0   0   0\n",
      "    0   0   0   0  39 148 229 253 253 253 250 182   0   0   0   0   0   0\n",
      "    0   0   0   0   0   0   0   0   0   0   0   0  24 114 221 253 253 253\n",
      "  253 201  78   0   0   0   0   0   0   0   0   0   0   0   0   0   0   0\n",
      "    0   0  23  66 213 253 253 253 253 198  81   2   0   0   0   0   0   0\n",
      "    0   0   0   0   0   0   0   0   0   0  18 171 219 253 253 253 253 195\n",
      "   80   9   0   0   0   0   0   0   0   0   0   0   0   0   0   0   0   0\n",
      "   55 172 226 253 253 253 253 244 133  11   0   0   0   0   0   0   0   0\n",
      "    0   0   0   0   0   0   0   0   0   0 136 253 253 253 212 135 132  16\n",
      "    0   0   0   0   0   0   0   0   0   0   0   0   0   0   0   0   0   0\n",
      "    0   0   0   0   0   0   0   0   0   0   0   0   0   0   0   0   0   0\n",
      "    0   0   0   0   0   0   0   0   0   0   0   0   0   0   0   0   0   0\n",
      "    0   0   0   0   0   0   0   0   0   0   0   0   0   0   0   0   0   0\n",
      "    0   0   0   0   0   0   0   0   0   0   0   0   0   0   0   0   0   0\n",
      "    0   0   0   0   0   0   0   0   0   0]]\n",
      "[[0.         0.         0.         0.         0.         0.\n",
      "  0.         0.         0.         0.         0.         0.\n",
      "  0.         0.         0.         0.         0.         0.\n",
      "  0.         0.         0.         0.         0.         0.\n",
      "  0.         0.         0.         0.         0.         0.\n",
      "  0.         0.         0.         0.         0.         0.\n",
      "  0.         0.         0.         0.         0.         0.\n",
      "  0.         0.         0.         0.         0.         0.\n",
      "  0.         0.         0.         0.         0.         0.\n",
      "  0.         0.         0.         0.         0.         0.\n",
      "  0.         0.         0.         0.         0.         0.\n",
      "  0.         0.         0.         0.         0.         0.\n",
      "  0.         0.         0.         0.         0.         0.\n",
      "  0.         0.         0.         0.         0.         0.\n",
      "  0.         0.         0.         0.         0.         0.\n",
      "  0.         0.         0.         0.         0.         0.\n",
      "  0.         0.         0.         0.         0.         0.\n",
      "  0.         0.         0.         0.         0.         0.\n",
      "  0.         0.         0.         0.         0.         0.\n",
      "  0.         0.         0.         0.         0.         0.\n",
      "  0.         0.         0.         0.         0.         0.\n",
      "  0.         0.         0.         0.         0.         0.\n",
      "  0.         0.         0.         0.         0.         0.\n",
      "  0.         0.         0.         0.         0.         0.\n",
      "  0.         0.         0.         0.         0.         0.\n",
      "  0.         0.         0.01176471 0.07058824 0.07058824 0.07058824\n",
      "  0.49411765 0.53333333 0.68627451 0.10196078 0.65098039 1.\n",
      "  0.96862745 0.49803922 0.         0.         0.         0.\n",
      "  0.         0.         0.         0.         0.         0.\n",
      "  0.         0.         0.11764706 0.14117647 0.36862745 0.60392157\n",
      "  0.66666667 0.99215686 0.99215686 0.99215686 0.99215686 0.99215686\n",
      "  0.88235294 0.6745098  0.99215686 0.94901961 0.76470588 0.25098039\n",
      "  0.         0.         0.         0.         0.         0.\n",
      "  0.         0.         0.         0.         0.         0.19215686\n",
      "  0.93333333 0.99215686 0.99215686 0.99215686 0.99215686 0.99215686\n",
      "  0.99215686 0.99215686 0.99215686 0.98431373 0.36470588 0.32156863\n",
      "  0.32156863 0.21960784 0.15294118 0.         0.         0.\n",
      "  0.         0.         0.         0.         0.         0.\n",
      "  0.         0.         0.         0.07058824 0.85882353 0.99215686\n",
      "  0.99215686 0.99215686 0.99215686 0.99215686 0.77647059 0.71372549\n",
      "  0.96862745 0.94509804 0.         0.         0.         0.\n",
      "  0.         0.         0.         0.         0.         0.\n",
      "  0.         0.         0.         0.         0.         0.\n",
      "  0.         0.         0.31372549 0.61176471 0.41960784 0.99215686\n",
      "  0.99215686 0.80392157 0.04313725 0.         0.16862745 0.60392157\n",
      "  0.         0.         0.         0.         0.         0.\n",
      "  0.         0.         0.         0.         0.         0.\n",
      "  0.         0.         0.         0.         0.         0.\n",
      "  0.         0.05490196 0.00392157 0.60392157 0.99215686 0.35294118\n",
      "  0.         0.         0.         0.         0.         0.\n",
      "  0.         0.         0.         0.         0.         0.\n",
      "  0.         0.         0.         0.         0.         0.\n",
      "  0.         0.         0.         0.         0.         0.\n",
      "  0.         0.54509804 0.99215686 0.74509804 0.00784314 0.\n",
      "  0.         0.         0.         0.         0.         0.\n",
      "  0.         0.         0.         0.         0.         0.\n",
      "  0.         0.         0.         0.         0.         0.\n",
      "  0.         0.         0.         0.         0.         0.04313725\n",
      "  0.74509804 0.99215686 0.2745098  0.         0.         0.\n",
      "  0.         0.         0.         0.         0.         0.\n",
      "  0.         0.         0.         0.         0.         0.\n",
      "  0.         0.         0.         0.         0.         0.\n",
      "  0.         0.         0.         0.         0.1372549  0.94509804\n",
      "  0.88235294 0.62745098 0.42352941 0.00392157 0.         0.\n",
      "  0.         0.         0.         0.         0.         0.\n",
      "  0.         0.         0.         0.         0.         0.\n",
      "  0.         0.         0.         0.         0.         0.\n",
      "  0.         0.         0.         0.31764706 0.94117647 0.99215686\n",
      "  0.99215686 0.46666667 0.09803922 0.         0.         0.\n",
      "  0.         0.         0.         0.         0.         0.\n",
      "  0.         0.         0.         0.         0.         0.\n",
      "  0.         0.         0.         0.         0.         0.\n",
      "  0.         0.         0.17647059 0.72941176 0.99215686 0.99215686\n",
      "  0.58823529 0.10588235 0.         0.         0.         0.\n",
      "  0.         0.         0.         0.         0.         0.\n",
      "  0.         0.         0.         0.         0.         0.\n",
      "  0.         0.         0.         0.         0.         0.\n",
      "  0.         0.0627451  0.36470588 0.98823529 0.99215686 0.73333333\n",
      "  0.         0.         0.         0.         0.         0.\n",
      "  0.         0.         0.         0.         0.         0.\n",
      "  0.         0.         0.         0.         0.         0.\n",
      "  0.         0.         0.         0.         0.         0.\n",
      "  0.         0.97647059 0.99215686 0.97647059 0.25098039 0.\n",
      "  0.         0.         0.         0.         0.         0.\n",
      "  0.         0.         0.         0.         0.         0.\n",
      "  0.         0.         0.         0.         0.         0.\n",
      "  0.         0.         0.18039216 0.50980392 0.71764706 0.99215686\n",
      "  0.99215686 0.81176471 0.00784314 0.         0.         0.\n",
      "  0.         0.         0.         0.         0.         0.\n",
      "  0.         0.         0.         0.         0.         0.\n",
      "  0.         0.         0.         0.         0.15294118 0.58039216\n",
      "  0.89803922 0.99215686 0.99215686 0.99215686 0.98039216 0.71372549\n",
      "  0.         0.         0.         0.         0.         0.\n",
      "  0.         0.         0.         0.         0.         0.\n",
      "  0.         0.         0.         0.         0.         0.\n",
      "  0.09411765 0.44705882 0.86666667 0.99215686 0.99215686 0.99215686\n",
      "  0.99215686 0.78823529 0.30588235 0.         0.         0.\n",
      "  0.         0.         0.         0.         0.         0.\n",
      "  0.         0.         0.         0.         0.         0.\n",
      "  0.         0.         0.09019608 0.25882353 0.83529412 0.99215686\n",
      "  0.99215686 0.99215686 0.99215686 0.77647059 0.31764706 0.00784314\n",
      "  0.         0.         0.         0.         0.         0.\n",
      "  0.         0.         0.         0.         0.         0.\n",
      "  0.         0.         0.         0.         0.07058824 0.67058824\n",
      "  0.85882353 0.99215686 0.99215686 0.99215686 0.99215686 0.76470588\n",
      "  0.31372549 0.03529412 0.         0.         0.         0.\n",
      "  0.         0.         0.         0.         0.         0.\n",
      "  0.         0.         0.         0.         0.         0.\n",
      "  0.21568627 0.6745098  0.88627451 0.99215686 0.99215686 0.99215686\n",
      "  0.99215686 0.95686275 0.52156863 0.04313725 0.         0.\n",
      "  0.         0.         0.         0.         0.         0.\n",
      "  0.         0.         0.         0.         0.         0.\n",
      "  0.         0.         0.         0.         0.53333333 0.99215686\n",
      "  0.99215686 0.99215686 0.83137255 0.52941176 0.51764706 0.0627451\n",
      "  0.         0.         0.         0.         0.         0.\n",
      "  0.         0.         0.         0.         0.         0.\n",
      "  0.         0.         0.         0.         0.         0.\n",
      "  0.         0.         0.         0.         0.         0.\n",
      "  0.         0.         0.         0.         0.         0.\n",
      "  0.         0.         0.         0.         0.         0.\n",
      "  0.         0.         0.         0.         0.         0.\n",
      "  0.         0.         0.         0.         0.         0.\n",
      "  0.         0.         0.         0.         0.         0.\n",
      "  0.         0.         0.         0.         0.         0.\n",
      "  0.         0.         0.         0.         0.         0.\n",
      "  0.         0.         0.         0.         0.         0.\n",
      "  0.         0.         0.         0.         0.         0.\n",
      "  0.         0.         0.         0.         0.         0.\n",
      "  0.         0.         0.         0.         0.         0.\n",
      "  0.         0.         0.         0.         0.         0.\n",
      "  0.         0.         0.         0.        ]]\n"
     ]
    }
   ],
   "source": [
    "print(X_train[:1])\n",
    "print(X_train_scaled[:1])"
   ]
  },
  {
   "cell_type": "markdown",
   "id": "26063ffe-3b30-4eb9-ad9b-5c5b08a3dcc3",
   "metadata": {},
   "source": [
    "## 재학습"
   ]
  },
  {
   "cell_type": "code",
   "execution_count": 228,
   "id": "f3675d3e-7893-4dec-9ff6-4b98549cc1a6",
   "metadata": {},
   "outputs": [],
   "source": [
    "model=Sequential()\n",
    "\n",
    "# model.add(Dense(units=100 , activation='relu' ,input_dim=784)) # 784=28*28 한 줄로 폈을 때\n",
    "model.add(Dense(units=64 , activation='relu' ,input_shape=(28*28,))) # 784=28*28 한 줄로 폈을 때. 28*28 뒤 쉼표는 몇 장 넣을지.\n",
    "model.add(Dense(units=32 , activation='relu'))\n",
    "model.add(Dense(units=16 , activation='relu'))\n",
    "model.add(Dense(units=10 , activation='softmax')) # 다중분류 예측(0~9)"
   ]
  },
  {
   "cell_type": "code",
   "execution_count": 229,
   "id": "dcd8f392-0ea8-4104-a4e0-d0e478eb0b00",
   "metadata": {},
   "outputs": [
    {
     "name": "stdout",
     "output_type": "stream",
     "text": [
      "Model: \"sequential_4\"\n",
      "_________________________________________________________________\n",
      " Layer (type)                Output Shape              Param #   \n",
      "=================================================================\n",
      " dense_16 (Dense)            (None, 64)                50240     \n",
      "                                                                 \n",
      " dense_17 (Dense)            (None, 32)                2080      \n",
      "                                                                 \n",
      " dense_18 (Dense)            (None, 16)                528       \n",
      "                                                                 \n",
      " dense_19 (Dense)            (None, 10)                170       \n",
      "                                                                 \n",
      "=================================================================\n",
      "Total params: 53,018\n",
      "Trainable params: 53,018\n",
      "Non-trainable params: 0\n",
      "_________________________________________________________________\n"
     ]
    }
   ],
   "source": [
    "model.summary()"
   ]
  },
  {
   "cell_type": "code",
   "execution_count": 230,
   "id": "b0e24933-f781-4a60-b8bb-d891ad6c99ee",
   "metadata": {},
   "outputs": [],
   "source": [
    "model.compile(loss='categorical_crossentropy', # logloss라고 써도 된다.\n",
    "             optimizer='adam',\n",
    "             metrics='accuracy')"
   ]
  },
  {
   "cell_type": "code",
   "execution_count": 231,
   "id": "f871e1e9-5dac-487b-ac96-c8933dbf10b0",
   "metadata": {},
   "outputs": [
    {
     "name": "stdout",
     "output_type": "stream",
     "text": [
      "Epoch 1/30\n",
      "422/422 [==============================] - 2s 2ms/step - loss: 0.4827 - accuracy: 0.8662 - val_loss: 0.1929 - val_accuracy: 0.9512\n",
      "Epoch 2/30\n",
      "422/422 [==============================] - 1s 2ms/step - loss: 0.2037 - accuracy: 0.9415 - val_loss: 0.1450 - val_accuracy: 0.9605\n",
      "Epoch 3/30\n",
      "422/422 [==============================] - 1s 2ms/step - loss: 0.1513 - accuracy: 0.9564 - val_loss: 0.1190 - val_accuracy: 0.9678\n",
      "Epoch 4/30\n",
      "422/422 [==============================] - 1s 2ms/step - loss: 0.1208 - accuracy: 0.9650 - val_loss: 0.1393 - val_accuracy: 0.9608\n",
      "Epoch 5/30\n",
      "422/422 [==============================] - 1s 2ms/step - loss: 0.0998 - accuracy: 0.9702 - val_loss: 0.1054 - val_accuracy: 0.9708\n",
      "Epoch 6/30\n",
      "422/422 [==============================] - 1s 2ms/step - loss: 0.0845 - accuracy: 0.9750 - val_loss: 0.0981 - val_accuracy: 0.9713\n",
      "Epoch 7/30\n",
      "422/422 [==============================] - 1s 2ms/step - loss: 0.0727 - accuracy: 0.9783 - val_loss: 0.1080 - val_accuracy: 0.9690\n",
      "Epoch 8/30\n",
      "422/422 [==============================] - 1s 2ms/step - loss: 0.0634 - accuracy: 0.9810 - val_loss: 0.0946 - val_accuracy: 0.9738\n",
      "Epoch 9/30\n",
      "422/422 [==============================] - 1s 2ms/step - loss: 0.0552 - accuracy: 0.9832 - val_loss: 0.0945 - val_accuracy: 0.9733\n",
      "Epoch 10/30\n",
      "422/422 [==============================] - 1s 2ms/step - loss: 0.0505 - accuracy: 0.9842 - val_loss: 0.1021 - val_accuracy: 0.9730\n",
      "Epoch 11/30\n",
      "422/422 [==============================] - 1s 2ms/step - loss: 0.0435 - accuracy: 0.9866 - val_loss: 0.1115 - val_accuracy: 0.9692\n",
      "Epoch 12/30\n",
      "422/422 [==============================] - 1s 2ms/step - loss: 0.0387 - accuracy: 0.9881 - val_loss: 0.1055 - val_accuracy: 0.9705\n",
      "Epoch 13/30\n",
      "422/422 [==============================] - 1s 2ms/step - loss: 0.0348 - accuracy: 0.9894 - val_loss: 0.1031 - val_accuracy: 0.9735\n",
      "Epoch 14/30\n",
      "422/422 [==============================] - 1s 2ms/step - loss: 0.0303 - accuracy: 0.9910 - val_loss: 0.1025 - val_accuracy: 0.9743\n",
      "Epoch 15/30\n",
      "422/422 [==============================] - 1s 2ms/step - loss: 0.0289 - accuracy: 0.9910 - val_loss: 0.1020 - val_accuracy: 0.9748\n",
      "Epoch 16/30\n",
      "422/422 [==============================] - 1s 2ms/step - loss: 0.0235 - accuracy: 0.9926 - val_loss: 0.1093 - val_accuracy: 0.9747\n",
      "Epoch 17/30\n",
      "422/422 [==============================] - 1s 2ms/step - loss: 0.0234 - accuracy: 0.9923 - val_loss: 0.1130 - val_accuracy: 0.9733\n",
      "Epoch 18/30\n",
      "422/422 [==============================] - 1s 2ms/step - loss: 0.0192 - accuracy: 0.9943 - val_loss: 0.1167 - val_accuracy: 0.9732\n",
      "Epoch 19/30\n",
      "422/422 [==============================] - 1s 2ms/step - loss: 0.0193 - accuracy: 0.9938 - val_loss: 0.1107 - val_accuracy: 0.9740\n",
      "Epoch 20/30\n",
      "422/422 [==============================] - 1s 2ms/step - loss: 0.0159 - accuracy: 0.9950 - val_loss: 0.1102 - val_accuracy: 0.9752\n",
      "Epoch 21/30\n",
      "422/422 [==============================] - 1s 2ms/step - loss: 0.0149 - accuracy: 0.9954 - val_loss: 0.1319 - val_accuracy: 0.9728\n",
      "Epoch 22/30\n",
      "422/422 [==============================] - 1s 2ms/step - loss: 0.0156 - accuracy: 0.9950 - val_loss: 0.1429 - val_accuracy: 0.9700\n",
      "Epoch 23/30\n",
      "422/422 [==============================] - 1s 2ms/step - loss: 0.0150 - accuracy: 0.9956 - val_loss: 0.1133 - val_accuracy: 0.9750\n",
      "Epoch 24/30\n",
      "422/422 [==============================] - 1s 2ms/step - loss: 0.0122 - accuracy: 0.9964 - val_loss: 0.1308 - val_accuracy: 0.9723\n",
      "Epoch 25/30\n",
      "422/422 [==============================] - 1s 2ms/step - loss: 0.0148 - accuracy: 0.9950 - val_loss: 0.1269 - val_accuracy: 0.9738\n",
      "Epoch 26/30\n",
      "422/422 [==============================] - 1s 2ms/step - loss: 0.0124 - accuracy: 0.9959 - val_loss: 0.1309 - val_accuracy: 0.9732\n",
      "Epoch 27/30\n",
      "422/422 [==============================] - 1s 2ms/step - loss: 0.0122 - accuracy: 0.9960 - val_loss: 0.1321 - val_accuracy: 0.9738\n",
      "Epoch 28/30\n",
      "422/422 [==============================] - 1s 2ms/step - loss: 0.0090 - accuracy: 0.9971 - val_loss: 0.1391 - val_accuracy: 0.9725\n",
      "Epoch 29/30\n",
      "422/422 [==============================] - 1s 2ms/step - loss: 0.0072 - accuracy: 0.9980 - val_loss: 0.1352 - val_accuracy: 0.9748\n",
      "Epoch 30/30\n",
      "422/422 [==============================] - 1s 2ms/step - loss: 0.0117 - accuracy: 0.9960 - val_loss: 0.1325 - val_accuracy: 0.9755\n"
     ]
    }
   ],
   "source": [
    "res=model.fit(X_train_scaled,y_train,\n",
    "              batch_size=128,   # 128바이트씩 끊어서 읽어라\n",
    "              validation_split=0.1,\n",
    "              epochs=30\n",
    "                )"
   ]
  },
  {
   "cell_type": "markdown",
   "id": "8a5eccfe-ce30-46cf-a22c-42bb606c338f",
   "metadata": {},
   "source": [
    "## test 데이터 예측"
   ]
  },
  {
   "cell_type": "code",
   "execution_count": 232,
   "id": "e43329c6-1a2e-4ac9-909c-e768ca1bbf93",
   "metadata": {},
   "outputs": [
    {
     "name": "stdout",
     "output_type": "stream",
     "text": [
      "313/313 [==============================] - 0s 1ms/step - loss: 0.1404 - accuracy: 0.9725\n"
     ]
    }
   ],
   "source": [
    "# 한 번도 안 보여준 데이터 맞춰봐\n",
    "loss_cateforical_crossentropy, metrics_accuracy = model.evaluate(X_test_scaled, y_test) "
   ]
  },
  {
   "cell_type": "markdown",
   "id": "7e5890a6-26e2-414c-88b8-2f0629399482",
   "metadata": {},
   "source": [
    "## 평가 시각화"
   ]
  },
  {
   "cell_type": "code",
   "execution_count": 233,
   "id": "61fce2d2-9e04-4027-a5a5-d7f8c347f454",
   "metadata": {},
   "outputs": [
    {
     "data": {
      "image/png": "[encoded data removed]",
      "text/plain": [
       "<Figure size 432x288 with 1 Axes>"
      ]
     },
     "metadata": {},
     "output_type": "display_data"
    }
   ],
   "source": [
    "plt.plot(np.arange(len(res.history['loss'])), res.history['loss'], c='red', label='loss')\n",
    "plt.plot(np.arange(len(res.history['val_loss'])), res.history['val_loss'], c='blue', label='val_loss')\n",
    "plt.legend()\n",
    "plt.show()"
   ]
  },
  {
   "cell_type": "code",
   "execution_count": 234,
   "id": "63eedb7a-1d50-46e6-b8d9-ce8ff94d12f2",
   "metadata": {},
   "outputs": [
    {
     "data": {
      "image/png": "[encoded data removed]",
      "text/plain": [
       "<Figure size 432x288 with 1 Axes>"
      ]
     },
     "metadata": {},
     "output_type": "display_data"
    }
   ],
   "source": [
    "plt.plot(np.arange(len(res.history['accuracy'])), res.history['accuracy'], c='red', label='loss')\n",
    "plt.plot(np.arange(len(res.history['val_accuracy'])), res.history['val_accuracy'], c='blue', label='val_loss')\n",
    "plt.legend()\n",
    "plt.show()"
   ]
  },
  {
   "cell_type": "markdown",
   "id": "796000a7-b7ef-432a-8fdf-b99ee1cd3dd9",
   "metadata": {},
   "source": [
    "## 오답 확인(검증)"
   ]
  },
  {
   "cell_type": "code",
   "execution_count": 236,
   "id": "3ebf4102-3b6d-48b1-8062-06925cfe7b11",
   "metadata": {},
   "outputs": [],
   "source": [
    "proba=model.predict(X_test_scaled)"
   ]
  },
  {
   "cell_type": "code",
   "execution_count": null,
   "id": "6128b48c-8a0f-4091-9ffa-bec2e56d91e4",
   "metadata": {},
   "outputs": [],
   "source": []
  },
  {
   "cell_type": "code",
   "execution_count": 238,
   "id": "5fa17787-eb59-466d-8a7c-6d19b9252363",
   "metadata": {},
   "outputs": [
    {
     "data": {
      "image/png": "[encoded data removed]",
      "text/plain": [
       "<Figure size 720x360 with 10 Axes>"
      ]
     },
     "metadata": {},
     "output_type": "display_data"
    }
   ],
   "source": [
    "pred_list=[]\n",
    "for i in range(proba.shape[0]):\n",
    "    pred_list.append(np.argmax(proba[i])) # np.argmax: 가장 큰 값을 가지고 있는 인덱스 리턴 \n",
    "    \n",
    "pred_s=pd.Series(pred_list, name='pred')\n",
    "\n",
    "real_list=[]\n",
    "for i in range(y_test.shape[0]):\n",
    "    real_list.append(np.argmax(y_test[i]))\n",
    "    \n",
    "real_s=pd.Series(real_list, name='real')\n",
    "\n",
    "df=pd.concat([pred_s, real_s], axis=1)\n",
    "\n",
    "df[df['pred']!=df['real']].index\n",
    "\n",
    "df[df['pred']!=df['real']]\n",
    "\n",
    "X_test.shape\n",
    "\n",
    "X_test_temp=X_test_scaled.reshape(10000,28,28)\n",
    "\n",
    "p, axes = plt.subplots(2,5,figsize=(10,5))\n",
    "for n, idx in enumerate(df[df['pred']!=df['real']].index[:10]):\n",
    "    row=n//5\n",
    "    col=n%5\n",
    "    # print(num, n,idx,row,col)\n",
    "    axes[row,col].imshow(X_test_temp[idx]) #, cmap=plt.get_cmap('gray'))\n",
    "    axes[row,col].set_title((df.iloc[idx, 0], df.iloc[idx, 1]))\n",
    "plt.show()"
   ]
  },
  {
   "cell_type": "code",
   "execution_count": 239,
   "id": "1c1adc2d-d00e-4cf5-ad7a-120d4a817ba6",
   "metadata": {},
   "outputs": [
    {
     "data": {
      "text/html": [
       "<div>\n",
       "<style scoped>\n",
       "    .dataframe tbody tr th:only-of-type {\n",
       "        vertical-align: middle;\n",
       "    }\n",
       "\n",
       "    .dataframe tbody tr th {\n",
       "        vertical-align: top;\n",
       "    }\n",
       "\n",
       "    .dataframe thead th {\n",
       "        text-align: right;\n",
       "    }\n",
       "</style>\n",
       "<table border=\"1\" class=\"dataframe\">\n",
       "  <thead>\n",
       "    <tr style=\"text-align: right;\">\n",
       "      <th></th>\n",
       "      <th>pred</th>\n",
       "      <th>real</th>\n",
       "    </tr>\n",
       "  </thead>\n",
       "  <tbody>\n",
       "    <tr>\n",
       "      <th>149</th>\n",
       "      <td>4</td>\n",
       "      <td>2</td>\n",
       "    </tr>\n",
       "    <tr>\n",
       "      <th>151</th>\n",
       "      <td>8</td>\n",
       "      <td>9</td>\n",
       "    </tr>\n",
       "    <tr>\n",
       "      <th>247</th>\n",
       "      <td>6</td>\n",
       "      <td>4</td>\n",
       "    </tr>\n",
       "    <tr>\n",
       "      <th>320</th>\n",
       "      <td>8</td>\n",
       "      <td>9</td>\n",
       "    </tr>\n",
       "    <tr>\n",
       "      <th>340</th>\n",
       "      <td>3</td>\n",
       "      <td>5</td>\n",
       "    </tr>\n",
       "    <tr>\n",
       "      <th>...</th>\n",
       "      <td>...</td>\n",
       "      <td>...</td>\n",
       "    </tr>\n",
       "    <tr>\n",
       "      <th>9779</th>\n",
       "      <td>8</td>\n",
       "      <td>2</td>\n",
       "    </tr>\n",
       "    <tr>\n",
       "      <th>9792</th>\n",
       "      <td>9</td>\n",
       "      <td>4</td>\n",
       "    </tr>\n",
       "    <tr>\n",
       "      <th>9808</th>\n",
       "      <td>4</td>\n",
       "      <td>9</td>\n",
       "    </tr>\n",
       "    <tr>\n",
       "      <th>9858</th>\n",
       "      <td>8</td>\n",
       "      <td>6</td>\n",
       "    </tr>\n",
       "    <tr>\n",
       "      <th>9904</th>\n",
       "      <td>8</td>\n",
       "      <td>2</td>\n",
       "    </tr>\n",
       "  </tbody>\n",
       "</table>\n",
       "<p>275 rows × 2 columns</p>\n",
       "</div>"
      ],
      "text/plain": [
       "      pred  real\n",
       "149      4     2\n",
       "151      8     9\n",
       "247      6     4\n",
       "320      8     9\n",
       "340      3     5\n",
       "...    ...   ...\n",
       "9779     8     2\n",
       "9792     9     4\n",
       "9808     4     9\n",
       "9858     8     6\n",
       "9904     8     2\n",
       "\n",
       "[275 rows x 2 columns]"
      ]
     },
     "execution_count": 239,
     "metadata": {},
     "output_type": "execute_result"
    }
   ],
   "source": [
    "df[df['pred']!=df['real']]"
   ]
  },
  {
   "cell_type": "markdown",
   "id": "f319f2f9-4dc6-43d0-9111-3a5d8f0fc5ab",
   "metadata": {},
   "source": [
    "### scaling 후에 더 좋아졌다. -> 이미지 다룰 경우 픽셀 정규화 필수~~!!!!"
   ]
  },
  {
   "cell_type": "code",
   "execution_count": null,
   "id": "f6c3c416-29e3-4125-8990-5ef857fd110c",
   "metadata": {},
   "outputs": [],
   "source": [
    "# 결국 딥러닝은 덴스 차이고 나머지 다 같다(open detect 빼고^^;; -> 이건 opencv)"
   ]
  },
  {
   "cell_type": "code",
   "execution_count": null,
   "id": "e0b56b0c-d170-4161-8810-89b1e2d79ded",
   "metadata": {},
   "outputs": [],
   "source": []
  }
 ],
 "metadata": {
  "kernelspec": {
   "display_name": "Python 3 (ipykernel)",
   "language": "python",
   "name": "python3"
  },
  "language_info": {
   "codemirror_mode": {
    "name": "ipython",
    "version": 3
   },
   "file_extension": ".py",
   "mimetype": "text/x-python",
   "name": "python",
   "nbconvert_exporter": "python",
   "pygments_lexer": "ipython3",
   "version": "3.8.8"
  },
  "toc-autonumbering": true
 },
 "nbformat": 4,
 "nbformat_minor": 5
}
