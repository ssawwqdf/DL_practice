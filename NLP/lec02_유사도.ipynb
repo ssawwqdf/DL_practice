{
 "cells": [
  {
   "cell_type": "markdown",
   "id": "national-embassy",
   "metadata": {},
   "source": [
    "<img src='./img/logo.png'>\n",
    "* ref : https://wikidocs.net/31698,  WikiDoc "
   ]
  },
  {
   "cell_type": "markdown",
   "id": "northern-yellow",
   "metadata": {
    "tags": []
   },
   "source": [
    "# 거리 기반 유사도(similarity)\n",
    "* 유클리드 거리(euclidean distance)\n",
    "* 맨해튼 거리(Manhattan distance)\n",
    "* 마할라노비스 거리 (Mahalanobis distance)\n",
    "* 코사인 유사도(cosine similarity)\n",
    "* 문장/문서 간 거리\n",
    "* 군집(집합) 간 거리"
   ]
  },
  {
   "cell_type": "markdown",
   "id": "registered-regression",
   "metadata": {},
   "source": [
    "## 유클리드 거리(euclidean distance)\n",
    "### 좌표 상의 거리 구하기"
   ]
  },
  {
   "cell_type": "markdown",
   "id": "recognized-threat",
   "metadata": {},
   "source": [
    "<img src='./img/img5.png' width=\"800\">"
   ]
  },
  {
   "cell_type": "markdown",
   "id": "stunning-trauma",
   "metadata": {
    "tags": []
   },
   "source": [
    "### 범주형 데이터에 대한 좌표 거리 구하기\n",
    "* get_dummy()"
   ]
  },
  {
   "cell_type": "markdown",
   "id": "anonymous-greek",
   "metadata": {},
   "source": [
    "<img src='./img/img6.png' width=\"800\">"
   ]
  },
  {
   "cell_type": "markdown",
   "id": "0055b427-1642-4517-93a6-5dedcf422a34",
   "metadata": {},
   "source": [
    "-> 범주 여러개일 경우 더미화 된 행렬 내적값 구해서 구한다."
   ]
  },
  {
   "cell_type": "markdown",
   "id": "interior-logic",
   "metadata": {},
   "source": [
    "## 맨해튼 거리(Manhattan distance)"
   ]
  },
  {
   "cell_type": "markdown",
   "id": "demonstrated-dollar",
   "metadata": {},
   "source": [
    "<img src='./img/img7.png' width=300>"
   ]
  },
  {
   "cell_type": "markdown",
   "id": "accredited-bryan",
   "metadata": {},
   "source": [
    "## 마할라노비스 거리 (Mahalanobis distance) "
   ]
  },
  {
   "cell_type": "markdown",
   "id": "caring-avenue",
   "metadata": {},
   "source": [
    "<img src='./img/img8.png'  width=\"400\">"
   ]
  },
  {
   "cell_type": "markdown",
   "id": "bottom-strength",
   "metadata": {},
   "source": [
    "## 문장 간의 거리 구하기"
   ]
  },
  {
   "cell_type": "markdown",
   "id": "owned-income",
   "metadata": {},
   "source": [
    "<img src='./img/img9.png'  width=\"600\">"
   ]
  },
  {
   "cell_type": "markdown",
   "id": "39e3cf1a-1036-4210-9b10-2c1b2633d621",
   "metadata": {},
   "source": [
    "-> 이렇게 잘 안 한다"
   ]
  },
  {
   "cell_type": "markdown",
   "id": "decimal-height",
   "metadata": {},
   "source": [
    "## 문서 사이의 거리 구하기 -> 코사인 유사도"
   ]
  },
  {
   "cell_type": "markdown",
   "id": "tight-texture",
   "metadata": {},
   "source": [
    "<img src='./img/img10.png'  width=\"1000\">"
   ]
  },
  {
   "cell_type": "markdown",
   "id": "operating-silver",
   "metadata": {},
   "source": [
    "## 군집(집합) 간의 거리 구하기"
   ]
  },
  {
   "cell_type": "markdown",
   "id": "constitutional-characterization",
   "metadata": {},
   "source": [
    "<img src='./img/img11.png'  width=\"800\">"
   ]
  },
  {
   "cell_type": "markdown",
   "id": "5b630508-2cca-4837-95f4-9acf4547f973",
   "metadata": {},
   "source": [
    "## 군집 간 score : 실루엣 스코어 / 이너시아"
   ]
  },
  {
   "cell_type": "markdown",
   "id": "interested-variance",
   "metadata": {},
   "source": [
    "--- "
   ]
  },
  {
   "cell_type": "markdown",
   "id": "external-communications",
   "metadata": {},
   "source": [
    "# 문장/문서 유사도(Vector Similarity)\n",
    "* 각 문서의 단어들을 어떤 방법으로 수치화하여 표현했는지(DTM, Word2Vec 등)\n",
    "* 문서 간의 단어들의 차이를 어떤 방법(유클리드 거리, 코사인 유사도 등)으로 계산했는지\n",
    "* ref : https://www.kernix.com/blog/similarity-measure-of-textual-documents_p12"
   ]
  },
  {
   "cell_type": "markdown",
   "id": "breeding-uganda",
   "metadata": {},
   "source": [
    "<img src='https://www.kernix.com/doc/articles/overview.svg'>"
   ]
  },
  {
   "cell_type": "markdown",
   "id": "martial-aircraft",
   "metadata": {},
   "source": [
    "## 카운트 기반의 단어 표현(Count based word Representation)"
   ]
  },
  {
   "cell_type": "markdown",
   "id": "after-allen",
   "metadata": {},
   "source": [
    "### Bag of Words(BoW)"
   ]
  },
  {
   "cell_type": "markdown",
   "id": "broken-grocery",
   "metadata": {
    "tags": []
   },
   "source": [
    "#### 불용언처리 (english)\n",
    "* 사용자 지정\n",
    "* CountVectorizer에서 지원\n",
    "* NLTK에서 지원 :  https://www.nltk.org/data.html\n",
    "* stopwords 다운 압축풀어 venv/nltk_data/corpora/stopwords에 넣기"
   ]
  },
  {
   "cell_type": "markdown",
   "id": "pressing-announcement",
   "metadata": {},
   "source": [
    "#### 불용언처리 (한글)\n",
    "* https://github.com/stopwords-iso/stopwords-ko"
   ]
  },
  {
   "cell_type": "markdown",
   "id": "understood-oregon",
   "metadata": {
    "tags": []
   },
   "source": [
    "## 코사인 유사도(Cosine Similarity)\n",
    "* <font color='red'>벡터의 크기가 아니라 방향(패턴)에 초점</font>"
   ]
  },
  {
   "cell_type": "markdown",
   "id": "joint-welcome",
   "metadata": {},
   "source": [
    "<img src='./img/img2.png' width=500><br>\n",
    "<img src='./img/img3.png' width=500><br>\n",
    "<img src='./img/img4.png' width=300>"
   ]
  },
  {
   "cell_type": "code",
   "execution_count": null,
   "id": "0fa8bbf4-7779-4ae6-a358-8612b65e7b24",
   "metadata": {},
   "outputs": [],
   "source": [
    "sklearn.metrics.pairwise.cosine_similarity"
   ]
  },
  {
   "cell_type": "code",
   "execution_count": 3,
   "id": "474cae17-b25c-4118-944c-70dcc080084a",
   "metadata": {},
   "outputs": [],
   "source": [
    "import numpy as np\n",
    "from numpy.linalg import norm ## ||A|| : norm\n",
    "# from nupmy import dot\n",
    "\n",
    "# np.dot()\n",
    "# np.sum()\n",
    "\n",
    "def my_cos_sim(A,B):\n",
    "    cos_sim = np.dot(A,B) / (norm(A) * norm(B))\n",
    "    print(cos_sim)\n",
    "    return cos_sim\n",
    "    "
   ]
  },
  {
   "cell_type": "code",
   "execution_count": 8,
   "id": "3a77e9d3-4246-4dee-b380-f54d1b43bf4b",
   "metadata": {},
   "outputs": [
    {
     "name": "stdout",
     "output_type": "stream",
     "text": [
      "0.7071067811865476\n",
      "0.7071067811865476\n",
      "1.0000000000000002\n"
     ]
    },
    {
     "data": {
      "text/plain": [
       "1.0000000000000002"
      ]
     },
     "execution_count": 8,
     "metadata": {},
     "output_type": "execute_result"
    }
   ],
   "source": [
    "# sklearn ... vectorize .... [1,2,3, ...]\n",
    " \n",
    "doc1 = [0,1,2,1]\n",
    "doc2 = [1,0,1,1]\n",
    "doc3 = [2,0,2,2]\n",
    "\n",
    "my_cos_sim(doc1, doc2)\n",
    "my_cos_sim(doc1, doc3)\n",
    "my_cos_sim(doc2, doc3) # 크기만 다르고 선형종속적이라 1\n",
    "\n",
    "# doc3 = []"
   ]
  },
  {
   "cell_type": "markdown",
   "id": "694d6447-2eb6-410e-8470-451401a5c292",
   "metadata": {},
   "source": [
    "* 연습... BoW.. DTM"
   ]
  },
  {
   "cell_type": "code",
   "execution_count": 26,
   "id": "0c054e62-1f29-47f8-93a0-f9f15845352e",
   "metadata": {},
   "outputs": [
    {
     "name": "stdout",
     "output_type": "stream",
     "text": [
      "{'어제': 5, '비가': 4, '와서': 6, '날씨가': 3, '추워졌다': 8, '나는': 2, '고양이를': 1, '좋아한다': 7, '강아지를': 0}\n",
      "[0 0 0 1 1 1 1 0 1] [0 1 1 0 0 0 0 1 0] [1 0 1 0 0 0 0 1 0]\n",
      "0.0\n",
      "0.0\n",
      "0.6666666666666667\n"
     ]
    },
    {
     "data": {
      "text/plain": [
       "0.6666666666666667"
      ]
     },
     "execution_count": 26,
     "metadata": {},
     "output_type": "execute_result"
    }
   ],
   "source": [
    "# 연습\n",
    "\n",
    "# from sklearn.feature_extraction.text import TfidfVectorizer # 자주 쓴다.\n",
    "# tfidf = TfidfVectorizer()\n",
    "\n",
    "# tfidf.fit_transform(corpus)  # 2*6의 희소행렬 형태. 행은 document, 열은 wordbag의 단어 개수(This, is, balck, cat, white, dog 6개). a는 한 글자라 없어진다.\n",
    "# print(tfidf.fit_transform(corpus).toarray()) # value값 찍어줘 ///\n",
    "# tfidf.vocabulary_ # ABC순으로 사전 번호 매긴다. -> array의 각 열은 ABC순으로 정렬됨.\n",
    "\n",
    "from sklearn.feature_extraction.text import CountVectorizer\n",
    "\n",
    "doc1 = '어제 비가 와서 날씨가 추워졌다.'\n",
    "doc2 = '나는 고양이를 좋아한다.'\n",
    "doc3 = '나는 강아지를 좋아한다.'\n",
    "corpus = [doc1, doc2, doc3]\n",
    "\n",
    "\n",
    "cnt_vt = CountVectorizer()\n",
    "res = cnt_vt.fit_transform(corpus)  #Iterable\n",
    "print(cnt_vt.vocabulary_)\n",
    "\n",
    "doc1 = res.toarray()[0]\n",
    "doc2 = res.toarray()[1]\n",
    "doc3 = res.toarray()[2]\n",
    "print(doc1, doc2, doc3)\n",
    "\n",
    "my_cos_sim(doc1, doc2)\n",
    "my_cos_sim(doc1, doc3)\n",
    "my_cos_sim(doc2, doc3)\n"
   ]
  },
  {
   "cell_type": "code",
   "execution_count": 27,
   "id": "0713a3a8-7ba7-4741-b8d0-da20fa86cf99",
   "metadata": {},
   "outputs": [],
   "source": [
    "# 이렇게 하면 안 된다\n",
    "\n",
    "# from keras.preprocessing.sequence import pad_sequences\n",
    "# from keras.preprocessing.text import Tokenizer\n",
    "\n",
    "# text_list = [\"어제 비가 와서 날씨가 추워졌다.\",\n",
    "#     \"나는 고양이를 좋아한다.\",\n",
    "#     \"나는 강아지를 좋아한다.\"]\n",
    "# tokenizer = Tokenizer()\n",
    "# tokenizer.fit_on_texts(text_list)\n",
    "# encoding = tokenizer.texts_to_sequences(text_list)\n",
    "# res = pad_sequences(sequences=encoding, padding='pre')\n",
    "# my_cos_sim(res[0],res[1])\n",
    "# my_cos_sim(res[0],res[2])\n",
    "# my_cos_sim(res[1],res[2])\n"
   ]
  },
  {
   "cell_type": "code",
   "execution_count": null,
   "id": "1c048eff-e81b-4431-b805-74883338e701",
   "metadata": {},
   "outputs": [],
   "source": []
  },
  {
   "cell_type": "code",
   "execution_count": null,
   "id": "138b4876-1837-4b9c-ab0b-7eb58ffc8b27",
   "metadata": {},
   "outputs": [],
   "source": []
  },
  {
   "cell_type": "markdown",
   "id": "serial-responsibility",
   "metadata": {},
   "source": [
    "---\n",
    "### [실습] 영화추천 시스템\n",
    "* ref : https://www.kaggle.com/rounakbanik/the-movies-dataset"
   ]
  },
  {
   "cell_type": "code",
   "execution_count": null,
   "id": "917a010d-c9fd-4e09-90ed-cc0601a338e4",
   "metadata": {},
   "outputs": [],
   "source": []
  },
  {
   "cell_type": "code",
   "execution_count": null,
   "id": "ed6d5c5d-a406-4aff-98af-7a807479bcec",
   "metadata": {},
   "outputs": [],
   "source": []
  },
  {
   "cell_type": "markdown",
   "id": "based-slovenia",
   "metadata": {
    "tags": []
   },
   "source": [
    "### [실습] 지수 변동성 유사도\n",
    "---"
   ]
  },
  {
   "cell_type": "code",
   "execution_count": null,
   "id": "hydraulic-preview",
   "metadata": {},
   "outputs": [],
   "source": []
  },
  {
   "cell_type": "code",
   "execution_count": null,
   "id": "c7d56aa1-33f6-41a2-8120-555ed2c5fc8d",
   "metadata": {},
   "outputs": [],
   "source": []
  },
  {
   "cell_type": "code",
   "execution_count": null,
   "id": "f1b7f63c-e89b-4597-bb68-7b2c9bdfd5ec",
   "metadata": {},
   "outputs": [],
   "source": []
  },
  {
   "cell_type": "code",
   "execution_count": null,
   "id": "b525fbb3-310d-435f-b63a-9fffb7b109ca",
   "metadata": {},
   "outputs": [],
   "source": []
  },
  {
   "cell_type": "code",
   "execution_count": null,
   "id": "5481bd09-bd71-4b7c-a6be-1c5b0f884134",
   "metadata": {},
   "outputs": [],
   "source": []
  },
  {
   "cell_type": "markdown",
   "id": "union-spread",
   "metadata": {},
   "source": [
    "## 문서 단어 행렬(DTM, Document-Term Matrix)\n",
    "* 각 문서에서 등장한 단어의 빈도를 행렬의 값으로 표기해 서로 다른 문서들을 비교\n",
    "* 다수의 BoW : 각 문서에 대한 BoW를 하나의 행렬로 만든 것\n",
    "\n",
    "* <단점>\n",
    "    - 희소 표현(Sparse representation) : 단어 집합의 크기 == 벡터의 차원이 되고 대부분의 값이 0이 된다\n",
    "    - 단순 빈도 수 기반 접근 : '이다'와 같은 중요하지 않은 최빈도 단어로 문서를 연관지으면??\n",
    "    - <font color='red'> TF-IDF 필요 (DTM에 불용어와 중요한 단어에 대해서 가중치)</font>"
   ]
  },
  {
   "cell_type": "code",
   "execution_count": null,
   "id": "annoying-satin",
   "metadata": {},
   "outputs": [],
   "source": []
  },
  {
   "cell_type": "markdown",
   "id": "incorporated-scheduling",
   "metadata": {},
   "source": [
    "## 단어 빈도-역 문서 빈도(TF-IDF, Term Frequency-Inverse Document Frequency)\n",
    "* 우선 DTM을 만든 후, TF-IDF 가중치를 부여\n",
    "* 주로 문서의 유사도를 구하는 작업, 검색 시스템에서 검색 결과의 중요도를 정하는 작업, 문서 내에서 특정 단어의 중요도를 구하는 작업 등에 활용\n",
    "* TF-IDF = TF * IDF\n",
    "\n",
    "* 문서(d), 단어(t), 문서총개수(n)\n",
    "* <font color='red'> $ tf(d,t) $ : 특정 문서 d에서의 특정 단어 t의 등장 횟수</font>\n",
    "* <font color='red'>  $df(t)$ : 특정 단어 t가 등장한 문서의 수 </font>\n",
    "* <font color='red'>  $idf(d, t) = log (\\frac{n}{1+df(t)})$ : df(t) 역수</font>"
   ]
  },
  {
   "cell_type": "code",
   "execution_count": 1,
   "id": "important-allah",
   "metadata": {},
   "outputs": [
    {
     "name": "stdout",
     "output_type": "stream",
     "text": [
      "['바나나', '길고', '과일이', '노란', '사과', '싶은', '먹고', '저는', '좋아요']\n"
     ]
    }
   ],
   "source": [
    "import pandas as pd\n",
    "from math import log # IDF계산\n",
    "\n",
    "docs = [\n",
    "  '먹고 싶은 사과',\n",
    "  '먹고 싶은 바나나',\n",
    "  '길고 노란 바나나 바나나',\n",
    "  '저는 과일이 좋아요'\n",
    "] \n",
    "vocab = list(set(w for doc in docs for w in doc.split()))\n",
    "print(vocab)"
   ]
  },
  {
   "cell_type": "code",
   "execution_count": 2,
   "id": "silent-myrtle",
   "metadata": {},
   "outputs": [],
   "source": [
    "def tf(t, d): #DTM\n",
    "    return d.count(t)\n",
    "\n",
    "def idf(t):\n",
    "    df = 0\n",
    "    for doc in docs:\n",
    "        df += t in doc\n",
    "    return log(N/(df + 1))\n",
    "\n",
    "def tfidf(t, d):\n",
    "    return tf(t,d)* idf(t)"
   ]
  },
  {
   "cell_type": "markdown",
   "id": "sealed-suspension",
   "metadata": {},
   "source": [
    "### TF (TDM)"
   ]
  },
  {
   "cell_type": "markdown",
   "id": "reasonable-celtic",
   "metadata": {},
   "source": [
    "### IDF"
   ]
  },
  {
   "cell_type": "markdown",
   "id": "trying-newfoundland",
   "metadata": {},
   "source": [
    "### TF-IDF 행렬 출력"
   ]
  },
  {
   "cell_type": "markdown",
   "id": "suited-museum",
   "metadata": {
    "tags": []
   },
   "source": [
    "---- \n",
    "## [실습] 사이킷런을 이용한 DTM과 TF-IDF\n",
    "----"
   ]
  },
  {
   "cell_type": "markdown",
   "id": "rotary-sister",
   "metadata": {},
   "source": [
    "* CountVectorizer"
   ]
  },
  {
   "cell_type": "code",
   "execution_count": null,
   "id": "93a33fe6-5974-4280-833e-99bfaeda65db",
   "metadata": {},
   "outputs": [],
   "source": []
  },
  {
   "cell_type": "markdown",
   "id": "oriental-photograph",
   "metadata": {},
   "source": [
    "* TfidfVectorizer : TF-IDF 계산\n",
    "* (IDF의 로그항의 분자에 1을 더해주며, 로그항에 1을 더해주고, TF-IDF에 L2 정규화라는 방법으로 값을 조정"
   ]
  },
  {
   "cell_type": "code",
   "execution_count": null,
   "id": "8e6cd42a-4670-41db-8b62-87157ba5bdfc",
   "metadata": {},
   "outputs": [],
   "source": []
  },
  {
   "cell_type": "markdown",
   "id": "intended-bearing",
   "metadata": {},
   "source": [
    "# 군집간 유사도(similarity)"
   ]
  },
  {
   "cell_type": "markdown",
   "id": "naked-lexington",
   "metadata": {},
   "source": [
    "### [실습] 주가 군집 유사도"
   ]
  },
  {
   "cell_type": "code",
   "execution_count": null,
   "id": "ancient-local",
   "metadata": {},
   "outputs": [],
   "source": []
  },
  {
   "cell_type": "markdown",
   "id": "clean-afghanistan",
   "metadata": {},
   "source": [
    "### [실습] K-means를 활용한 Document Clustering"
   ]
  },
  {
   "cell_type": "code",
   "execution_count": null,
   "id": "exempt-investing",
   "metadata": {},
   "outputs": [],
   "source": []
  }
 ],
 "metadata": {
  "kernelspec": {
   "display_name": "Python 3 (ipykernel)",
   "language": "python",
   "name": "python3"
  },
  "language_info": {
   "codemirror_mode": {
    "name": "ipython",
    "version": 3
   },
   "file_extension": ".py",
   "mimetype": "text/x-python",
   "name": "python",
   "nbconvert_exporter": "python",
   "pygments_lexer": "ipython3",
   "version": "3.8.8"
  },
  "toc-autonumbering": true
 },
 "nbformat": 4,
 "nbformat_minor": 5
}
