{
 "cells": [
  {
   "cell_type": "markdown",
   "id": "fa19bbfc-e9b0-483a-b0ba-11751dc1cb7e",
   "metadata": {},
   "source": [
    "<font size=6><b>Lec04. Image Argumentation (이미지 증강)</b></font><br>\n",
    "tfds.image_classification.FashionMNIST\n",
    "<br>\n",
    "* ref : https://keras.io/api/preprocessing/image/\n",
    "* ref : https://www.tensorflow.org/datasets/catalog/fashion_mnist\n",
    "* ref : 홈페이지 : https://github.com/zalandoresearch/fashion-mnist\n",
    "* ref : 소스 코드 : https://github.com/tensorflow/datasets/tree/master/tensorflow_datasets/image_classification/mnist.py\n",
    "\n"
   ]
  },
  {
   "cell_type": "code",
   "execution_count": 26,
   "id": "d15e5c2b-1c1d-4e59-8b5c-e0f393c84c79",
   "metadata": {},
   "outputs": [
    {
     "data": {
      "text/html": [
       "<style>.container{width:100% !important;}</style>"
      ],
      "text/plain": [
       "<IPython.core.display.HTML object>"
      ]
     },
     "metadata": {},
     "output_type": "display_data"
    }
   ],
   "source": [
    "import pandas as pd\n",
    "import numpy as np\n",
    "import matplotlib.pyplot as plt\n",
    "import seaborn as sns\n",
    "\n",
    "from keras.models import Sequential\n",
    "from keras.layers import Dense, Activation                 #-------------FC\n",
    "from keras.layers import Conv2D, MaxPooling2D,Flatten      #-------------CNN\n",
    "import tensorflow as tf\n",
    "from tensorflow.keras.utils import to_categorical\n",
    "\n",
    "from keras.callbacks import EarlyStopping, ModelCheckpoint  #------------ callback\n",
    "\n",
    "import warnings\n",
    "warnings.filterwarnings(action='ignore')\n",
    "\n",
    "#-------------------- 차트 관련 속성 (한글처리, 그리드) -----------\n",
    "#plt.rc('font', family='NanumGothicOTF') # For MacOS\n",
    "plt.rcParams['font.family']= 'Malgun Gothic'\n",
    "plt.rcParams['axes.unicode_minus'] = False\n",
    "sns.set()\n",
    "\n",
    "#-------------------- 주피터 , 출력결과 넓이 늘리기 ---------------\n",
    "from IPython.core.display import display, HTML\n",
    "display(HTML(\"<style>.container{width:100% !important;}</style>\"))\n",
    "pd.set_option('display.max_rows', 100)\n",
    "pd.set_option('display.max_columns', 100)\n",
    "pd.set_option('max_colwidth', None)\n",
    "\n",
    "# from sklearn.datasets import load_boston\n",
    "from keras.datasets     import fashion_mnist\n"
   ]
  },
  {
   "cell_type": "code",
   "execution_count": 27,
   "id": "406ababe-e736-4026-b3b5-3d99c1755af1",
   "metadata": {},
   "outputs": [],
   "source": [
    "from tensorflow.keras.preprocessing import image_dataset_from_directory\n",
    "from keras.preprocessing.image import ImageDataGenerator\n",
    "from PIL import Image\n",
    "#(featurewise_center=False, samplewise_center=False, featurewise_std_normalization=False, samplewise_std_normalization=False, zca_whitening=False, zca_epsilon=1e-06, rotation_range=0, width_shift_range=0.0, height_shift_range=0.0, brightness_range=None, shear_range=0.0, zoom_range=0.0, channel_shift_range=0.0, fill_mode='nearest', cval=0.0, horizontal_flip=False, vertical_flip=False, rescale=None, preprocessing_function=None, data_format=None, validation_split=0.0, dtype=None)\n"
   ]
  },
  {
   "cell_type": "markdown",
   "id": "0ea1964c-8dbc-4d19-93d6-3e297f610428",
   "metadata": {},
   "source": [
    "## 이미지 증강을 위해선 반드시 3단 디렉토리 구조를 가져갈 것"
   ]
  },
  {
   "cell_type": "markdown",
   "id": "6a911d17-14f8-4784-b2c9-e072cb131e96",
   "metadata": {},
   "source": [
    "<pre>\n",
    "train/              -------------------- 최상위폴더\n",
    "...cat/              -------------------- 서브폴더 : 분류클래스\n",
    "......cat_1.jpg   --------------------관련 이미지\n",
    "......cat_2.jpg\n",
    "...dog/\n",
    "......dog_1.jpg\n",
    "......dog_2.jpg"
   ]
  },
  {
   "cell_type": "markdown",
   "id": "6ef63eb8-f4c3-4574-acb5-64ce166c4fa0",
   "metadata": {},
   "source": [
    "# seed 고정"
   ]
  },
  {
   "cell_type": "code",
   "execution_count": 28,
   "id": "03e35e0b-0742-4a96-b975-4e7e45808c49",
   "metadata": {},
   "outputs": [],
   "source": [
    "np.random.seed(1234)\n",
    "tf.random.set_seed(1234)"
   ]
  },
  {
   "cell_type": "markdown",
   "id": "2632a76e-f6aa-4352-bd87-8b2a4930bbe0",
   "metadata": {},
   "source": [
    "# Data Load"
   ]
  },
  {
   "cell_type": "code",
   "execution_count": 29,
   "id": "123d1eb4-c81a-4100-9780-b5feab9899e0",
   "metadata": {},
   "outputs": [],
   "source": [
    "#ML : X_train, X_test, y_test, y_test = train_test_split()"
   ]
  },
  {
   "cell_type": "code",
   "execution_count": 30,
   "id": "dc61d964-3626-4583-812c-81add2621a72",
   "metadata": {},
   "outputs": [],
   "source": [
    "(X_train, y_train), (X_test, y_test) = fashion_mnist.load_data()  # [(arr),(arr)]"
   ]
  },
  {
   "cell_type": "code",
   "execution_count": 31,
   "id": "f4ef3915-435b-49ce-b98d-35d10609bf1a",
   "metadata": {},
   "outputs": [
    {
     "data": {
      "text/plain": [
       "((60000, 28, 28), (60000,), (10000, 28, 28), (10000,))"
      ]
     },
     "execution_count": 31,
     "metadata": {},
     "output_type": "execute_result"
    }
   ],
   "source": [
    "X_train.shape, y_train.shape, X_test.shape, y_test.shape"
   ]
  },
  {
   "cell_type": "code",
   "execution_count": 32,
   "id": "b5891b0f-bfcf-4a61-8c95-754cf08294eb",
   "metadata": {},
   "outputs": [
    {
     "data": {
      "text/plain": [
       "9    6000\n",
       "0    6000\n",
       "3    6000\n",
       "2    6000\n",
       "7    6000\n",
       "5    6000\n",
       "1    6000\n",
       "6    6000\n",
       "4    6000\n",
       "8    6000\n",
       "dtype: int64"
      ]
     },
     "execution_count": 32,
     "metadata": {},
     "output_type": "execute_result"
    }
   ],
   "source": [
    "pd.Series(y_train).value_counts()"
   ]
  },
  {
   "cell_type": "markdown",
   "id": "c5d1934d-5828-47d1-8fe8-570ea8b85284",
   "metadata": {},
   "source": [
    "# EDA"
   ]
  },
  {
   "cell_type": "code",
   "execution_count": 33,
   "id": "e6ccd49a-a431-41a3-b20e-6feb31f17e81",
   "metadata": {},
   "outputs": [
    {
     "data": {
      "text/plain": [
       "60000"
      ]
     },
     "execution_count": 33,
     "metadata": {},
     "output_type": "execute_result"
    }
   ],
   "source": [
    "X_train.shape[0]"
   ]
  },
  {
   "cell_type": "code",
   "execution_count": 34,
   "id": "5be6dc88-5843-473f-b41b-420d5a1dea98",
   "metadata": {},
   "outputs": [
    {
     "data": {
      "text/plain": [
       "(28, 28)"
      ]
     },
     "execution_count": 34,
     "metadata": {},
     "output_type": "execute_result"
    }
   ],
   "source": [
    "X_train[0].shape"
   ]
  },
  {
   "cell_type": "code",
   "execution_count": 35,
   "id": "9aa485b9-b54b-4419-a803-5405bc72bfb1",
   "metadata": {},
   "outputs": [
    {
     "data": {
      "text/plain": [
       "(30, 28, 28)"
      ]
     },
     "execution_count": 35,
     "metadata": {},
     "output_type": "execute_result"
    }
   ],
   "source": [
    "X_train[:30].shape"
   ]
  },
  {
   "cell_type": "code",
   "execution_count": 36,
   "id": "ba13f437-85c9-4a4f-a74b-c43d0569ddcf",
   "metadata": {},
   "outputs": [
    {
     "data": {
      "image/png": "[encoded data removed]",
      "text/plain": [
       "<Figure size 1440x648 with 30 Axes>"
      ]
     },
     "metadata": {},
     "output_type": "display_data"
    }
   ],
   "source": [
    "import matplotlib.pyplot as plt\n",
    "p, axes = plt.subplots(3, 10, figsize=(20,9))\n",
    "\n",
    "for i, x in enumerate( range(X_train[:30].shape[0])):  #range(30)):\n",
    "    r = i // 10\n",
    "    c = i % 10\n",
    "    axes[r][c].imshow(X_train[x])   #, cmap=pyplot.get_cmap('gray'))\n",
    "    axes[r][c].set_title(y_train[x])\n",
    "# plt.show()"
   ]
  },
  {
   "cell_type": "code",
   "execution_count": 37,
   "id": "232c0c4f-0b30-4b84-a10f-04df227e4be5",
   "metadata": {},
   "outputs": [],
   "source": [
    "label = ['T-shirt/top','Trouser/pants','Pullover shirt','Dress','Coat',  'Sandal','Shirt','Sneaker','Bag','Ankle boot']"
   ]
  },
  {
   "cell_type": "markdown",
   "id": "dee66574-a7c1-4d69-81d6-05d33c3ceda6",
   "metadata": {
    "tags": []
   },
   "source": [
    "# X 데이터 가공"
   ]
  },
  {
   "cell_type": "markdown",
   "id": "d6ae3191-b4f1-43a2-bc00-c3a1fe35901f",
   "metadata": {},
   "source": [
    "* <font color=red><b>CNN 모델 : shape(장수, H, W, 컬러) </b></font>"
   ]
  },
  {
   "cell_type": "code",
   "execution_count": 38,
   "id": "6bdd2b78-2b12-4efb-92b5-bc49fcbae035",
   "metadata": {},
   "outputs": [],
   "source": [
    "X_train_img = X_train.reshape(-1, 28, 28, 1)    #1:흑백  3:RGB(컬러)\n",
    "X_test_img  = X_test.reshape(-1, 28, 28, 1)     #1:흑백  3:RGB(컬러)"
   ]
  },
  {
   "cell_type": "code",
   "execution_count": 39,
   "id": "23f0ef4d-13e8-4eb2-9704-edae82955f9c",
   "metadata": {},
   "outputs": [
    {
     "data": {
      "text/plain": [
       "((60000, 28, 28, 1), (10000, 28, 28, 1))"
      ]
     },
     "execution_count": 39,
     "metadata": {},
     "output_type": "execute_result"
    }
   ],
   "source": [
    "X_train_img.shape, X_test_img.shape"
   ]
  },
  {
   "cell_type": "markdown",
   "id": "a57ce69d-d4fb-41ad-b606-6c3d36ebedf7",
   "metadata": {},
   "source": [
    "## 픽셀값 정규화\n",
    "* 0 ~ 255 : 스케일링(MinMaxScaler)"
   ]
  },
  {
   "cell_type": "code",
   "execution_count": 40,
   "id": "90535207-5970-4dd9-b56f-0bdf48f8b671",
   "metadata": {},
   "outputs": [],
   "source": [
    "X_train_scaler = X_train_img / 255.0\n",
    "X_test_scaler  = X_test_img  / 255.0"
   ]
  },
  {
   "cell_type": "markdown",
   "id": "f4fb7d22-60ab-49f1-a227-efe7707c8517",
   "metadata": {},
   "source": [
    "# y label 평준화\n",
    "*  (integers in range 0-9)"
   ]
  },
  {
   "cell_type": "code",
   "execution_count": 41,
   "id": "8a3426f5-9fb3-4141-92ab-9fc517c65424",
   "metadata": {},
   "outputs": [],
   "source": [
    "y_train_oh = to_categorical( y=y_train, num_classes=10, dtype='int32')\n",
    "y_test_oh  = to_categorical( y=y_test,  num_classes=10, dtype='int32')"
   ]
  },
  {
   "cell_type": "markdown",
   "id": "6f49f70a-dbc8-4529-807b-aa4c3d8f3ffe",
   "metadata": {},
   "source": [
    "# CNN 모델 구축"
   ]
  },
  {
   "cell_type": "code",
   "execution_count": 42,
   "id": "fd8b51b0-5228-428e-aed5-7c056c467ef4",
   "metadata": {},
   "outputs": [],
   "source": [
    "INPUT_SHAPE__  = (28, 28, 1)                    #------------------- 주의주의주의\n",
    "NUM_CLASS__    = 10                             #------------------- 총10개분류\n",
    "ACTIVATION__   = \"softmax\"                      #------------------- sigmoid\n",
    "LOSS__         = 'categorical_crossentropy'     #------------------- binary_crossentropy , sparse_crossentropy\n",
    "\n",
    "#----------------------------------------------------------\n",
    "model = Sequential([\n",
    "    Conv2D(16, kernel_size=(3,3), input_shape=INPUT_SHAPE__ , activation='relu'),\n",
    "    MaxPooling2D(pool_size=(2, 2)),\n",
    "    Conv2D(16, kernel_size=(3,3),  activation='relu'),        \n",
    "    MaxPooling2D(pool_size=(2, 2)),\n",
    "    Flatten(),\n",
    "    # ------------------------------- FC(Affine) -----------\n",
    "    Dense(units=128, activation='relu'),\n",
    "    Dense(units=NUM_CLASS__, activation=ACTIVATION__)  #다중분류 예측(0~9)\n",
    "\n",
    "])\n",
    "model.compile(loss=LOSS__,  optimizer='adam', metrics=['accuracy'])"
   ]
  },
  {
   "cell_type": "code",
   "execution_count": 43,
   "id": "68dae2ec-3c2f-4864-9163-db344c3a9a14",
   "metadata": {},
   "outputs": [],
   "source": [
    "# model.summary()"
   ]
  },
  {
   "cell_type": "markdown",
   "id": "0cf29531-20de-40f3-9682-3bc6a05925a6",
   "metadata": {
    "tags": []
   },
   "source": [
    "# 학습 & 평가"
   ]
  },
  {
   "cell_type": "markdown",
   "id": "c27ae602-f33d-4dc3-a84a-f8f7fcf0a4ca",
   "metadata": {},
   "source": [
    "* <font color=red><b> X는 스케일된 데이터, y는 원핫인코딩 데이터\n",
    "* callback 기능 : https://keras.io/api/callbacks/\n",
    "    "
   ]
  },
  {
   "cell_type": "markdown",
   "id": "04501092-81b5-4a47-8221-ab6550b77bc6",
   "metadata": {},
   "source": [
    "<font color=red><B>Usage of callbacks via the built-in fit() loop\n",
    "* Write TensorBoard logs after every batch of training to monitor your metrics<br>\n",
    "<font color=red>* Periodically save your model to disk  ---------------------------------------------- 모델저장<br>\n",
    "<font color=red>* Do early stopping   ---------------------------------------------------------------- 오버피팅 시 조기종료\n",
    "* Get a view on internal states and statistics of a model during training"
   ]
  },
  {
   "cell_type": "code",
   "execution_count": 44,
   "id": "9c056200-d7e3-4fcf-b4db-02612c143282",
   "metadata": {},
   "outputs": [],
   "source": [
    "EPOCHS__      = 100\n",
    "BATCH_SIZE__  = 128\n",
    "PATIENCE__    = 5"
   ]
  },
  {
   "cell_type": "code",
   "execution_count": 45,
   "id": "91de9a01-c3c2-41f4-8b4b-5e6a52d2bfe4",
   "metadata": {},
   "outputs": [],
   "source": [
    "# from keras.callbacks import EarlyStopping, ModelCheckpoint"
   ]
  },
  {
   "cell_type": "code",
   "execution_count": 47,
   "id": "257cb332-0b57-4222-ba5a-dbc6ebf98888",
   "metadata": {},
   "outputs": [],
   "source": [
    "MY_CALLBACKS__ = [\n",
    "    EarlyStopping(patience=PATIENCE__),          #------------PATIENCE__ : 조기종료\n",
    "    ModelCheckpoint(filepath='./model/mymodel_{epoch:02d}_{val_loss:.4f}.h5',\n",
    "                    monitor='val_loss',          #------------어떤 점수를 기준으로 모니터링할까\n",
    "                    save_best_only=True,         #------------이전보다 좋아질때만 저장\n",
    "                    save_weights_only=False      #------------모델+가중치 같이 저장\n",
    "                   )  # 이전 epoch 점수보다 현재 점수가 좋으면 모델 저장 : mymodel_03_2417.h5\n",
    "] "
   ]
  },
  {
   "cell_type": "code",
   "execution_count": 48,
   "id": "5f39b5ff-e7ed-467d-b94a-80004ee7984d",
   "metadata": {},
   "outputs": [
    {
     "name": "stdout",
     "output_type": "stream",
     "text": [
      "Epoch 1/100\n",
      "422/422 [==============================] - 8s 18ms/step - loss: 0.6350 - accuracy: 0.7734 - val_loss: 0.4559 - val_accuracy: 0.8303\n",
      "Epoch 2/100\n",
      "422/422 [==============================] - 7s 17ms/step - loss: 0.4076 - accuracy: 0.8542 - val_loss: 0.4005 - val_accuracy: 0.8472\n",
      "Epoch 3/100\n",
      "422/422 [==============================] - 7s 17ms/step - loss: 0.3585 - accuracy: 0.8708 - val_loss: 0.3607 - val_accuracy: 0.8698\n",
      "Epoch 4/100\n",
      "422/422 [==============================] - 8s 18ms/step - loss: 0.3340 - accuracy: 0.8789 - val_loss: 0.3352 - val_accuracy: 0.8767\n",
      "Epoch 5/100\n",
      "422/422 [==============================] - 8s 18ms/step - loss: 0.3153 - accuracy: 0.8849 - val_loss: 0.3299 - val_accuracy: 0.8808\n",
      "Epoch 6/100\n",
      "422/422 [==============================] - 8s 19ms/step - loss: 0.3021 - accuracy: 0.8884 - val_loss: 0.3156 - val_accuracy: 0.8862\n",
      "Epoch 7/100\n",
      "422/422 [==============================] - 7s 18ms/step - loss: 0.2841 - accuracy: 0.8969 - val_loss: 0.3053 - val_accuracy: 0.8925\n",
      "Epoch 8/100\n",
      "422/422 [==============================] - 7s 18ms/step - loss: 0.2748 - accuracy: 0.9001 - val_loss: 0.2929 - val_accuracy: 0.8913\n",
      "Epoch 9/100\n",
      "422/422 [==============================] - 8s 18ms/step - loss: 0.2636 - accuracy: 0.9033 - val_loss: 0.2873 - val_accuracy: 0.8937\n",
      "Epoch 10/100\n",
      "422/422 [==============================] - 9s 21ms/step - loss: 0.2517 - accuracy: 0.9064 - val_loss: 0.2842 - val_accuracy: 0.8967\n",
      "Epoch 11/100\n",
      "422/422 [==============================] - 9s 21ms/step - loss: 0.2457 - accuracy: 0.9088 - val_loss: 0.2770 - val_accuracy: 0.8992\n",
      "Epoch 12/100\n",
      "422/422 [==============================] - 9s 20ms/step - loss: 0.2357 - accuracy: 0.9127 - val_loss: 0.2915 - val_accuracy: 0.8928\n",
      "Epoch 13/100\n",
      "422/422 [==============================] - 9s 22ms/step - loss: 0.2285 - accuracy: 0.9157 - val_loss: 0.2795 - val_accuracy: 0.8983\n",
      "Epoch 14/100\n",
      "422/422 [==============================] - 8s 19ms/step - loss: 0.2197 - accuracy: 0.9172 - val_loss: 0.2739 - val_accuracy: 0.9027\n",
      "Epoch 15/100\n",
      "422/422 [==============================] - 8s 20ms/step - loss: 0.2132 - accuracy: 0.9205 - val_loss: 0.2746 - val_accuracy: 0.9000\n",
      "Epoch 16/100\n",
      "422/422 [==============================] - 8s 19ms/step - loss: 0.2054 - accuracy: 0.9239 - val_loss: 0.2691 - val_accuracy: 0.9020\n",
      "Epoch 17/100\n",
      "422/422 [==============================] - 8s 20ms/step - loss: 0.1997 - accuracy: 0.9260 - val_loss: 0.2698 - val_accuracy: 0.9025\n",
      "Epoch 18/100\n",
      "422/422 [==============================] - 9s 21ms/step - loss: 0.1945 - accuracy: 0.9269 - val_loss: 0.2851 - val_accuracy: 0.9003\n",
      "Epoch 19/100\n",
      "422/422 [==============================] - 11s 26ms/step - loss: 0.1895 - accuracy: 0.9293 - val_loss: 0.2664 - val_accuracy: 0.9047\n",
      "Epoch 20/100\n",
      "422/422 [==============================] - 10s 23ms/step - loss: 0.1803 - accuracy: 0.9328 - val_loss: 0.2673 - val_accuracy: 0.9043\n",
      "Epoch 21/100\n",
      "422/422 [==============================] - 9s 22ms/step - loss: 0.1752 - accuracy: 0.9346 - val_loss: 0.2740 - val_accuracy: 0.9047\n",
      "Epoch 22/100\n",
      "422/422 [==============================] - 9s 22ms/step - loss: 0.1731 - accuracy: 0.9349 - val_loss: 0.2800 - val_accuracy: 0.9023\n",
      "Epoch 23/100\n",
      "422/422 [==============================] - 9s 21ms/step - loss: 0.1646 - accuracy: 0.9385 - val_loss: 0.2712 - val_accuracy: 0.9067\n",
      "Epoch 24/100\n",
      "422/422 [==============================] - 9s 22ms/step - loss: 0.1598 - accuracy: 0.9407 - val_loss: 0.2809 - val_accuracy: 0.9053\n"
     ]
    }
   ],
   "source": [
    "res = model.fit(X_train_scaler, \n",
    "                y_train_oh, \n",
    "                epochs=EPOCHS__, \n",
    "                batch_size=BATCH_SIZE__,        #128바이트씩 읽어라\n",
    "                validation_split=0.1,           #학습:54만 ,  내부검증:6만\n",
    "                callbacks=MY_CALLBACKS__        #----------- 옵션\n",
    "               )"
   ]
  },
  {
   "cell_type": "code",
   "execution_count": 49,
   "id": "2bfee088-249d-44f6-a343-cec84662db6d",
   "metadata": {},
   "outputs": [
    {
     "name": "stdout",
     "output_type": "stream",
     "text": [
      "313/313 [==============================] - 1s 4ms/step - loss: 0.2787 - accuracy: 0.9061\n"
     ]
    }
   ],
   "source": [
    "loss_categorical_crossentropy , metrics_accuracy = model.evaluate(X_test_scaler, y_test_oh)"
   ]
  },
  {
   "cell_type": "markdown",
   "id": "03903a63-e389-43f9-aad1-6c097c2e281c",
   "metadata": {},
   "source": [
    "# 학습 평가 시각화"
   ]
  },
  {
   "cell_type": "code",
   "execution_count": 50,
   "id": "3ae8a342-417a-472d-9a42-314e6091ff2c",
   "metadata": {},
   "outputs": [
    {
     "data": {
      "image/png": "[encoded data removed]",
      "text/plain": [
       "<Figure size 432x288 with 1 Axes>"
      ]
     },
     "metadata": {},
     "output_type": "display_data"
    }
   ],
   "source": [
    "plt.plot(np.arange(len(res.history['accuracy'])), res.history['accuracy'], c='red', label='tarin')\n",
    "plt.plot(np.arange(len(res.history['accuracy'])), res.history['val_accuracy'], c='blue', label='test')\n",
    "plt.legend()\n",
    "plt.show()"
   ]
  },
  {
   "cell_type": "code",
   "execution_count": 51,
   "id": "9a835183-4167-427f-8f31-5f186f43ae2a",
   "metadata": {},
   "outputs": [
    {
     "data": {
      "image/png": "[encoded data removed]",
      "text/plain": [
       "<Figure size 432x288 with 1 Axes>"
      ]
     },
     "metadata": {},
     "output_type": "display_data"
    }
   ],
   "source": [
    "plt.plot(np.arange(len(res.history['val_loss'])), res.history['loss'], c='red', label='train_loss_9')\n",
    "plt.plot(np.arange(len(res.history['val_loss'])), res.history['val_loss'], c='blue', label='val_loss_1')\n",
    "plt.legend()\n",
    "plt.show()"
   ]
  },
  {
   "cell_type": "markdown",
   "id": "f7d84840-3b5b-4bfa-ac39-12a6b153abdc",
   "metadata": {
    "tags": []
   },
   "source": [
    "# 이미지 증강\n",
    "* https://www.tensorflow.org/api_docs/python/tf/keras/preprocessing/image/ImageDataGenerator\n",
    "* https://keras.io/ko/preprocessing/image/"
   ]
  },
  {
   "cell_type": "code",
   "execution_count": 53,
   "id": "e56100d1-becf-4546-8b2c-59f234f790b2",
   "metadata": {},
   "outputs": [],
   "source": [
    "# generator = ImageDataGenerator(featurewise_center=False, samplewise_center=False, \n",
    "#                                featurewise_std_normalization=False, \n",
    "#                                samplewise_std_normalization=False, \n",
    "#                                zca_whitening=False, zca_epsilon=1e-06, \n",
    "#                                rotation_range=0, width_shift_range=0.0, \n",
    "#                                height_shift_range=0.0, brightness_range=None, \n",
    "#                                shear_range=0.0, zoom_range=0.0, channel_shift_range=0.0, \n",
    "#                                fill_mode='nearest', cval=0.0, \n",
    "#                                horizontal_flip=False, vertical_flip=False, \n",
    "#                                rescale=None, \n",
    "#                                preprocessing_function=None, \n",
    "#                                data_format=None, \n",
    "#                                validation_split=0.0, dtype=None)"
   ]
  },
  {
   "cell_type": "code",
   "execution_count": 52,
   "id": "d55c06b4-9332-484d-80c2-80bbb3a467ac",
   "metadata": {},
   "outputs": [],
   "source": [
    "from keras.preprocessing.image import ImageDataGenerator\n",
    "from PIL import Image"
   ]
  },
  {
   "cell_type": "markdown",
   "id": "191dff41-602a-45b7-805f-629936b01a2d",
   "metadata": {},
   "source": [
    "## 픽셀을 arr[28/28] 값으로 가지고 있는 경우"
   ]
  },
  {
   "cell_type": "code",
   "execution_count": 60,
   "id": "e2e87a33-5851-425c-a52e-e77a88bd90c0",
   "metadata": {},
   "outputs": [
    {
     "data": {
      "text/plain": [
       "'Ankle boot'"
      ]
     },
     "execution_count": 60,
     "metadata": {},
     "output_type": "execute_result"
    }
   ],
   "source": [
    "label[9]"
   ]
  },
  {
   "cell_type": "code",
   "execution_count": 74,
   "id": "6ac1ce50-5a09-41cd-b5f2-68651b2358a3",
   "metadata": {},
   "outputs": [
    {
     "data": {
      "text/plain": [
       "((60000, 28, 28, 1), (60000, 10))"
      ]
     },
     "execution_count": 74,
     "metadata": {},
     "output_type": "execute_result"
    }
   ],
   "source": [
    "X_train_scaler.shape , y_train_oh.shape "
   ]
  },
  {
   "cell_type": "code",
   "execution_count": 73,
   "id": "35064e9b-7388-4045-9dfa-53e85cb993d1",
   "metadata": {},
   "outputs": [
    {
     "data": {
      "text/plain": [
       "((28, 28, 1), 9, 'Ankle boot')"
      ]
     },
     "execution_count": 73,
     "metadata": {},
     "output_type": "execute_result"
    }
   ],
   "source": [
    "X_train_scaler[0].shape, np.argmax(y_train_oh[0]), label[np.argmax(y_train_oh[0])]"
   ]
  },
  {
   "cell_type": "markdown",
   "id": "0f353928-d486-4d00-b57e-4c3a63d7329b",
   "metadata": {},
   "source": [
    "## 이미지 보기"
   ]
  },
  {
   "cell_type": "markdown",
   "id": "375951fe-845c-4674-9bef-76c07efb6216",
   "metadata": {},
   "source": [
    "### matplot"
   ]
  },
  {
   "cell_type": "code",
   "execution_count": 64,
   "id": "f9216aa1-9915-4c60-921e-db550c17d5b0",
   "metadata": {},
   "outputs": [
    {
     "data": {
      "image/png": "[encoded data removed]",
      "text/plain": [
       "<Figure size 432x288 with 1 Axes>"
      ]
     },
     "metadata": {},
     "output_type": "display_data"
    }
   ],
   "source": [
    "import matplotlib.pyplot as plt\n",
    "plt.imshow(X_train_scaler[0])  #(28, 28, 1)\n",
    "plt.title(f\"{np.argmax(y_train_oh[0])}  {label[np.argmax(y_train_oh[0])]}\")\n",
    "plt.show()"
   ]
  },
  {
   "cell_type": "markdown",
   "id": "cab4f1a7-0a29-41e5-810d-3bb7f3cce8fc",
   "metadata": {},
   "source": [
    "### keras api"
   ]
  },
  {
   "cell_type": "code",
   "execution_count": 69,
   "id": "e150d155-3961-42f1-afc3-a9bfe42aa66d",
   "metadata": {},
   "outputs": [],
   "source": [
    "# from PIL import Image\n",
    "# # from keras.utils.img_to_array\n",
    "# from keras.preprocessing.image import array_to_img, img_to_array, load_image\n",
    "# img   = array_to_img(X_train_scaler[0])\n",
    "# array = img_to_array(img)\n",
    "# load_image(img)\n",
    "# print(array)"
   ]
  },
  {
   "cell_type": "markdown",
   "id": "ef9bd0ad-0585-4e9e-8a6e-3cfbf4dd3244",
   "metadata": {},
   "source": [
    "## ImageDataGenerator 만들기 "
   ]
  },
  {
   "cell_type": "code",
   "execution_count": 70,
   "id": "abf7a717-db85-4482-8325-557b80750742",
   "metadata": {},
   "outputs": [],
   "source": [
    "#================================= train만 증강 ===========================================\n",
    "train_datagen = ImageDataGenerator( rescale=1./255,             #----------0 ~ 255 : 스케일링(MinMaxScaler)\n",
    "                                    featurewise_center=True,\n",
    "                                    rotation_range=20,\n",
    "                                    width_shift_range=0.2,\n",
    "                                    height_shift_range=0.2,\n",
    "                                    horizontal_flip=True,\n",
    "                                    vertical_flip=True)\n",
    "\n",
    "#================================= test 증강XXXXXXXXXXXXXXXXXXXXXx =========================\n",
    "test_datagen = ImageDataGenerator( rescale=1./255 )             #----------0 ~ 255 : 스케일링(MinMaxScaler)"
   ]
  },
  {
   "cell_type": "code",
   "execution_count": null,
   "id": "6e7553b1-4c51-4513-93bf-83ca88aba73d",
   "metadata": {},
   "outputs": [
    {
     "name": "stdout",
     "output_type": "stream",
     "text": [
      "Epoch 1/10\n",
      "1875/1875 [==============================] - 33s 18ms/step - loss: 1.9031 - accuracy: 0.3100\n",
      "Epoch 2/10\n",
      "1875/1875 [==============================] - 30s 16ms/step - loss: 1.3175 - accuracy: 0.5099\n",
      "Epoch 3/10\n",
      "1875/1875 [==============================] - 33s 18ms/step - loss: 1.1171 - accuracy: 0.5828\n",
      "Epoch 4/10\n",
      "1875/1875 [==============================] - 34s 18ms/step - loss: 1.0108 - accuracy: 0.6187\n",
      "Epoch 5/10\n",
      "1875/1875 [==============================] - 34s 18ms/step - loss: 0.9464 - accuracy: 0.6421\n",
      "Epoch 6/10\n",
      "1875/1875 [==============================] - 34s 18ms/step - loss: 0.8969 - accuracy: 0.6624\n",
      "Epoch 7/10\n",
      "1875/1875 [==============================] - 34s 18ms/step - loss: 0.8713 - accuracy: 0.6693\n",
      "Epoch 8/10\n",
      "1875/1875 [==============================] - 32s 17ms/step - loss: 0.8524 - accuracy: 0.6790\n",
      "Epoch 9/10\n",
      "1033/1875 [===============>..............] - ETA: 11s - loss: 0.8318 - accuracy: 0.6875"
     ]
    }
   ],
   "source": [
    "model.fit_generator(  train_datagen.flow(X_train_scaler, y_train_oh, batch_size=32),\n",
    "                      steps_per_epoch=len(X_train_scaler) / 32, \n",
    "                      epochs=10)"
   ]
  },
  {
   "cell_type": "markdown",
   "id": "e1add67f-cf42-448a-800b-cc4e312265b0",
   "metadata": {},
   "source": [
    "* 연습용 : 이미지 증강 만들기"
   ]
  },
  {
   "cell_type": "code",
   "execution_count": 71,
   "id": "fb603514-9d3c-460c-a774-1227b3958db2",
   "metadata": {},
   "outputs": [
    {
     "name": "stdout",
     "output_type": "stream",
     "text": [
      "Epoch 0\n"
     ]
    },
    {
     "ename": "ValueError",
     "evalue": "('Input data in `NumpyArrayIterator` should have rank 4. You passed an array with shape', (60000, 28, 28))",
     "output_type": "error",
     "traceback": [
      "\u001b[1;31m---------------------------------------------------------------------------\u001b[0m",
      "\u001b[1;31mValueError\u001b[0m                                Traceback (most recent call last)",
      "\u001b[1;32m~\\AppData\\Local\\Temp/ipykernel_4176/853361500.py\u001b[0m in \u001b[0;36m<module>\u001b[1;34m\u001b[0m\n\u001b[0;32m      4\u001b[0m     \u001b[0mbatch_cnt\u001b[0m \u001b[1;33m=\u001b[0m \u001b[1;36m0\u001b[0m    \u001b[1;31m#-----------------batch_size=32\u001b[0m\u001b[1;33m\u001b[0m\u001b[1;33m\u001b[0m\u001b[0m\n\u001b[0;32m      5\u001b[0m \u001b[1;33m\u001b[0m\u001b[0m\n\u001b[1;32m----> 6\u001b[1;33m     \u001b[1;32mfor\u001b[0m \u001b[0mX_batch\u001b[0m\u001b[1;33m,\u001b[0m \u001b[0my_batch\u001b[0m \u001b[1;32min\u001b[0m \u001b[0mtrain_datagen\u001b[0m\u001b[1;33m.\u001b[0m\u001b[0mflow\u001b[0m\u001b[1;33m(\u001b[0m\u001b[0mX_train\u001b[0m\u001b[1;33m,\u001b[0m \u001b[0my_train\u001b[0m\u001b[1;33m,\u001b[0m \u001b[0mbatch_size\u001b[0m\u001b[1;33m=\u001b[0m\u001b[1;36m32\u001b[0m\u001b[1;33m)\u001b[0m\u001b[1;33m:\u001b[0m\u001b[1;33m\u001b[0m\u001b[1;33m\u001b[0m\u001b[0m\n\u001b[0m\u001b[0;32m      7\u001b[0m         \u001b[0mmodel\u001b[0m\u001b[1;33m.\u001b[0m\u001b[0mfit\u001b[0m\u001b[1;33m(\u001b[0m\u001b[0mX_batch\u001b[0m\u001b[1;33m,\u001b[0m \u001b[0my_batch\u001b[0m\u001b[1;33m)\u001b[0m\u001b[1;33m\u001b[0m\u001b[1;33m\u001b[0m\u001b[0m\n\u001b[0;32m      8\u001b[0m         \u001b[0mbatch_cnt\u001b[0m \u001b[1;33m+=\u001b[0m \u001b[1;36m1\u001b[0m\u001b[1;33m\u001b[0m\u001b[1;33m\u001b[0m\u001b[0m\n",
      "\u001b[1;32mC:\\AI\\pythonProject\\venv\\lib\\site-packages\\keras\\preprocessing\\image.py\u001b[0m in \u001b[0;36mflow\u001b[1;34m(self, x, y, batch_size, shuffle, sample_weight, seed, save_to_dir, save_prefix, save_format, subset)\u001b[0m\n\u001b[0;32m    882\u001b[0m \u001b[1;33m\u001b[0m\u001b[0m\n\u001b[0;32m    883\u001b[0m     \"\"\"\n\u001b[1;32m--> 884\u001b[1;33m     return NumpyArrayIterator(\n\u001b[0m\u001b[0;32m    885\u001b[0m         \u001b[0mx\u001b[0m\u001b[1;33m,\u001b[0m\u001b[1;33m\u001b[0m\u001b[1;33m\u001b[0m\u001b[0m\n\u001b[0;32m    886\u001b[0m         \u001b[0my\u001b[0m\u001b[1;33m,\u001b[0m\u001b[1;33m\u001b[0m\u001b[1;33m\u001b[0m\u001b[0m\n",
      "\u001b[1;32mC:\\AI\\pythonProject\\venv\\lib\\site-packages\\keras\\preprocessing\\image.py\u001b[0m in \u001b[0;36m__init__\u001b[1;34m(self, x, y, image_data_generator, batch_size, shuffle, sample_weight, seed, data_format, save_to_dir, save_prefix, save_format, subset, dtype)\u001b[0m\n\u001b[0;32m    461\u001b[0m         \u001b[0mdtype\u001b[0m \u001b[1;33m=\u001b[0m \u001b[0mbackend\u001b[0m\u001b[1;33m.\u001b[0m\u001b[0mfloatx\u001b[0m\u001b[1;33m(\u001b[0m\u001b[1;33m)\u001b[0m\u001b[1;33m\u001b[0m\u001b[1;33m\u001b[0m\u001b[0m\n\u001b[0;32m    462\u001b[0m       \u001b[0mkwargs\u001b[0m\u001b[1;33m[\u001b[0m\u001b[1;34m'dtype'\u001b[0m\u001b[1;33m]\u001b[0m \u001b[1;33m=\u001b[0m \u001b[0mdtype\u001b[0m\u001b[1;33m\u001b[0m\u001b[1;33m\u001b[0m\u001b[0m\n\u001b[1;32m--> 463\u001b[1;33m     super(NumpyArrayIterator, self).__init__(\n\u001b[0m\u001b[0;32m    464\u001b[0m         \u001b[0mx\u001b[0m\u001b[1;33m,\u001b[0m \u001b[0my\u001b[0m\u001b[1;33m,\u001b[0m \u001b[0mimage_data_generator\u001b[0m\u001b[1;33m,\u001b[0m\u001b[1;33m\u001b[0m\u001b[1;33m\u001b[0m\u001b[0m\n\u001b[0;32m    465\u001b[0m         \u001b[0mbatch_size\u001b[0m\u001b[1;33m=\u001b[0m\u001b[0mbatch_size\u001b[0m\u001b[1;33m,\u001b[0m\u001b[1;33m\u001b[0m\u001b[1;33m\u001b[0m\u001b[0m\n",
      "\u001b[1;32mC:\\AI\\pythonProject\\venv\\lib\\site-packages\\keras_preprocessing\\image\\numpy_array_iterator.py\u001b[0m in \u001b[0;36m__init__\u001b[1;34m(self, x, y, image_data_generator, batch_size, shuffle, sample_weight, seed, data_format, save_to_dir, save_prefix, save_format, subset, dtype)\u001b[0m\n\u001b[0;32m    122\u001b[0m         \u001b[0mself\u001b[0m\u001b[1;33m.\u001b[0m\u001b[0mx_misc\u001b[0m \u001b[1;33m=\u001b[0m \u001b[0mx_misc\u001b[0m\u001b[1;33m\u001b[0m\u001b[1;33m\u001b[0m\u001b[0m\n\u001b[0;32m    123\u001b[0m         \u001b[1;32mif\u001b[0m \u001b[0mself\u001b[0m\u001b[1;33m.\u001b[0m\u001b[0mx\u001b[0m\u001b[1;33m.\u001b[0m\u001b[0mndim\u001b[0m \u001b[1;33m!=\u001b[0m \u001b[1;36m4\u001b[0m\u001b[1;33m:\u001b[0m\u001b[1;33m\u001b[0m\u001b[1;33m\u001b[0m\u001b[0m\n\u001b[1;32m--> 124\u001b[1;33m             raise ValueError('Input data in `NumpyArrayIterator` '\n\u001b[0m\u001b[0;32m    125\u001b[0m                              \u001b[1;34m'should have rank 4. You passed an array '\u001b[0m\u001b[1;33m\u001b[0m\u001b[1;33m\u001b[0m\u001b[0m\n\u001b[0;32m    126\u001b[0m                              'with shape', self.x.shape)\n",
      "\u001b[1;31mValueError\u001b[0m: ('Input data in `NumpyArrayIterator` should have rank 4. You passed an array with shape', (60000, 28, 28))"
     ]
    }
   ],
   "source": [
    "# import time\n",
    "# for e in range(10):\n",
    "#     print('Epoch', e)\n",
    "#     batch_cnt = 0    #-----------------batch_size=32\n",
    "#     for X_batch, y_batch in train_datagen.flow(X_train, y_train, batch_size=32):\n",
    "#         model.fit(X_batch, y_batch)\n",
    "#         batch_cnt += 1\n",
    "        \n",
    "#         if batch_cnt >= len(X_train) / 32:    #예: train(320장) - batch_size(32) ====> 총 증강된 이미지(10장)\n",
    "#             break                             #예: train(320장) - batch_size(16) ====> 총 증강된 이미지(20장)\n",
    "#         time.sleep(500)    "
   ]
  },
  {
   "cell_type": "code",
   "execution_count": null,
   "id": "002e13d9-5f28-4042-8fb8-7000a8855b1b",
   "metadata": {},
   "outputs": [],
   "source": []
  },
  {
   "cell_type": "code",
   "execution_count": null,
   "id": "8cee034a-c6fe-4c4e-807f-8d3779405347",
   "metadata": {},
   "outputs": [],
   "source": []
  },
  {
   "cell_type": "markdown",
   "id": "a23d3755-2219-431a-8bdf-316088125ed6",
   "metadata": {},
   "source": [
    "## 폴더의 이미지를 증강시킬 경우"
   ]
  },
  {
   "cell_type": "code",
   "execution_count": null,
   "id": "5da1e3f7-c25b-4657-b458-f5c33ec79e9c",
   "metadata": {},
   "outputs": [],
   "source": [
    "from tensorflow.keras.preprocessing import image_dataset_from_directory\n",
    "img_list = image_dataset_from_directory(dir)\n"
   ]
  },
  {
   "cell_type": "code",
   "execution_count": null,
   "id": "741addbe-09c6-48ee-9ded-88981fa3241e",
   "metadata": {},
   "outputs": [],
   "source": []
  },
  {
   "cell_type": "code",
   "execution_count": null,
   "id": "62221b2d-d0ee-46d7-b9d9-1a108fa871a3",
   "metadata": {},
   "outputs": [],
   "source": []
  },
  {
   "cell_type": "code",
   "execution_count": null,
   "id": "c59cbb2a-d4c9-480f-80af-4a96180a6370",
   "metadata": {},
   "outputs": [],
   "source": []
  }
 ],
 "metadata": {
  "kernelspec": {
   "display_name": "Python 3 (ipykernel)",
   "language": "python",
   "name": "python3"
  },
  "language_info": {
   "codemirror_mode": {
    "name": "ipython",
    "version": 3
   },
   "file_extension": ".py",
   "mimetype": "text/x-python",
   "name": "python",
   "nbconvert_exporter": "python",
   "pygments_lexer": "ipython3",
   "version": "3.8.8"
  }
 },
 "nbformat": 4,
 "nbformat_minor": 5
}
