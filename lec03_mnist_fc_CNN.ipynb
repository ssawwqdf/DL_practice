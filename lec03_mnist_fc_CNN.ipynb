{
 "cells": [
  {
   "cell_type": "markdown",
   "id": "f0e1f766-532c-42c2-8e27-d2c5819daca7",
   "metadata": {},
   "source": [
    "# import"
   ]
  },
  {
   "cell_type": "code",
   "execution_count": 1,
   "id": "55702959-a29e-4bc9-a41a-1050a765507e",
   "metadata": {},
   "outputs": [],
   "source": [
    "import pandas as pd\n",
    "import numpy as np\n",
    "import matplotlib.pyplot as plt\n",
    "import seaborn as sns\n",
    "\n",
    "import warnings\n",
    "warnings.filterwarnings(action='ignore')\n",
    "\n",
    "#-------------------- 차트 관련 속성 (한글처리, 그리드) -----------\n",
    "#plt.rc('font', family='NanumGothicOTF') # For MacOS\n",
    "plt.rcParams['font.family']= 'Malgun Gothic'\n",
    "plt.rcParams['axes.unicode_minus'] = False\n",
    "sns.set()\n"
   ]
  },
  {
   "cell_type": "code",
   "execution_count": 14,
   "id": "ab5dfe64-721a-4a3c-974e-bffae8b38a28",
   "metadata": {},
   "outputs": [],
   "source": [
    "import tensorflow as tf\n",
    "from keras.models import Sequential\n",
    "from keras.layers import Dense, Activation            # FC\n",
    "from keras.layers import Conv2D, MaxPooling2D,Flatten # CNN\n",
    "\n",
    "from tensorflow.keras.utils import to_categorical\n",
    "\n",
    "# ------------------- seed 고정 -----------------------\n",
    "np.random.seed(1024)\n",
    "tf.random.set_seed(1024)"
   ]
  },
  {
   "cell_type": "markdown",
   "id": "dca7831d-e10d-4a10-a650-e3311ffb744e",
   "metadata": {},
   "source": [
    "# data"
   ]
  },
  {
   "cell_type": "code",
   "execution_count": 3,
   "id": "e693da72-0c24-4f91-940e-2eba56d87953",
   "metadata": {},
   "outputs": [],
   "source": [
    "# api에는 tensorflow.keras 쓰도록 되어있지만 keras가 떨어져 나와서 tensorflow 없어도 됨.\n",
    "from keras.datasets import mnist # toydataset. 누구나 거쳐가는 데이터"
   ]
  },
  {
   "cell_type": "code",
   "execution_count": 4,
   "id": "8cee4c6e-2e72-459b-9f71-4ba3bdeec6eb",
   "metadata": {},
   "outputs": [],
   "source": [
    "(X_train, y_train), (X_test, y_test) = mnist.load_data() # keras에서 load_data는 train, test set 나눠서 한다."
   ]
  },
  {
   "cell_type": "code",
   "execution_count": 5,
   "id": "bb411fc6-f456-4581-bf91-78d470169b14",
   "metadata": {},
   "outputs": [
    {
     "data": {
      "text/plain": [
       "((60000, 28, 28), (60000,), (10000, 28, 28), (10000,))"
      ]
     },
     "execution_count": 5,
     "metadata": {},
     "output_type": "execute_result"
    }
   ],
   "source": [
    "X_train.shape, y_train.shape, X_test.shape, y_test.shape"
   ]
  },
  {
   "cell_type": "markdown",
   "id": "64342d0e-3ec7-4ca9-885d-76d818807fc8",
   "metadata": {},
   "source": [
    "# X데이터 가공"
   ]
  },
  {
   "cell_type": "code",
   "execution_count": 6,
   "id": "6837d6e3-6025-452c-8cf7-2f4cd5c403c6",
   "metadata": {},
   "outputs": [],
   "source": [
    "# X_train = X_train.reshape(X_train.shape[0], 784) # 784=28*28\n",
    "# X_test = X_test.reshape(X_test.shape[0], 784) # 784=28*28"
   ]
  },
  {
   "cell_type": "code",
   "execution_count": 7,
   "id": "e3aedefa-719b-4de4-94a7-dd615a177af5",
   "metadata": {},
   "outputs": [],
   "source": [
    "X_train_scaled=X_train/255.0\n",
    "X_test_scaled=X_test/255.0"
   ]
  },
  {
   "cell_type": "markdown",
   "id": "a7f52133-75d8-46b8-af46-3d79ae58f2b1",
   "metadata": {},
   "source": [
    "# y label 평준화\n",
    "y_label : integers in range 0-9"
   ]
  },
  {
   "cell_type": "markdown",
   "id": "78d59a71-c3d0-4099-9566-f9319907764e",
   "metadata": {},
   "source": [
    "<pre>\n",
    "* ML : arr.LabelEncoder() 글->숫, arr.OneHotEncoder() 1 0 0 0 ... df.get_dummies() 결측처리, 글->숫, 원핫"
   ]
  },
  {
   "cell_type": "code",
   "execution_count": 8,
   "id": "0ba03270-7d7c-45c0-9d65-a81f79caa5e2",
   "metadata": {},
   "outputs": [],
   "source": [
    "y_train=to_categorical(y=y_train, num_classes=10, dtype='int32') # class 숫자 찍어줘야함\n",
    "y_test=to_categorical(y=y_test, num_classes=10, dtype='int32')"
   ]
  },
  {
   "cell_type": "markdown",
   "id": "a867062d-5296-4b98-be39-0d3eb195ded8",
   "metadata": {},
   "source": [
    "# Model"
   ]
  },
  {
   "cell_type": "markdown",
   "id": "032ae3c9-7b08-46cd-8d76-44d8cf4c18a7",
   "metadata": {},
   "source": [
    "<img src='https://miro.medium.com/max/1400/1*uAeANQIOQPqWZnnuH-VEyw.jpeg' width=700>"
   ]
  },
  {
   "cell_type": "code",
   "execution_count": 15,
   "id": "bb9e9100-91e6-48b3-8aa0-95bd67d34876",
   "metadata": {},
   "outputs": [],
   "source": [
    "model=Sequential()\n",
    "\n",
    "# ------------------------------- CNN --------------------------------------\n",
    "model.add(Conv2D(16, kernel_size=(5,5), input_shape=(28,28,1), activation='relu')) # 필터는 자동 생성.\n",
    "model.add(MaxPooling2D(pool_size=(2,2)))\n",
    "model.add(Conv2D(16, kernel_size=(5,5), activation='relu'))\n",
    "model.add(MaxPooling2D(pool_size=(2,2)))\n",
    "model.add(Flatten())\n",
    "\n",
    "\n",
    "# -------------------------------FC(Affine) --------------------------------------\n",
    "model.add(Dense(units=64 , activation='relu')) # ,input_dim=784 이제 이것도 필요 없다. 위에서 받아오기 때문데\n",
    "model.add(Dense(units=32 , activation='relu'))\n",
    "model.add(Dense(units=16 , activation='relu'))\n",
    "model.add(Dense(units=10 , activation='softmax')) # 다중분류 예측(0~9)\n",
    "\n",
    "\n",
    "\n",
    "# model.add(Dense(units=10 , activation='sigmoid')) # 내가 쓴 것. 다중분류????? to_categorical 하면 0~1 맞추는 거 아닌가"
   ]
  },
  {
   "cell_type": "code",
   "execution_count": 16,
   "id": "0001a8c0-a986-4528-a3a3-63bd5d597d21",
   "metadata": {},
   "outputs": [
    {
     "name": "stdout",
     "output_type": "stream",
     "text": [
      "Model: \"sequential_1\"\n",
      "_________________________________________________________________\n",
      " Layer (type)                Output Shape              Param #   \n",
      "=================================================================\n",
      " conv2d_2 (Conv2D)           (None, 24, 24, 16)        416       \n",
      "                                                                 \n",
      " max_pooling2d_2 (MaxPooling  (None, 12, 12, 16)       0         \n",
      " 2D)                                                             \n",
      "                                                                 \n",
      " conv2d_3 (Conv2D)           (None, 8, 8, 16)          6416      \n",
      "                                                                 \n",
      " max_pooling2d_3 (MaxPooling  (None, 4, 4, 16)         0         \n",
      " 2D)                                                             \n",
      "                                                                 \n",
      " flatten (Flatten)           (None, 256)               0         \n",
      "                                                                 \n",
      " dense (Dense)               (None, 64)                16448     \n",
      "                                                                 \n",
      " dense_1 (Dense)             (None, 32)                2080      \n",
      "                                                                 \n",
      " dense_2 (Dense)             (None, 16)                528       \n",
      "                                                                 \n",
      " dense_3 (Dense)             (None, 10)                170       \n",
      "                                                                 \n",
      "=================================================================\n",
      "Total params: 26,058\n",
      "Trainable params: 26,058\n",
      "Non-trainable params: 0\n",
      "_________________________________________________________________\n"
     ]
    }
   ],
   "source": [
    "model.summary()"
   ]
  },
  {
   "cell_type": "code",
   "execution_count": 17,
   "id": "3bef72a5-0b20-47dc-8ca7-a02f7ee1f678",
   "metadata": {},
   "outputs": [],
   "source": [
    "model.compile(loss='categorical_crossentropy', # logloss라고 써도 된다.\n",
    "             optimizer='adam',\n",
    "             metrics='accuracy')"
   ]
  },
  {
   "cell_type": "code",
   "execution_count": 18,
   "id": "802e085f-a95a-45d5-90c3-0f0df00d5431",
   "metadata": {},
   "outputs": [
    {
     "name": "stdout",
     "output_type": "stream",
     "text": [
      "Epoch 1/30\n",
      "422/422 [==============================] - 11s 24ms/step - loss: 0.9587 - accuracy: 0.8026 - val_loss: 0.2017 - val_accuracy: 0.9425\n",
      "Epoch 2/30\n",
      "422/422 [==============================] - 9s 22ms/step - loss: 0.1673 - accuracy: 0.9532 - val_loss: 0.1175 - val_accuracy: 0.9690\n",
      "Epoch 3/30\n",
      "422/422 [==============================] - 9s 21ms/step - loss: 0.1040 - accuracy: 0.9710 - val_loss: 0.0845 - val_accuracy: 0.9792\n",
      "Epoch 4/30\n",
      "422/422 [==============================] - 9s 21ms/step - loss: 0.0762 - accuracy: 0.9782 - val_loss: 0.0816 - val_accuracy: 0.9783\n",
      "Epoch 5/30\n",
      "422/422 [==============================] - 9s 21ms/step - loss: 0.0624 - accuracy: 0.9812 - val_loss: 0.0895 - val_accuracy: 0.9782\n",
      "Epoch 6/30\n",
      "422/422 [==============================] - 9s 22ms/step - loss: 0.0533 - accuracy: 0.9833 - val_loss: 0.0716 - val_accuracy: 0.9823\n",
      "Epoch 7/30\n",
      "422/422 [==============================] - 9s 22ms/step - loss: 0.0448 - accuracy: 0.9863 - val_loss: 0.0611 - val_accuracy: 0.9847\n",
      "Epoch 8/30\n",
      "422/422 [==============================] - 9s 21ms/step - loss: 0.0392 - accuracy: 0.9877 - val_loss: 0.0661 - val_accuracy: 0.9832\n",
      "Epoch 9/30\n",
      "422/422 [==============================] - 9s 20ms/step - loss: 0.0400 - accuracy: 0.9873 - val_loss: 0.0598 - val_accuracy: 0.9852\n",
      "Epoch 10/30\n",
      "422/422 [==============================] - 9s 21ms/step - loss: 0.0306 - accuracy: 0.9901 - val_loss: 0.0652 - val_accuracy: 0.9838\n",
      "Epoch 11/30\n",
      "422/422 [==============================] - 9s 20ms/step - loss: 0.0336 - accuracy: 0.9897 - val_loss: 0.0586 - val_accuracy: 0.9860\n",
      "Epoch 12/30\n",
      "422/422 [==============================] - 9s 22ms/step - loss: 0.0319 - accuracy: 0.9898 - val_loss: 0.0565 - val_accuracy: 0.9865\n",
      "Epoch 13/30\n",
      "422/422 [==============================] - 9s 21ms/step - loss: 0.0263 - accuracy: 0.9916 - val_loss: 0.0617 - val_accuracy: 0.9848\n",
      "Epoch 14/30\n",
      "422/422 [==============================] - 9s 22ms/step - loss: 0.0265 - accuracy: 0.9912 - val_loss: 0.0543 - val_accuracy: 0.9875\n",
      "Epoch 15/30\n",
      "422/422 [==============================] - 9s 21ms/step - loss: 0.0227 - accuracy: 0.9931 - val_loss: 0.0592 - val_accuracy: 0.9853\n",
      "Epoch 16/30\n",
      "422/422 [==============================] - 9s 21ms/step - loss: 0.0215 - accuracy: 0.9931 - val_loss: 0.0557 - val_accuracy: 0.9858\n",
      "Epoch 17/30\n",
      "422/422 [==============================] - 9s 21ms/step - loss: 0.0227 - accuracy: 0.9928 - val_loss: 0.0618 - val_accuracy: 0.9842\n",
      "Epoch 18/30\n",
      "422/422 [==============================] - 9s 21ms/step - loss: 0.0210 - accuracy: 0.9930 - val_loss: 0.0507 - val_accuracy: 0.9878\n",
      "Epoch 19/30\n",
      "422/422 [==============================] - 9s 22ms/step - loss: 0.0196 - accuracy: 0.9939 - val_loss: 0.0664 - val_accuracy: 0.9845\n",
      "Epoch 20/30\n",
      "422/422 [==============================] - 9s 21ms/step - loss: 0.0215 - accuracy: 0.9932 - val_loss: 0.0657 - val_accuracy: 0.9852\n",
      "Epoch 21/30\n",
      "422/422 [==============================] - 9s 22ms/step - loss: 0.0159 - accuracy: 0.9952 - val_loss: 0.0731 - val_accuracy: 0.9850\n",
      "Epoch 22/30\n",
      "422/422 [==============================] - 9s 21ms/step - loss: 0.0179 - accuracy: 0.9945 - val_loss: 0.0579 - val_accuracy: 0.9877\n",
      "Epoch 23/30\n",
      "422/422 [==============================] - 9s 21ms/step - loss: 0.0168 - accuracy: 0.9944 - val_loss: 0.0510 - val_accuracy: 0.9890\n",
      "Epoch 24/30\n",
      "422/422 [==============================] - 9s 21ms/step - loss: 0.0145 - accuracy: 0.9953 - val_loss: 0.0749 - val_accuracy: 0.9870\n",
      "Epoch 25/30\n",
      "422/422 [==============================] - 9s 21ms/step - loss: 0.0177 - accuracy: 0.9947 - val_loss: 0.0616 - val_accuracy: 0.9858\n",
      "Epoch 26/30\n",
      "422/422 [==============================] - 9s 21ms/step - loss: 0.0092 - accuracy: 0.9971 - val_loss: 0.0591 - val_accuracy: 0.9892\n",
      "Epoch 27/30\n",
      "422/422 [==============================] - 9s 21ms/step - loss: 0.0131 - accuracy: 0.9961 - val_loss: 0.0833 - val_accuracy: 0.9853\n",
      "Epoch 28/30\n",
      "422/422 [==============================] - 9s 21ms/step - loss: 0.0157 - accuracy: 0.9952 - val_loss: 0.0658 - val_accuracy: 0.9875\n",
      "Epoch 29/30\n",
      "422/422 [==============================] - 9s 21ms/step - loss: 0.0147 - accuracy: 0.9954 - val_loss: 0.0641 - val_accuracy: 0.9868\n",
      "Epoch 30/30\n",
      "422/422 [==============================] - 9s 21ms/step - loss: 0.0090 - accuracy: 0.9969 - val_loss: 0.0668 - val_accuracy: 0.9868\n"
     ]
    }
   ],
   "source": [
    "res=model.fit(X_train,y_train,\n",
    "              batch_size=128,   # 128바이트씩 끊어서 읽어라\n",
    "              validation_split=0.1,\n",
    "              # validation_data=(X_test,y_test),\n",
    "              epochs=30\n",
    "                )"
   ]
  },
  {
   "cell_type": "markdown",
   "id": "235fa9d3-8050-441f-b14c-e9f309f2bc8a",
   "metadata": {},
   "source": [
    "# test 데이터 예측"
   ]
  },
  {
   "cell_type": "code",
   "execution_count": 19,
   "id": "b3da63b7-fd3b-4483-b856-f5e0b49b532d",
   "metadata": {},
   "outputs": [
    {
     "name": "stdout",
     "output_type": "stream",
     "text": [
      "313/313 [==============================] - 2s 5ms/step - loss: 0.0541 - accuracy: 0.9873\n"
     ]
    }
   ],
   "source": [
    "# 한 번도 안 보여준 데이터 맞춰봐\n",
    "loss_cateforical_crossentropy, metrics_accuracy = model.evaluate(X_test, y_test) "
   ]
  },
  {
   "cell_type": "markdown",
   "id": "e49a05b1-79c4-4c22-bc47-9baecf7bc4b7",
   "metadata": {},
   "source": [
    "# 평가 시각화"
   ]
  },
  {
   "cell_type": "code",
   "execution_count": 20,
   "id": "a54d3975-2e8a-4fd7-a99e-936b8564254a",
   "metadata": {},
   "outputs": [
    {
     "data": {
      "image/png": "[encoded data removed]",
      "text/plain": [
       "<Figure size 432x288 with 1 Axes>"
      ]
     },
     "metadata": {},
     "output_type": "display_data"
    }
   ],
   "source": [
    "plt.plot(np.arange(len(res.history['loss'])), res.history['loss'], c='red', label='loss')\n",
    "plt.plot(np.arange(len(res.history['val_loss'])), res.history['val_loss'], c='blue', label='val_loss')\n",
    "plt.legend()\n",
    "plt.show()"
   ]
  },
  {
   "cell_type": "code",
   "execution_count": 21,
   "id": "52b0a7ee-db5a-438e-bd51-d53845427e4d",
   "metadata": {},
   "outputs": [
    {
     "data": {
      "image/png": "[encoded data removed]",
      "text/plain": [
       "<Figure size 432x288 with 1 Axes>"
      ]
     },
     "metadata": {},
     "output_type": "display_data"
    }
   ],
   "source": [
    "# 빨간 선과 파란 선 벌어져야 오버핏인데 별로 안 벌어진다.\n",
    "plt.plot(np.arange(len(res.history['accuracy'])), res.history['accuracy'], c='red', label='accuracy')\n",
    "plt.plot(np.arange(len(res.history['val_accuracy'])), res.history['val_accuracy'], c='blue', label='val_accuracy')\n",
    "plt.legend()\n",
    "plt.show()"
   ]
  },
  {
   "cell_type": "markdown",
   "id": "870be22f-292c-4883-8d36-20c3f33690c9",
   "metadata": {},
   "source": [
    "# 오답 확인(검증)"
   ]
  },
  {
   "cell_type": "code",
   "execution_count": null,
   "id": "4397f509-627d-4189-a627-5f53373bd346",
   "metadata": {},
   "outputs": [],
   "source": []
  },
  {
   "cell_type": "code",
   "execution_count": null,
   "id": "15b2c234-8a9b-469e-ab84-99e6d786b9aa",
   "metadata": {},
   "outputs": [],
   "source": [
    "proba=model.predict(X_test)\n",
    "print(proba[:2])"
   ]
  },
  {
   "cell_type": "code",
   "execution_count": null,
   "id": "766f4614-a3f3-42c1-92dc-7bd407a327f6",
   "metadata": {},
   "outputs": [],
   "source": [
    "proba[0].max()"
   ]
  },
  {
   "cell_type": "code",
   "execution_count": null,
   "id": "0c498a08-4a7a-4dcd-ae42-b7974d084676",
   "metadata": {},
   "outputs": [],
   "source": [
    "proba.shape[0]"
   ]
  },
  {
   "cell_type": "code",
   "execution_count": null,
   "id": "703426b4-f791-4d2c-a02f-85efbda0f39d",
   "metadata": {},
   "outputs": [],
   "source": [
    "pred_list=[]\n",
    "for i in range(proba.shape[0]):\n",
    "    pred_list.append(np.argmax(proba[i])) # np.argmax: 가장 큰 값을 가지고 있는 인덱스 리턴 "
   ]
  },
  {
   "cell_type": "code",
   "execution_count": null,
   "id": "fe97c9b1-b87c-4543-a79f-659c52608165",
   "metadata": {},
   "outputs": [],
   "source": [
    "pred_s=pd.Series(pred_list, name='pred')"
   ]
  },
  {
   "cell_type": "code",
   "execution_count": null,
   "id": "4c2457a3-6f72-47fd-9ec7-0d052489eb59",
   "metadata": {},
   "outputs": [],
   "source": [
    "real_list=[]\n",
    "for i in range(y_test.shape[0]):\n",
    "    real_list.append(np.argmax(y_test[i]))"
   ]
  },
  {
   "cell_type": "code",
   "execution_count": null,
   "id": "7895495e-266f-4db9-bcd4-ea80f9ec2b53",
   "metadata": {},
   "outputs": [],
   "source": [
    "real_s=pd.Series(real_list, name='real')"
   ]
  },
  {
   "cell_type": "code",
   "execution_count": null,
   "id": "ef58f857-c6b3-407e-8615-f5ca63775645",
   "metadata": {},
   "outputs": [],
   "source": [
    "df=pd.concat([pred_s, real_s], axis=1)"
   ]
  },
  {
   "cell_type": "code",
   "execution_count": null,
   "id": "cfd02556-4a47-4ff1-89a7-eb4665bb8f88",
   "metadata": {},
   "outputs": [],
   "source": [
    "df[df['pred']!=df['real']].index"
   ]
  },
  {
   "cell_type": "code",
   "execution_count": null,
   "id": "1f8114ba-577f-4748-be68-c38980c9bad0",
   "metadata": {},
   "outputs": [],
   "source": [
    "df[df['pred']!=df['real']]"
   ]
  },
  {
   "cell_type": "code",
   "execution_count": null,
   "id": "a3fc489f-4a4c-4787-92df-b6140cb80e42",
   "metadata": {},
   "outputs": [],
   "source": [
    "X_test.shape"
   ]
  },
  {
   "cell_type": "code",
   "execution_count": null,
   "id": "1f5a4b89-a8fb-4a2f-b742-b14de0af9609",
   "metadata": {},
   "outputs": [],
   "source": [
    "X_test_temp=X_test.reshape(10000,28,28)"
   ]
  },
  {
   "cell_type": "code",
   "execution_count": null,
   "id": "7654b33e-0a4d-4e4d-88a1-350d617db473",
   "metadata": {},
   "outputs": [],
   "source": [
    "p, axes = plt.subplots(2,5,figsize=(10,5))\n",
    "for n, idx in enumerate(df[df['pred']!=df['real']].index[:10]):\n",
    "    row=n//5\n",
    "    col=n%5\n",
    "    # print(num, n,idx,row,col)\n",
    "    axes[row,col].imshow(X_test_temp[idx]) #, cmap=plt.get_cmap('gray'))\n",
    "    axes[row,col].set_title((df.iloc[idx, 0], df.iloc[idx, 1]))\n",
    "plt.show()"
   ]
  },
  {
   "cell_type": "code",
   "execution_count": null,
   "id": "89bcb492-26a2-4e2e-b469-3310fadbdf02",
   "metadata": {},
   "outputs": [],
   "source": [
    "# proba=model.predict(X_test)"
   ]
  },
  {
   "cell_type": "code",
   "execution_count": null,
   "id": "cc8b1c55-695e-424f-b04e-167d43524fcf",
   "metadata": {},
   "outputs": [],
   "source": [
    "\n",
    "pred_list=[]\n",
    "for i in range(proba.shape[0]):\n",
    "    pred_list.append(np.argmax(proba[i])) # np.argmax: 가장 큰 값을 가지고 있는 인덱스 리턴 \n",
    "    \n",
    "pred_s=pd.Series(pred_list, name='pred')\n",
    "\n",
    "real_list=[]\n",
    "for i in range(y_test.shape[0]):\n",
    "    real_list.append(np.argmax(y_test[i]))\n",
    "    \n",
    "real_s=pd.Series(real_list, name='real')\n",
    "\n",
    "df=pd.concat([pred_s, real_s], axis=1)\n",
    "\n",
    "df[df['pred']!=df['real']].index\n",
    "\n",
    "df[df['pred']!=df['real']]\n",
    "\n",
    "X_test.shape\n",
    "\n",
    "X_test_temp=X_test.reshape(10000,28,28)\n",
    "\n",
    "p, axes = plt.subplots(2,5,figsize=(10,5))\n",
    "for n, idx in enumerate(df[df['pred']!=df['real']].index[:10]):\n",
    "    row=n//5\n",
    "    col=n%5\n",
    "    # print(num, n,idx,row,col)\n",
    "    axes[row,col].imshow(X_test_temp[idx]) #, cmap=plt.get_cmap('gray'))\n",
    "    axes[row,col].set_title((df.iloc[idx, 0], df.iloc[idx, 1]))\n",
    "plt.show()"
   ]
  },
  {
   "cell_type": "markdown",
   "id": "35c230e3-5ff6-41f9-a1b7-659593da4a25",
   "metadata": {},
   "source": [
    "### 강사님 -> 전체 코드 참고(아주 깔끔하다)"
   ]
  },
  {
   "cell_type": "code",
   "execution_count": null,
   "id": "fbdfc47f-e8a1-4ae8-a15e-196d210eb963",
   "metadata": {},
   "outputs": [],
   "source": [
    "# 예측값 꺼내기 더 간편한 버전\n",
    "# for arr in proba:\n",
    "#     print(np.argmax(arr))"
   ]
  },
  {
   "cell_type": "code",
   "execution_count": null,
   "id": "67e7f862-2092-4212-973e-deaa61d70970",
   "metadata": {},
   "outputs": [],
   "source": [
    "# proba = model.predict(X_test)\n",
    "# print(len(proba), proba[:2])\n",
    "\n",
    "# list=[]\n",
    "# for arr in proba:\n",
    "#     list.append(np.argmax(arr))\n",
    "\n",
    "# ox_df = pd.DataFrame(dict형태로 어쩌고....)"
   ]
  },
  {
   "cell_type": "code",
   "execution_count": null,
   "id": "950fee2a-5c86-4aaa-9e20-2ea7e5c0b60b",
   "metadata": {},
   "outputs": [],
   "source": [
    "# for문 안에서 X_test[idx].reshape(28,28)해도 된다.\n",
    "# set_title(f\"{real} {pred}\")이렇게 하면 깔끔"
   ]
  },
  {
   "cell_type": "code",
   "execution_count": null,
   "id": "e0b56b0c-d170-4161-8810-89b1e2d79ded",
   "metadata": {},
   "outputs": [],
   "source": []
  }
 ],
 "metadata": {
  "kernelspec": {
   "display_name": "Python 3 (ipykernel)",
   "language": "python",
   "name": "python3"
  },
  "language_info": {
   "codemirror_mode": {
    "name": "ipython",
    "version": 3
   },
   "file_extension": ".py",
   "mimetype": "text/x-python",
   "name": "python",
   "nbconvert_exporter": "python",
   "pygments_lexer": "ipython3",
   "version": "3.8.8"
  },
  "toc-autonumbering": true
 },
 "nbformat": 4,
 "nbformat_minor": 5
}
