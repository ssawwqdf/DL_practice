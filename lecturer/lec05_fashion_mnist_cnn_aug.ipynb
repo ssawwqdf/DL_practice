{
 "cells": [
  {
   "cell_type": "markdown",
   "id": "fa19bbfc-e9b0-483a-b0ba-11751dc1cb7e",
   "metadata": {
    "id": "fa19bbfc-e9b0-483a-b0ba-11751dc1cb7e",
    "jp-MarkdownHeadingCollapsed": true,
    "tags": []
   },
   "source": [
    "<font size=6><b>Lec04. Image Argumentation (이미지 증강)</b></font><br>\n",
    "tfds.image_classification.FashionMNIST\n",
    "<br>\n",
    "* ref : https://keras.io/api/preprocessing/image/\n",
    "* ref : https://www.tensorflow.org/datasets/catalog/fashion_mnist\n",
    "* ref : 홈페이지 : https://github.com/zalandoresearch/fashion-mnist\n",
    "* ref : 소스 코드 : https://github.com/tensorflow/datasets/tree/master/tensorflow_datasets/image_classification/mnist.py\n",
    "\n"
   ]
  },
  {
   "cell_type": "code",
   "execution_count": null,
   "id": "d15e5c2b-1c1d-4e59-8b5c-e0f393c84c79",
   "metadata": {
    "id": "d15e5c2b-1c1d-4e59-8b5c-e0f393c84c79",
    "outputId": "8cf085f6-f4e7-4359-9936-f3a76187121e"
   },
   "outputs": [
    {
     "data": {
      "text/html": [
       "<style>.container{width:100% !important;}</style>"
      ],
      "text/plain": [
       "<IPython.core.display.HTML object>"
      ]
     },
     "metadata": {},
     "output_type": "display_data"
    }
   ],
   "source": [
    "import pandas as pd\n",
    "import numpy as np\n",
    "import matplotlib.pyplot as plt\n",
    "import seaborn as sns\n",
    "\n",
    "from keras.models import Sequential\n",
    "from keras.layers import Dense, Activation                 #-------------FC\n",
    "from keras.layers import Conv2D, MaxPooling2D,Flatten      #-------------CNN\n",
    "import tensorflow as tf\n",
    "from tensorflow.keras.utils import to_categorical\n",
    "\n",
    "from keras.callbacks import EarlyStopping, ModelCheckpoint  #------------ callback\n",
    "\n",
    "import warnings\n",
    "warnings.filterwarnings(action='ignore')\n",
    "\n",
    "#-------------------- 차트 관련 속성 (한글처리, 그리드) -----------\n",
    "#plt.rc('font', family='NanumGothicOTF') # For MacOS\n",
    "plt.rcParams['font.family']= 'Malgun Gothic'\n",
    "plt.rcParams['axes.unicode_minus'] = False\n",
    "sns.set()\n",
    "\n",
    "#-------------------- 주피터 , 출력결과 넓이 늘리기 ---------------\n",
    "from IPython.core.display import display, HTML\n",
    "display(HTML(\"<style>.container{width:100% !important;}</style>\"))\n",
    "pd.set_option('display.max_rows', 100)\n",
    "pd.set_option('display.max_columns', 100)\n",
    "pd.set_option('max_colwidth', None)\n",
    "\n",
    "# from sklearn.datasets import load_boston\n",
    "from keras.datasets     import fashion_mnist\n"
   ]
  },
  {
   "cell_type": "code",
   "execution_count": null,
   "id": "406ababe-e736-4026-b3b5-3d99c1755af1",
   "metadata": {
    "id": "406ababe-e736-4026-b3b5-3d99c1755af1"
   },
   "outputs": [],
   "source": [
    "from tensorflow.keras.preprocessing import image_dataset_from_directory\n",
    "from keras.preprocessing.image import ImageDataGenerator\n",
    "from PIL import Image\n",
    "#(featurewise_center=False, samplewise_center=False, featurewise_std_normalization=False, samplewise_std_normalization=False, zca_whitening=False, zca_epsilon=1e-06, rotation_range=0, width_shift_range=0.0, height_shift_range=0.0, brightness_range=None, shear_range=0.0, zoom_range=0.0, channel_shift_range=0.0, fill_mode='nearest', cval=0.0, horizontal_flip=False, vertical_flip=False, rescale=None, preprocessing_function=None, data_format=None, validation_split=0.0, dtype=None)\n"
   ]
  },
  {
   "cell_type": "markdown",
   "id": "6ef63eb8-f4c3-4574-acb5-64ce166c4fa0",
   "metadata": {
    "id": "6ef63eb8-f4c3-4574-acb5-64ce166c4fa0"
   },
   "source": [
    "# seed 고정"
   ]
  },
  {
   "cell_type": "code",
   "execution_count": null,
   "id": "03e35e0b-0742-4a96-b975-4e7e45808c49",
   "metadata": {
    "id": "03e35e0b-0742-4a96-b975-4e7e45808c49"
   },
   "outputs": [],
   "source": [
    "np.random.seed(1234)\n",
    "tf.random.set_seed(1234)"
   ]
  },
  {
   "cell_type": "markdown",
   "id": "f-TQK6NXcyv0",
   "metadata": {
    "id": "f-TQK6NXcyv0"
   },
   "source": [
    "# colab"
   ]
  },
  {
   "cell_type": "code",
   "execution_count": null,
   "id": "H2roAXWbcyQe",
   "metadata": {
    "id": "H2roAXWbcyQe"
   },
   "outputs": [],
   "source": [
    "# colab\n",
    "from google.colab import drive\n",
    "drive.mount(\"/content/gdrive\")"
   ]
  },
  {
   "cell_type": "markdown",
   "id": "2632a76e-f6aa-4352-bd87-8b2a4930bbe0",
   "metadata": {
    "id": "2632a76e-f6aa-4352-bd87-8b2a4930bbe0"
   },
   "source": [
    "# Data Load"
   ]
  },
  {
   "cell_type": "code",
   "execution_count": null,
   "id": "123d1eb4-c81a-4100-9780-b5feab9899e0",
   "metadata": {
    "id": "123d1eb4-c81a-4100-9780-b5feab9899e0"
   },
   "outputs": [],
   "source": [
    "#ML : X_train, X_test, y_test, y_test = train_test_split()"
   ]
  },
  {
   "cell_type": "code",
   "execution_count": null,
   "id": "dc61d964-3626-4583-812c-81add2621a72",
   "metadata": {
    "id": "dc61d964-3626-4583-812c-81add2621a72"
   },
   "outputs": [],
   "source": [
    "(X_train, y_train), (X_test, y_test) = fashion_mnist.load_data()  # [(arr),(arr)]"
   ]
  },
  {
   "cell_type": "code",
   "execution_count": null,
   "id": "f4ef3915-435b-49ce-b98d-35d10609bf1a",
   "metadata": {
    "id": "f4ef3915-435b-49ce-b98d-35d10609bf1a",
    "outputId": "bedb4a1f-feca-4f7a-a04a-9431b5180e5d"
   },
   "outputs": [
    {
     "data": {
      "text/plain": [
       "((60000, 28, 28), (60000,), (10000, 28, 28), (10000,))"
      ]
     },
     "execution_count": 6,
     "metadata": {},
     "output_type": "execute_result"
    }
   ],
   "source": [
    "X_train.shape, y_train.shape, X_test.shape, y_test.shape"
   ]
  },
  {
   "cell_type": "code",
   "execution_count": null,
   "id": "b5891b0f-bfcf-4a61-8c95-754cf08294eb",
   "metadata": {
    "id": "b5891b0f-bfcf-4a61-8c95-754cf08294eb",
    "outputId": "682e5028-ded0-4436-e6e6-834acd1c3f55"
   },
   "outputs": [
    {
     "data": {
      "text/plain": [
       "9    6000\n",
       "0    6000\n",
       "3    6000\n",
       "2    6000\n",
       "7    6000\n",
       "5    6000\n",
       "1    6000\n",
       "6    6000\n",
       "4    6000\n",
       "8    6000\n",
       "dtype: int64"
      ]
     },
     "execution_count": 7,
     "metadata": {},
     "output_type": "execute_result"
    }
   ],
   "source": [
    "pd.Series(y_train).value_counts()"
   ]
  },
  {
   "cell_type": "markdown",
   "id": "c5d1934d-5828-47d1-8fe8-570ea8b85284",
   "metadata": {
    "id": "c5d1934d-5828-47d1-8fe8-570ea8b85284"
   },
   "source": [
    "# EDA"
   ]
  },
  {
   "cell_type": "code",
   "execution_count": null,
   "id": "e6ccd49a-a431-41a3-b20e-6feb31f17e81",
   "metadata": {
    "id": "e6ccd49a-a431-41a3-b20e-6feb31f17e81",
    "outputId": "25f2f673-3f22-43e4-b6d4-970d7aacb3d7"
   },
   "outputs": [
    {
     "data": {
      "text/plain": [
       "60000"
      ]
     },
     "execution_count": 8,
     "metadata": {},
     "output_type": "execute_result"
    }
   ],
   "source": [
    "X_train.shape[0]"
   ]
  },
  {
   "cell_type": "code",
   "execution_count": null,
   "id": "5be6dc88-5843-473f-b41b-420d5a1dea98",
   "metadata": {
    "id": "5be6dc88-5843-473f-b41b-420d5a1dea98",
    "outputId": "c266150c-8a71-4952-c434-dcfdc8300be6"
   },
   "outputs": [
    {
     "data": {
      "text/plain": [
       "(28, 28)"
      ]
     },
     "execution_count": 9,
     "metadata": {},
     "output_type": "execute_result"
    }
   ],
   "source": [
    "X_train[0].shape"
   ]
  },
  {
   "cell_type": "code",
   "execution_count": null,
   "id": "9aa485b9-b54b-4419-a803-5405bc72bfb1",
   "metadata": {
    "id": "9aa485b9-b54b-4419-a803-5405bc72bfb1",
    "outputId": "48210214-e0dd-40a5-a064-3dcf0595e402"
   },
   "outputs": [
    {
     "data": {
      "text/plain": [
       "(30, 28, 28)"
      ]
     },
     "execution_count": 10,
     "metadata": {},
     "output_type": "execute_result"
    }
   ],
   "source": [
    "X_train[:30].shape"
   ]
  },
  {
   "cell_type": "code",
   "execution_count": null,
   "id": "ba13f437-85c9-4a4f-a74b-c43d0569ddcf",
   "metadata": {
    "id": "ba13f437-85c9-4a4f-a74b-c43d0569ddcf",
    "outputId": "6cf0f462-4d52-4c0c-bd85-e291882e59ff"
   },
   "outputs": [
    {
     "data": {
      "image/png": "[encoded data removed]",
      "text/plain": [
       "<Figure size 1440x648 with 30 Axes>"
      ]
     },
     "metadata": {},
     "output_type": "display_data"
    }
   ],
   "source": [
    "import matplotlib.pyplot as plt\n",
    "p, axes = plt.subplots(3, 10, figsize=(20,9))\n",
    "\n",
    "for i, x in enumerate( range(X_train[:30].shape[0])):  #range(30)):\n",
    "    r = i // 10\n",
    "    c = i % 10\n",
    "    axes[r][c].imshow(X_train[x])   #, cmap=pyplot.get_cmap('gray'))\n",
    "    axes[r][c].set_title(y_train[x])\n",
    "# plt.show()"
   ]
  },
  {
   "cell_type": "code",
   "execution_count": null,
   "id": "232c0c4f-0b30-4b84-a10f-04df227e4be5",
   "metadata": {
    "id": "232c0c4f-0b30-4b84-a10f-04df227e4be5"
   },
   "outputs": [],
   "source": [
    "LABEL__ = ['T-shirt/top','Trouser/pants','Pullover shirt','Dress','Coat',  'Sandal','Shirt','Sneaker','Bag','Ankle boot']"
   ]
  },
  {
   "cell_type": "markdown",
   "id": "a2a001f3-f544-457f-8553-4fa85a12965c",
   "metadata": {
    "id": "a2a001f3-f544-457f-8553-4fa85a12965c"
   },
   "source": [
    "# (Optional) 데이터 샘플링\n",
    "* 속도 문제로 일부만 테스트"
   ]
  },
  {
   "cell_type": "code",
   "execution_count": null,
   "id": "eb211c0d-10d0-4fba-9f7d-83b86b569c71",
   "metadata": {
    "id": "eb211c0d-10d0-4fba-9f7d-83b86b569c71",
    "outputId": "1075d687-c83b-4419-94f7-7bc6f6bad8cc"
   },
   "outputs": [
    {
     "data": {
      "text/plain": [
       "9    6000\n",
       "0    6000\n",
       "3    6000\n",
       "2    6000\n",
       "7    6000\n",
       "5    6000\n",
       "1    6000\n",
       "6    6000\n",
       "4    6000\n",
       "8    6000\n",
       "dtype: int64"
      ]
     },
     "execution_count": 13,
     "metadata": {},
     "output_type": "execute_result"
    }
   ],
   "source": [
    "pd.Series(y_train).value_counts()"
   ]
  },
  {
   "cell_type": "code",
   "execution_count": null,
   "id": "2c7a6dbc-4629-42e5-ad99-a96c3e931ab7",
   "metadata": {
    "id": "2c7a6dbc-4629-42e5-ad99-a96c3e931ab7",
    "outputId": "b24a45bd-150a-41b0-b3d0-163c589745f8"
   },
   "outputs": [
    {
     "name": "stdout",
     "output_type": "stream",
     "text": [
      "원본: (60000, 28, 28) (60000,) (10000, 28, 28) (10000,)\n",
      "9    600\n",
      "8    600\n",
      "7    600\n",
      "1    600\n",
      "3    600\n",
      "2    600\n",
      "4    600\n",
      "5    600\n",
      "0    600\n",
      "6    600\n",
      "dtype: int64\n",
      "원본10%: (6000, 28, 28) (6000,) (1000, 28, 28) (1000,)\n"
     ]
    }
   ],
   "source": [
    "from sklearn.model_selection import train_test_split\n",
    "\n",
    "print(\"원본:\", X_train.shape, y_train.shape, X_test.shape, y_test.shape)\n",
    "\n",
    "X_9, X_train, y_9, y_train = train_test_split(X_train, y_train, test_size=0.1, random_state=1234, stratify=y_train) # 데이터셋 골고루 들어가라고\n",
    "X_9, X_test,  y_9, y_test  = train_test_split(X_test,  y_test,  test_size=0.1, random_state=1234, stratify=y_test)\n",
    "\n",
    "print(pd.Series(y_train).value_counts()) # 전체 train데이터와 같이 균등 분포임을 확인\n",
    "print(\"원본10%:\", X_train.shape, y_train.shape, X_test.shape, y_test.shape)"
   ]
  },
  {
   "cell_type": "markdown",
   "id": "dee66574-a7c1-4d69-81d6-05d33c3ceda6",
   "metadata": {
    "id": "dee66574-a7c1-4d69-81d6-05d33c3ceda6",
    "tags": []
   },
   "source": [
    "# 전처리 & 가공"
   ]
  },
  {
   "cell_type": "markdown",
   "id": "a57ce69d-d4fb-41ad-b606-6c3d36ebedf7",
   "metadata": {
    "id": "a57ce69d-d4fb-41ad-b606-6c3d36ebedf7"
   },
   "source": [
    "## X피쳐 픽셀값 정규화\n",
    "* 0 ~ 255 : 스케일링(MinMaxScaler)"
   ]
  },
  {
   "cell_type": "code",
   "execution_count": null,
   "id": "90535207-5970-4dd9-b56f-0bdf48f8b671",
   "metadata": {
    "id": "90535207-5970-4dd9-b56f-0bdf48f8b671"
   },
   "outputs": [],
   "source": [
    "X_train_scaler = X_train / 255.0\n",
    "X_test_scaler  = X_test  / 255.0"
   ]
  },
  {
   "cell_type": "markdown",
   "id": "7bf741e2-4b26-4c69-9396-612407a9f1ba",
   "metadata": {
    "id": "7bf741e2-4b26-4c69-9396-612407a9f1ba"
   },
   "source": [
    "* <font color=red><b>CNN 모델 : shape(이미지갯수, H, W, 컬러) </b></font>"
   ]
  },
  {
   "cell_type": "code",
   "execution_count": null,
   "id": "377d7c51-68db-4d52-90b2-3e77c6131c2d",
   "metadata": {
    "id": "377d7c51-68db-4d52-90b2-3e77c6131c2d",
    "outputId": "15a24c10-a435-4167-b861-57b4add70ead"
   },
   "outputs": [
    {
     "name": "stdout",
     "output_type": "stream",
     "text": [
      "(6000, 28, 28, 1) (1000, 28, 28, 1)\n"
     ]
    }
   ],
   "source": [
    "X_train_scaler = X_train_scaler.reshape(-1, 28, 28, 1)    #1:흑백  3:RGB(컬러)\n",
    "X_test_scaler  = X_test_scaler.reshape(-1, 28, 28, 1)     #1:흑백  3:RGB(컬러)\n",
    "print(X_train_scaler.shape, X_test_scaler.shape)"
   ]
  },
  {
   "cell_type": "markdown",
   "id": "f4fb7d22-60ab-49f1-a227-efe7707c8517",
   "metadata": {
    "id": "f4fb7d22-60ab-49f1-a227-efe7707c8517"
   },
   "source": [
    "## y레이블 원핫인코딩\n",
    "*  (integers in range 0-9)"
   ]
  },
  {
   "cell_type": "code",
   "execution_count": null,
   "id": "8a3426f5-9fb3-4141-92ab-9fc517c65424",
   "metadata": {
    "id": "8a3426f5-9fb3-4141-92ab-9fc517c65424"
   },
   "outputs": [],
   "source": [
    "y_train_oh = to_categorical( y=y_train, num_classes=10, dtype='int32')\n",
    "y_test_oh  = to_categorical( y=y_test,  num_classes=10, dtype='int32')"
   ]
  },
  {
   "cell_type": "markdown",
   "id": "6f49f70a-dbc8-4529-807b-aa4c3d8f3ffe",
   "metadata": {
    "id": "6f49f70a-dbc8-4529-807b-aa4c3d8f3ffe",
    "tags": []
   },
   "source": [
    "# CNN 모델 구축"
   ]
  },
  {
   "cell_type": "code",
   "execution_count": null,
   "id": "fd8b51b0-5228-428e-aed5-7c056c467ef4",
   "metadata": {
    "id": "fd8b51b0-5228-428e-aed5-7c056c467ef4"
   },
   "outputs": [],
   "source": [
    "INPUT_SHAPE__  = (28, 28, 1)                    #------------------- 주의주의주의\n",
    "NUM_CLASS__    = 10                             #------------------- 총10개분류\n",
    "ACTIVATION__   = \"softmax\"                      #------------------- sigmoid\n",
    "LOSS__         = 'categorical_crossentropy'     #------------------- binary_crossentropy , sparse_crossentropy\n",
    "\n",
    "#----------------------------------------------------------\n",
    "model = Sequential([\n",
    "    Conv2D(16, kernel_size=(3,3), input_shape=INPUT_SHAPE__ , activation='relu'),\n",
    "    MaxPooling2D(pool_size=(2, 2)),\n",
    "    Conv2D(16, kernel_size=(3,3),  activation='relu'),        \n",
    "    MaxPooling2D(pool_size=(2, 2)),\n",
    "    Flatten(),\n",
    "    # ------------------------------- FC(Affine) -----------\n",
    "    Dense(units=128, activation='relu'),\n",
    "    Dense(units=NUM_CLASS__, activation=ACTIVATION__)  #다중분류 예측(0~9)\n",
    "\n",
    "])\n",
    "model.compile(loss=LOSS__,  optimizer='adam', metrics=['accuracy'])"
   ]
  },
  {
   "cell_type": "code",
   "execution_count": null,
   "id": "68dae2ec-3c2f-4864-9163-db344c3a9a14",
   "metadata": {
    "id": "68dae2ec-3c2f-4864-9163-db344c3a9a14"
   },
   "outputs": [],
   "source": [
    "# model.summary()"
   ]
  },
  {
   "cell_type": "markdown",
   "id": "0cf29531-20de-40f3-9682-3bc6a05925a6",
   "metadata": {
    "id": "0cf29531-20de-40f3-9682-3bc6a05925a6",
    "tags": []
   },
   "source": [
    "# 학습 & 평가\n",
    "<font color=red><b> X는 스케일된 데이터, y는 원핫인코딩 데이터 "
   ]
  },
  {
   "cell_type": "markdown",
   "id": "26eebd30-193f-4db5-877a-606ed75e15e1",
   "metadata": {
    "id": "26eebd30-193f-4db5-877a-606ed75e15e1"
   },
   "source": [
    "## 전역 변수 설정(EPOCHS__,BATCH_SIZE__)"
   ]
  },
  {
   "cell_type": "code",
   "execution_count": null,
   "id": "9c056200-d7e3-4fcf-b4db-02612c143282",
   "metadata": {
    "id": "9c056200-d7e3-4fcf-b4db-02612c143282"
   },
   "outputs": [],
   "source": [
    "EPOCHS__      = 100\n",
    "BATCH_SIZE__  = 32\n",
    "PATIENCE__    = 5"
   ]
  },
  {
   "cell_type": "markdown",
   "id": "40f1acf0-387e-407e-9bdd-83f2b71b0ba0",
   "metadata": {
    "id": "40f1acf0-387e-407e-9bdd-83f2b71b0ba0"
   },
   "source": [
    "## Callback 설정\n",
    "ref : https://keras.io/api/callbacks/<br>  \n",
    "<font color=black>* callback 기능 : Usage of callbacks via the built-in fit() loop <br>\n",
    "  <font color=black>* Write TensorBoard logs after every batch of training to monitor your metrics <br>\n",
    "  <font color=red>* Periodically save your model to disk  ----------------- 모델저장 <br>\n",
    "  <font color=red>* Do early stopping   ----------------------------------- 오버피팅 시 조기종료 <br>\n",
    "  <font color=black>* Get a view on internal states and statistics of a model during training    "
   ]
  },
  {
   "cell_type": "code",
   "execution_count": null,
   "id": "91de9a01-c3c2-41f4-8b4b-5e6a52d2bfe4",
   "metadata": {
    "id": "91de9a01-c3c2-41f4-8b4b-5e6a52d2bfe4"
   },
   "outputs": [],
   "source": [
    "# from keras.callbacks import EarlyStopping, ModelCheckpoint"
   ]
  },
  {
   "cell_type": "code",
   "execution_count": null,
   "id": "68ee901c-0dcf-4876-9307-3ad59acd4f00",
   "metadata": {
    "id": "68ee901c-0dcf-4876-9307-3ad59acd4f00"
   },
   "outputs": [],
   "source": [
    "# 모델 저장 폴더\n",
    "import os\n",
    "if not os.path.exists(\"./model\"):\n",
    "    os.mkdir('./model')"
   ]
  },
  {
   "cell_type": "code",
   "execution_count": null,
   "id": "257cb332-0b57-4222-ba5a-dbc6ebf98888",
   "metadata": {
    "id": "257cb332-0b57-4222-ba5a-dbc6ebf98888"
   },
   "outputs": [],
   "source": [
    "MY_CALLBACKS__ = [\n",
    "    EarlyStopping(patience=PATIENCE__),          #------------PATIENCE__ : 조기종료\n",
    "    ModelCheckpoint(filepath='./model/mymodel_{epoch:02d}_{val_loss:.4f}.h5',\n",
    "                    monitor='val_loss',          #------------어떤 점수를 기준으로 모니터링할까\n",
    "                    save_best_only=True,         #------------이전보다 좋아질때만 저장\n",
    "                    save_weights_only=False      #------------모델+가중치 같이 저장\n",
    "                   )  # 이전 epoch 점수보다 현재 점수가 좋으면 모델 저장 : mymodel_03_2417.h5\n",
    "] "
   ]
  },
  {
   "cell_type": "markdown",
   "id": "9613dffe-824c-46ae-9e6f-9bf2528dd26c",
   "metadata": {
    "id": "9613dffe-824c-46ae-9e6f-9bf2528dd26c"
   },
   "source": [
    "## 학습"
   ]
  },
  {
   "cell_type": "code",
   "execution_count": null,
   "id": "5f39b5ff-e7ed-467d-b94a-80004ee7984d",
   "metadata": {
    "id": "5f39b5ff-e7ed-467d-b94a-80004ee7984d",
    "outputId": "d37e97c0-f8da-4ff0-8f8f-6947b57a810e"
   },
   "outputs": [
    {
     "name": "stdout",
     "output_type": "stream",
     "text": [
      "Epoch 1/100\n",
      "169/169 [==============================] - 2s 10ms/step - loss: 1.0001 - accuracy: 0.6502 - val_loss: 0.5720 - val_accuracy: 0.7867\n",
      "Epoch 2/100\n",
      "169/169 [==============================] - 2s 10ms/step - loss: 0.6066 - accuracy: 0.7672 - val_loss: 0.5364 - val_accuracy: 0.8117\n",
      "Epoch 3/100\n",
      "169/169 [==============================] - 2s 10ms/step - loss: 0.5296 - accuracy: 0.8057 - val_loss: 0.5076 - val_accuracy: 0.8000\n",
      "Epoch 4/100\n",
      "169/169 [==============================] - 2s 9ms/step - loss: 0.4741 - accuracy: 0.8230 - val_loss: 0.4574 - val_accuracy: 0.8550\n",
      "Epoch 5/100\n",
      "169/169 [==============================] - 2s 9ms/step - loss: 0.4307 - accuracy: 0.8396 - val_loss: 0.4337 - val_accuracy: 0.8533\n",
      "Epoch 6/100\n",
      "169/169 [==============================] - 2s 9ms/step - loss: 0.4004 - accuracy: 0.8533 - val_loss: 0.4324 - val_accuracy: 0.8433\n",
      "Epoch 7/100\n",
      "169/169 [==============================] - 2s 9ms/step - loss: 0.3764 - accuracy: 0.8607 - val_loss: 0.4553 - val_accuracy: 0.8300\n",
      "Epoch 8/100\n",
      "169/169 [==============================] - 1s 9ms/step - loss: 0.3606 - accuracy: 0.8641 - val_loss: 0.4329 - val_accuracy: 0.8583\n",
      "Epoch 9/100\n",
      "169/169 [==============================] - 1s 7ms/step - loss: 0.3468 - accuracy: 0.8683 - val_loss: 0.4362 - val_accuracy: 0.8717\n",
      "Epoch 10/100\n",
      "169/169 [==============================] - 1s 7ms/step - loss: 0.3195 - accuracy: 0.8809 - val_loss: 0.4485 - val_accuracy: 0.8533\n",
      "Epoch 11/100\n",
      "169/169 [==============================] - 1s 8ms/step - loss: 0.3030 - accuracy: 0.8896 - val_loss: 0.4593 - val_accuracy: 0.8667\n"
     ]
    }
   ],
   "source": [
    "res = model.fit(X_train_scaler, \n",
    "                y_train_oh, \n",
    "                epochs=EPOCHS__, \n",
    "                batch_size=BATCH_SIZE__,        #128바이트씩 읽어라\n",
    "                validation_split=0.1,           #학습:54만 ,  내부검증:6만\n",
    "                callbacks=MY_CALLBACKS__        #----------- 옵션\n",
    "               )"
   ]
  },
  {
   "cell_type": "markdown",
   "id": "4616d4fe-cedc-42aa-a820-c35438811381",
   "metadata": {
    "id": "4616d4fe-cedc-42aa-a820-c35438811381"
   },
   "source": [
    "## 평가"
   ]
  },
  {
   "cell_type": "code",
   "execution_count": null,
   "id": "2bfee088-249d-44f6-a343-cec84662db6d",
   "metadata": {
    "id": "2bfee088-249d-44f6-a343-cec84662db6d",
    "outputId": "93895e92-3254-4da6-fe48-b80f62c911b3"
   },
   "outputs": [
    {
     "name": "stdout",
     "output_type": "stream",
     "text": [
      "32/32 [==============================] - 0s 4ms/step - loss: 0.4273 - accuracy: 0.8520\n"
     ]
    }
   ],
   "source": [
    "loss_categorical_crossentropy , metrics_accuracy = model.evaluate(X_test_scaler, y_test_oh)"
   ]
  },
  {
   "cell_type": "markdown",
   "id": "03903a63-e389-43f9-aad1-6c097c2e281c",
   "metadata": {
    "id": "03903a63-e389-43f9-aad1-6c097c2e281c"
   },
   "source": [
    "# 학습 시각화"
   ]
  },
  {
   "cell_type": "code",
   "execution_count": null,
   "id": "3ae8a342-417a-472d-9a42-314e6091ff2c",
   "metadata": {
    "id": "3ae8a342-417a-472d-9a42-314e6091ff2c",
    "outputId": "02ad896e-4171-4b78-8b86-a5b5e7e2b0fc"
   },
   "outputs": [
    {
     "data": {
      "image/png": "[encoded data removed]",
      "text/plain": [
       "<Figure size 432x288 with 1 Axes>"
      ]
     },
     "metadata": {},
     "output_type": "display_data"
    }
   ],
   "source": [
    "plt.plot(np.arange(len(res.history['accuracy'])), res.history['accuracy'], c='red', label='tarin')\n",
    "plt.plot(np.arange(len(res.history['accuracy'])), res.history['val_accuracy'], c='blue', label='test')\n",
    "plt.legend()\n",
    "plt.show()"
   ]
  },
  {
   "cell_type": "code",
   "execution_count": null,
   "id": "9a835183-4167-427f-8f31-5f186f43ae2a",
   "metadata": {
    "id": "9a835183-4167-427f-8f31-5f186f43ae2a",
    "outputId": "818a072e-74ff-423d-9ca5-f93c9ab46693"
   },
   "outputs": [
    {
     "data": {
      "image/png": "[encoded data removed]",
      "text/plain": [
       "<Figure size 432x288 with 1 Axes>"
      ]
     },
     "metadata": {},
     "output_type": "display_data"
    }
   ],
   "source": [
    "plt.plot(np.arange(len(res.history['val_loss'])), res.history['loss'], c='red', label='train_loss_9')\n",
    "plt.plot(np.arange(len(res.history['val_loss'])), res.history['val_loss'], c='blue', label='val_loss_1')\n",
    "plt.legend()\n",
    "plt.show()"
   ]
  },
  {
   "cell_type": "markdown",
   "id": "0c53d416-0f61-408b-8df0-a1f5b16941ad",
   "metadata": {
    "id": "0c53d416-0f61-408b-8df0-a1f5b16941ad"
   },
   "source": [
    "<font color=red><b>32/32 [==============================] - 0s 4ms/step - loss: 0.4273 - accuracy: 0.8520"
   ]
  },
  {
   "cell_type": "code",
   "execution_count": null,
   "id": "f90b3155-e8ca-425c-879f-bd7550ee5a7a",
   "metadata": {
    "id": "f90b3155-e8ca-425c-879f-bd7550ee5a7a"
   },
   "outputs": [],
   "source": []
  },
  {
   "cell_type": "markdown",
   "id": "31517290-efeb-489b-ae70-feabdf4b20e4",
   "metadata": {
    "id": "31517290-efeb-489b-ae70-feabdf4b20e4"
   },
   "source": [
    "---"
   ]
  },
  {
   "cell_type": "markdown",
   "id": "f7d84840-3b5b-4bfa-ac39-12a6b153abdc",
   "metadata": {
    "id": "f7d84840-3b5b-4bfa-ac39-12a6b153abdc",
    "tags": []
   },
   "source": [
    "# 이미지 증강 : 픽셀을 array(28,28) 값으로 가지고 있는 경우\n",
    "* https://www.tensorflow.org/api_docs/python/tf/keras/preprocessing/image/ImageDataGenerator\n",
    "* https://keras.io/ko/preprocessing/image/"
   ]
  },
  {
   "cell_type": "markdown",
   "id": "0f353928-d486-4d00-b57e-4c3a63d7329b",
   "metadata": {
    "id": "0f353928-d486-4d00-b57e-4c3a63d7329b",
    "tags": []
   },
   "source": [
    "## 이미지 보기"
   ]
  },
  {
   "cell_type": "code",
   "execution_count": null,
   "id": "6ac1ce50-5a09-41cd-b5f2-68651b2358a3",
   "metadata": {
    "id": "6ac1ce50-5a09-41cd-b5f2-68651b2358a3",
    "outputId": "4808891f-8da9-4a27-dd66-c41cd51fdaeb"
   },
   "outputs": [
    {
     "data": {
      "text/plain": [
       "('Ankle boot', (6000, 28, 28, 1), (1000, 28, 28, 1))"
      ]
     },
     "execution_count": 28,
     "metadata": {},
     "output_type": "execute_result"
    }
   ],
   "source": [
    "LABEL__[9], X_train_scaler.shape , X_test_scaler.shape "
   ]
  },
  {
   "cell_type": "markdown",
   "id": "375951fe-845c-4674-9bef-76c07efb6216",
   "metadata": {
    "id": "375951fe-845c-4674-9bef-76c07efb6216"
   },
   "source": [
    "### matplot"
   ]
  },
  {
   "cell_type": "code",
   "execution_count": null,
   "id": "35064e9b-7388-4045-9dfa-53e85cb993d1",
   "metadata": {
    "id": "35064e9b-7388-4045-9dfa-53e85cb993d1",
    "outputId": "b39e84d7-c847-4b4f-b7dc-0b0871d53567"
   },
   "outputs": [
    {
     "data": {
      "text/plain": [
       "((28, 28, 1), 'Ankle boot')"
      ]
     },
     "execution_count": 29,
     "metadata": {},
     "output_type": "execute_result"
    }
   ],
   "source": [
    "# LABEL__ = ['T-shirt/top','Trouser/pants','Pullover shirt','Dress','Coat',  'Sandal','Shirt','Sneaker','Bag','Ankle boot']\n",
    "argmax_i = np.argmax(y_train_oh[0])\n",
    "X_train_scaler[0].shape,  LABEL__[argmax_i]"
   ]
  },
  {
   "cell_type": "code",
   "execution_count": null,
   "id": "f9216aa1-9915-4c60-921e-db550c17d5b0",
   "metadata": {
    "id": "f9216aa1-9915-4c60-921e-db550c17d5b0",
    "outputId": "604c0dda-00f0-4641-ea4c-9fe84c0670f4"
   },
   "outputs": [
    {
     "data": {
      "image/png": "[encoded data removed]",
      "text/plain": [
       "<Figure size 432x288 with 1 Axes>"
      ]
     },
     "metadata": {},
     "output_type": "display_data"
    }
   ],
   "source": [
    "import matplotlib.pyplot as plt\n",
    "plt.imshow(X_train_scaler[0])  #(28, 28, 1)\n",
    "plt.title(f\"{argmax_i}  {LABEL__[argmax_i]}\")\n",
    "plt.show()"
   ]
  },
  {
   "cell_type": "markdown",
   "id": "cab4f1a7-0a29-41e5-810d-3bb7f3cce8fc",
   "metadata": {
    "id": "cab4f1a7-0a29-41e5-810d-3bb7f3cce8fc"
   },
   "source": [
    "### keras api"
   ]
  },
  {
   "cell_type": "code",
   "execution_count": null,
   "id": "e150d155-3961-42f1-afc3-a9bfe42aa66d",
   "metadata": {
    "id": "e150d155-3961-42f1-afc3-a9bfe42aa66d"
   },
   "outputs": [],
   "source": [
    "# from PIL import Image\n",
    "# # from keras.utils.img_to_array\n",
    "# from keras.preprocessing.image import array_to_img, img_to_array, load_image\n",
    "# img   = array_to_img(X_train_scaler[0])\n",
    "# array = img_to_array(img)\n",
    "# load_image(img)\n",
    "# print(array)"
   ]
  },
  {
   "cell_type": "markdown",
   "id": "ef9bd0ad-0585-4e9e-8a6e-3cfbf4dd3244",
   "metadata": {
    "id": "ef9bd0ad-0585-4e9e-8a6e-3cfbf4dd3244",
    "tags": []
   },
   "source": [
    "## ImageDataGenerator()"
   ]
  },
  {
   "cell_type": "markdown",
   "id": "d2227edb-9eb2-455a-88a1-da4e627bfcde",
   "metadata": {
    "id": "d2227edb-9eb2-455a-88a1-da4e627bfcde"
   },
   "source": [
    "<pre>\n",
    "generator = ImageDataGenerator(featurewise_center=False, samplewise_center=False, \n",
    "                               featurewise_std_normalization=False, \n",
    "                               samplewise_std_normalization=False, \n",
    "                               zca_whitening=False, zca_epsilon=1e-06, \n",
    "                               rotation_range=0, width_shift_range=0.0, \n",
    "                               height_shift_range=0.0, brightness_range=None, \n",
    "                               shear_range=0.0, zoom_range=0.0, channel_shift_range=0.0, \n",
    "                               fill_mode='nearest', cval=0.0, \n",
    "                               horizontal_flip=False, vertical_flip=False, \n",
    "                               rescale=None, \n",
    "                               preprocessing_function=None, \n",
    "                               data_format=None, \n",
    "                               validation_split=0.0, dtype=None)"
   ]
  },
  {
   "cell_type": "code",
   "execution_count": null,
   "id": "b016f755-b627-4163-8b10-7979102b45d3",
   "metadata": {
    "id": "b016f755-b627-4163-8b10-7979102b45d3"
   },
   "outputs": [],
   "source": [
    "from keras.preprocessing.image import ImageDataGenerator\n",
    "from PIL import Image"
   ]
  },
  {
   "cell_type": "code",
   "execution_count": null,
   "id": "abf7a717-db85-4482-8325-557b80750742",
   "metadata": {
    "id": "abf7a717-db85-4482-8325-557b80750742"
   },
   "outputs": [],
   "source": [
    "#================================= train만 증강 ===========================================\n",
    "train_generator = ImageDataGenerator( #rescale=1./255,             #----------0 ~ 255 : 스케일링(MinMaxScaler)\n",
    "                                    featurewise_center=True,\n",
    "                                    rotation_range=20,\n",
    "                                    width_shift_range=0.2,\n",
    "                                    height_shift_range=0.2,\n",
    "                                    #horizontal_flip=True,\n",
    "                                    #vertical_flip=True\n",
    "                                    )\n",
    "\n",
    "#================================= test 증강XXXXXXXXXXXXXXXXXXXXXx =========================\n",
    "test_generator = ImageDataGenerator( ) #rescale=1./255 #----------0 ~ 255 : 스케일링(MinMaxScaler)\n"
   ]
  },
  {
   "cell_type": "markdown",
   "id": "26dc970b-70b2-43e4-a052-50ba6982245b",
   "metadata": {
    "id": "26dc970b-70b2-43e4-a052-50ba6982245b"
   },
   "source": [
    "## generator.flow(X,y,batch_size=n)"
   ]
  },
  {
   "cell_type": "code",
   "execution_count": null,
   "id": "814c6ffc-f52a-40c1-9d70-8d06c36fb021",
   "metadata": {
    "id": "814c6ffc-f52a-40c1-9d70-8d06c36fb021"
   },
   "outputs": [],
   "source": [
    "# BATCH_SIZE__  = 32\n",
    "\n",
    "train_flow = train_generator.flow(X_train_scaler, y_train_oh, batch_size=BATCH_SIZE__)\n",
    "test_flow  = test_generator.flow(X_test_scaler, batch_size=1)"
   ]
  },
  {
   "cell_type": "markdown",
   "id": "a2d5ff09-8a48-4444-9d2e-4c49cd1d9e2a",
   "metadata": {
    "id": "a2d5ff09-8a48-4444-9d2e-4c49cd1d9e2a"
   },
   "source": [
    "## model.fit_generator(flow,..)  --> fit()"
   ]
  },
  {
   "cell_type": "code",
   "execution_count": null,
   "id": "27b5ebd0-a6e2-4e48-b342-99dce4b80e30",
   "metadata": {
    "id": "27b5ebd0-a6e2-4e48-b342-99dce4b80e30",
    "outputId": "027a329e-07a0-4178-eade-3617e6ba2469"
   },
   "outputs": [
    {
     "data": {
      "text/plain": [
       "6000"
      ]
     },
     "execution_count": 35,
     "metadata": {},
     "output_type": "execute_result"
    }
   ],
   "source": [
    "len(X_train_scaler)"
   ]
  },
  {
   "cell_type": "code",
   "execution_count": null,
   "id": "50e4b279-5655-4a80-90f2-7490df564353",
   "metadata": {
    "id": "50e4b279-5655-4a80-90f2-7490df564353",
    "outputId": "cb99a2a9-3fef-4ac7-b10e-a85d09030634"
   },
   "outputs": [
    {
     "data": {
      "text/plain": [
       "187.5"
      ]
     },
     "execution_count": 36,
     "metadata": {},
     "output_type": "execute_result"
    }
   ],
   "source": [
    "len(X_train_scaler) / BATCH_SIZE__"
   ]
  },
  {
   "cell_type": "code",
   "execution_count": null,
   "id": "65db76bd-679b-4f9b-9455-5ad2a30c7234",
   "metadata": {
    "id": "65db76bd-679b-4f9b-9455-5ad2a30c7234"
   },
   "outputs": [],
   "source": [
    "# res = model.fit(X_train_scaler, \n",
    "#                 y_train_oh, \n",
    "#                 epochs=EPOCHS__, \n",
    "#                 batch_size=BATCH_SIZE__,        #128바이트씩 읽어라\n",
    "#                 validation_split=0.1,           #학습:54만 ,  내부검증:6만\n",
    "#                 callbacks=MY_CALLBACKS__        #----------- 옵션\n",
    "#                )"
   ]
  },
  {
   "cell_type": "code",
   "execution_count": null,
   "id": "918b1f47-a425-40de-a9c7-a8d5d05d4aaa",
   "metadata": {
    "id": "918b1f47-a425-40de-a9c7-a8d5d05d4aaa",
    "outputId": "416e5cfb-efc6-4bae-f7c7-358010e42c91"
   },
   "outputs": [
    {
     "name": "stdout",
     "output_type": "stream",
     "text": [
      "Epoch 1/100\n",
      "187/187 [==============================] - 2s 10ms/step - loss: 1.1295 - accuracy: 0.5860\n",
      "Epoch 2/100\n",
      "187/187 [==============================] - 2s 10ms/step - loss: 0.8435 - accuracy: 0.6922\n",
      "Epoch 3/100\n",
      "187/187 [==============================] - 2s 10ms/step - loss: 0.7791 - accuracy: 0.7042\n",
      "Epoch 4/100\n",
      "187/187 [==============================] - 2s 10ms/step - loss: 0.7338 - accuracy: 0.7252\n",
      "Epoch 5/100\n",
      "187/187 [==============================] - 2s 10ms/step - loss: 0.7136 - accuracy: 0.7270\n",
      "Epoch 6/100\n",
      "187/187 [==============================] - 2s 10ms/step - loss: 0.6993 - accuracy: 0.7277\n",
      "Epoch 7/100\n",
      "187/187 [==============================] - 2s 10ms/step - loss: 0.6744 - accuracy: 0.7415\n",
      "Epoch 8/100\n",
      "187/187 [==============================] - 2s 10ms/step - loss: 0.6620 - accuracy: 0.7473\n",
      "Epoch 9/100\n",
      "187/187 [==============================] - 2s 10ms/step - loss: 0.6667 - accuracy: 0.7452\n",
      "Epoch 10/100\n",
      "187/187 [==============================] - 2s 10ms/step - loss: 0.6513 - accuracy: 0.7518\n",
      "Epoch 11/100\n",
      "187/187 [==============================] - 2s 10ms/step - loss: 0.6388 - accuracy: 0.7638\n",
      "Epoch 12/100\n",
      "187/187 [==============================] - 2s 10ms/step - loss: 0.6245 - accuracy: 0.7658\n",
      "Epoch 13/100\n",
      "187/187 [==============================] - 2s 10ms/step - loss: 0.6205 - accuracy: 0.7622\n",
      "Epoch 14/100\n",
      "187/187 [==============================] - 2s 10ms/step - loss: 0.6079 - accuracy: 0.7657\n",
      "Epoch 15/100\n",
      "187/187 [==============================] - 2s 10ms/step - loss: 0.6035 - accuracy: 0.7673\n",
      "Epoch 16/100\n",
      "187/187 [==============================] - 2s 10ms/step - loss: 0.5853 - accuracy: 0.7770\n",
      "Epoch 17/100\n",
      "187/187 [==============================] - 2s 10ms/step - loss: 0.5819 - accuracy: 0.7787\n",
      "Epoch 18/100\n",
      "187/187 [==============================] - 2s 10ms/step - loss: 0.5861 - accuracy: 0.7728\n",
      "Epoch 19/100\n",
      "187/187 [==============================] - 2s 9ms/step - loss: 0.5832 - accuracy: 0.7742\n",
      "Epoch 20/100\n",
      "187/187 [==============================] - 2s 10ms/step - loss: 0.5595 - accuracy: 0.7863\n",
      "Epoch 21/100\n",
      "187/187 [==============================] - 2s 10ms/step - loss: 0.5639 - accuracy: 0.7838\n",
      "Epoch 22/100\n",
      "187/187 [==============================] - 2s 10ms/step - loss: 0.5607 - accuracy: 0.7850\n",
      "Epoch 23/100\n",
      "187/187 [==============================] - 2s 10ms/step - loss: 0.5651 - accuracy: 0.7823\n",
      "Epoch 24/100\n",
      "187/187 [==============================] - 2s 10ms/step - loss: 0.5550 - accuracy: 0.7868\n",
      "Epoch 25/100\n",
      "187/187 [==============================] - 2s 10ms/step - loss: 0.5435 - accuracy: 0.7913\n",
      "Epoch 26/100\n",
      "187/187 [==============================] - 2s 10ms/step - loss: 0.5447 - accuracy: 0.7930\n",
      "Epoch 27/100\n",
      "187/187 [==============================] - 2s 10ms/step - loss: 0.5428 - accuracy: 0.7950\n",
      "Epoch 28/100\n",
      "187/187 [==============================] - 2s 10ms/step - loss: 0.5354 - accuracy: 0.7910\n",
      "Epoch 29/100\n",
      "187/187 [==============================] - 2s 10ms/step - loss: 0.5279 - accuracy: 0.7942\n",
      "Epoch 30/100\n",
      "187/187 [==============================] - 2s 10ms/step - loss: 0.5360 - accuracy: 0.7937\n",
      "Epoch 31/100\n",
      "187/187 [==============================] - 2s 10ms/step - loss: 0.5344 - accuracy: 0.7907\n",
      "Epoch 32/100\n",
      "187/187 [==============================] - 2s 10ms/step - loss: 0.5189 - accuracy: 0.8043\n",
      "Epoch 33/100\n",
      "187/187 [==============================] - 2s 10ms/step - loss: 0.5224 - accuracy: 0.8033\n",
      "Epoch 34/100\n",
      "187/187 [==============================] - 2s 10ms/step - loss: 0.5163 - accuracy: 0.8055\n",
      "Epoch 35/100\n",
      "187/187 [==============================] - 2s 11ms/step - loss: 0.5113 - accuracy: 0.7967\n",
      "Epoch 36/100\n",
      "187/187 [==============================] - 2s 10ms/step - loss: 0.5155 - accuracy: 0.8055\n",
      "Epoch 37/100\n",
      "187/187 [==============================] - 2s 10ms/step - loss: 0.5235 - accuracy: 0.8012\n",
      "Epoch 38/100\n",
      "187/187 [==============================] - 2s 10ms/step - loss: 0.5135 - accuracy: 0.8053\n",
      "Epoch 39/100\n",
      "187/187 [==============================] - 2s 10ms/step - loss: 0.4942 - accuracy: 0.8112\n",
      "Epoch 40/100\n",
      "187/187 [==============================] - 2s 10ms/step - loss: 0.5031 - accuracy: 0.8090\n",
      "Epoch 41/100\n",
      "187/187 [==============================] - 2s 9ms/step - loss: 0.5078 - accuracy: 0.8052\n",
      "Epoch 42/100\n",
      "187/187 [==============================] - 2s 10ms/step - loss: 0.5025 - accuracy: 0.8077\n",
      "Epoch 43/100\n",
      "187/187 [==============================] - 2s 10ms/step - loss: 0.4979 - accuracy: 0.8097\n",
      "Epoch 44/100\n",
      "187/187 [==============================] - 2s 10ms/step - loss: 0.4917 - accuracy: 0.8123\n",
      "Epoch 45/100\n",
      "187/187 [==============================] - 2s 9ms/step - loss: 0.4812 - accuracy: 0.8157\n",
      "Epoch 46/100\n",
      "187/187 [==============================] - 2s 9ms/step - loss: 0.4913 - accuracy: 0.8132\n",
      "Epoch 47/100\n",
      "187/187 [==============================] - 2s 9ms/step - loss: 0.4887 - accuracy: 0.8173\n",
      "Epoch 48/100\n",
      "187/187 [==============================] - 2s 9ms/step - loss: 0.4784 - accuracy: 0.8158\n",
      "Epoch 49/100\n",
      "187/187 [==============================] - 2s 10ms/step - loss: 0.4790 - accuracy: 0.8218\n",
      "Epoch 50/100\n",
      "187/187 [==============================] - 2s 10ms/step - loss: 0.4916 - accuracy: 0.8150\n",
      "Epoch 51/100\n",
      "187/187 [==============================] - 2s 10ms/step - loss: 0.4807 - accuracy: 0.8188\n",
      "Epoch 52/100\n",
      "187/187 [==============================] - 2s 10ms/step - loss: 0.4665 - accuracy: 0.8228\n",
      "Epoch 53/100\n",
      "187/187 [==============================] - 2s 9ms/step - loss: 0.4738 - accuracy: 0.8185\n",
      "Epoch 54/100\n",
      "187/187 [==============================] - 2s 10ms/step - loss: 0.4776 - accuracy: 0.8200\n",
      "Epoch 55/100\n",
      "187/187 [==============================] - 2s 9ms/step - loss: 0.4772 - accuracy: 0.8153\n",
      "Epoch 56/100\n",
      "187/187 [==============================] - 2s 9ms/step - loss: 0.4697 - accuracy: 0.8260\n",
      "Epoch 57/100\n",
      "187/187 [==============================] - 2s 9ms/step - loss: 0.4729 - accuracy: 0.8167\n",
      "Epoch 58/100\n",
      "187/187 [==============================] - 2s 10ms/step - loss: 0.4615 - accuracy: 0.8233\n",
      "Epoch 59/100\n",
      "187/187 [==============================] - 2s 9ms/step - loss: 0.4601 - accuracy: 0.8293\n",
      "Epoch 60/100\n",
      "187/187 [==============================] - 2s 10ms/step - loss: 0.4735 - accuracy: 0.8185\n",
      "Epoch 61/100\n",
      "187/187 [==============================] - 2s 9ms/step - loss: 0.4569 - accuracy: 0.8320\n",
      "Epoch 62/100\n",
      "187/187 [==============================] - 2s 9ms/step - loss: 0.4753 - accuracy: 0.8195\n",
      "Epoch 63/100\n",
      "187/187 [==============================] - 2s 10ms/step - loss: 0.4492 - accuracy: 0.8233\n",
      "Epoch 64/100\n",
      "187/187 [==============================] - 2s 9ms/step - loss: 0.4486 - accuracy: 0.8252\n",
      "Epoch 65/100\n",
      "187/187 [==============================] - 2s 9ms/step - loss: 0.4500 - accuracy: 0.8288\n",
      "Epoch 66/100\n",
      "187/187 [==============================] - 2s 9ms/step - loss: 0.4482 - accuracy: 0.8273\n",
      "Epoch 67/100\n",
      "187/187 [==============================] - 2s 10ms/step - loss: 0.4422 - accuracy: 0.8310\n",
      "Epoch 68/100\n",
      "187/187 [==============================] - 2s 9ms/step - loss: 0.4465 - accuracy: 0.8232\n",
      "Epoch 69/100\n",
      "187/187 [==============================] - 2s 10ms/step - loss: 0.4454 - accuracy: 0.8312\n",
      "Epoch 70/100\n",
      "187/187 [==============================] - 2s 9ms/step - loss: 0.4476 - accuracy: 0.8333\n",
      "Epoch 71/100\n",
      "187/187 [==============================] - 2s 9ms/step - loss: 0.4457 - accuracy: 0.8258\n",
      "Epoch 72/100\n",
      "187/187 [==============================] - 2s 9ms/step - loss: 0.4457 - accuracy: 0.8320\n",
      "Epoch 73/100\n",
      "187/187 [==============================] - 2s 10ms/step - loss: 0.4339 - accuracy: 0.8338\n",
      "Epoch 74/100\n",
      "187/187 [==============================] - 2s 10ms/step - loss: 0.4429 - accuracy: 0.8333\n",
      "Epoch 75/100\n",
      "187/187 [==============================] - 2s 10ms/step - loss: 0.4359 - accuracy: 0.8343\n",
      "Epoch 76/100\n",
      "187/187 [==============================] - 2s 9ms/step - loss: 0.4340 - accuracy: 0.8305\n",
      "Epoch 77/100\n",
      "187/187 [==============================] - 2s 9ms/step - loss: 0.4276 - accuracy: 0.8363\n",
      "Epoch 78/100\n",
      "187/187 [==============================] - 2s 9ms/step - loss: 0.4513 - accuracy: 0.8272\n",
      "Epoch 79/100\n",
      "187/187 [==============================] - 2s 10ms/step - loss: 0.4500 - accuracy: 0.8258\n",
      "Epoch 80/100\n",
      "187/187 [==============================] - 2s 9ms/step - loss: 0.4272 - accuracy: 0.8392\n",
      "Epoch 81/100\n",
      "187/187 [==============================] - 2s 9ms/step - loss: 0.4258 - accuracy: 0.8342\n",
      "Epoch 82/100\n",
      "187/187 [==============================] - 2s 9ms/step - loss: 0.4307 - accuracy: 0.8352\n",
      "Epoch 83/100\n",
      "187/187 [==============================] - 2s 9ms/step - loss: 0.4363 - accuracy: 0.8318\n",
      "Epoch 84/100\n",
      "187/187 [==============================] - 2s 9ms/step - loss: 0.4172 - accuracy: 0.8422\n",
      "Epoch 85/100\n",
      "187/187 [==============================] - 2s 9ms/step - loss: 0.4370 - accuracy: 0.8325\n",
      "Epoch 86/100\n",
      "187/187 [==============================] - 2s 9ms/step - loss: 0.4250 - accuracy: 0.8380\n",
      "Epoch 87/100\n",
      "187/187 [==============================] - 2s 9ms/step - loss: 0.4190 - accuracy: 0.8400\n",
      "Epoch 88/100\n",
      "187/187 [==============================] - 2s 10ms/step - loss: 0.4284 - accuracy: 0.8372\n",
      "Epoch 89/100\n",
      "187/187 [==============================] - 2s 9ms/step - loss: 0.4244 - accuracy: 0.8348\n",
      "Epoch 90/100\n",
      "187/187 [==============================] - 2s 9ms/step - loss: 0.4143 - accuracy: 0.8413\n",
      "Epoch 91/100\n",
      "187/187 [==============================] - 2s 9ms/step - loss: 0.4288 - accuracy: 0.8362\n",
      "Epoch 92/100\n",
      "187/187 [==============================] - 2s 9ms/step - loss: 0.4076 - accuracy: 0.8437\n",
      "Epoch 93/100\n",
      "187/187 [==============================] - 2s 10ms/step - loss: 0.4214 - accuracy: 0.8425\n",
      "Epoch 94/100\n",
      "187/187 [==============================] - 2s 9ms/step - loss: 0.4190 - accuracy: 0.8418\n",
      "Epoch 95/100\n",
      "187/187 [==============================] - 2s 9ms/step - loss: 0.4050 - accuracy: 0.8523\n",
      "Epoch 96/100\n",
      "187/187 [==============================] - 2s 9ms/step - loss: 0.4117 - accuracy: 0.8458\n",
      "Epoch 97/100\n",
      "187/187 [==============================] - 2s 9ms/step - loss: 0.4152 - accuracy: 0.8357\n",
      "Epoch 98/100\n",
      "187/187 [==============================] - 2s 9ms/step - loss: 0.4181 - accuracy: 0.8435\n",
      "Epoch 99/100\n",
      "187/187 [==============================] - 2s 9ms/step - loss: 0.4161 - accuracy: 0.8452\n",
      "Epoch 100/100\n",
      "187/187 [==============================] - 2s 9ms/step - loss: 0.4108 - accuracy: 0.8425\n"
     ]
    }
   ],
   "source": [
    "res = model.fit(train_flow, \n",
    "                epochs=EPOCHS__, \n",
    "                steps_per_epoch= len(X_train_scaler) / BATCH_SIZE__,\n",
    "                #batch_size=BATCH_SIZE__,\n",
    "                #validation_data=val_generator,\n",
    "               )"
   ]
  },
  {
   "cell_type": "code",
   "execution_count": null,
   "id": "6e7553b1-4c51-4513-93bf-83ca88aba73d",
   "metadata": {
    "id": "6e7553b1-4c51-4513-93bf-83ca88aba73d"
   },
   "outputs": [],
   "source": [
    "# EPOCHS__      = 100\n",
    "# model.fit_generator(  train_flow,\n",
    "#                       epochs=EPOCHS__,\n",
    "#                       steps_per_epoch= len(X_train_scaler) / BATCH_SIZE__,\n",
    "#                       \n",
    "#                    )"
   ]
  },
  {
   "cell_type": "markdown",
   "id": "784523b9-4dae-4032-bc7b-07cb38ae299f",
   "metadata": {
    "id": "784523b9-4dae-4032-bc7b-07cb38ae299f"
   },
   "source": [
    "<pre>\n",
    "증강 전 최대 학습<br>\n",
    "Epoch 11/100\n",
    "169/169 [==============================] - 2s 9ms/step - loss: 0.3030 - accuracy: 0.8896 - val_loss: 0.4593 - val_accuracy: 0.8667\n",
    " \n",
    "증강 후 최대 학습<br>    \n",
    "Epoch 100/100\n",
    "187/187 [==============================] - 2s 9ms/step - loss: 0.4108 - accuracy: 0.8425"
   ]
  },
  {
   "cell_type": "code",
   "execution_count": null,
   "id": "42306a1c-8515-4534-8eae-2f2877272cdc",
   "metadata": {
    "id": "42306a1c-8515-4534-8eae-2f2877272cdc",
    "outputId": "47233deb-f59f-4f56-9f98-ea68f9f4fb00"
   },
   "outputs": [
    {
     "name": "stdout",
     "output_type": "stream",
     "text": [
      "0.4047292470932007 0.8443333506584167\n"
     ]
    }
   ],
   "source": [
    "loss_categorical_crossentropy , metrics_accuracy = model.evaluate_generator(train_flow)\n",
    "print(loss_categorical_crossentropy , metrics_accuracy)"
   ]
  },
  {
   "cell_type": "markdown",
   "id": "e1add67f-cf42-448a-800b-cc4e312265b0",
   "metadata": {
    "id": "e1add67f-cf42-448a-800b-cc4e312265b0"
   },
   "source": [
    "* 연습용 : 이미지 증강 만들기"
   ]
  },
  {
   "cell_type": "code",
   "execution_count": null,
   "id": "fb603514-9d3c-460c-a774-1227b3958db2",
   "metadata": {
    "id": "fb603514-9d3c-460c-a774-1227b3958db2"
   },
   "outputs": [],
   "source": [
    "# import time\n",
    "# for e in range(10):\n",
    "#     print('Epoch', e)\n",
    "#     batch_cnt = 0    #-----------------batch_size=32\n",
    "#     for X_batch, y_batch in train_datagen.flow(X_train, y_train, batch_size=32):\n",
    "#         model.fit(X_batch, y_batch)\n",
    "#         batch_cnt += 1\n",
    "        \n",
    "#         if batch_cnt >= len(X_train) / 32:    #예: train(320장) - batch_size(32) ====> 총 증강된 이미지(10장)\n",
    "#             break                             #예: train(320장) - batch_size(16) ====> 총 증강된 이미지(20장)\n",
    "#         time.sleep(500)    "
   ]
  },
  {
   "cell_type": "markdown",
   "id": "c14238f5-964b-46e3-a464-dcd8fd27f20f",
   "metadata": {
    "id": "c14238f5-964b-46e3-a464-dcd8fd27f20f"
   },
   "source": [
    "## predict_generator()"
   ]
  },
  {
   "cell_type": "code",
   "execution_count": null,
   "id": "8cee034a-c6fe-4c4e-807f-8d3779405347",
   "metadata": {
    "id": "8cee034a-c6fe-4c4e-807f-8d3779405347"
   },
   "outputs": [],
   "source": [
    "pred = model.predict_generator(test_flow)\n",
    "# predict the class label\n",
    "pred_classes = pred.argmax(axis=-1)\n",
    "print(pred_classes)"
   ]
  },
  {
   "cell_type": "markdown",
   "id": "a23d3755-2219-431a-8bdf-316088125ed6",
   "metadata": {
    "id": "a23d3755-2219-431a-8bdf-316088125ed6"
   },
   "source": [
    "# 이미지 증강 : 폴더의 이미지를 증강시킬 경우"
   ]
  },
  {
   "cell_type": "markdown",
   "id": "6276713b-699c-4f7f-a893-1d7ba3d01beb",
   "metadata": {
    "id": "6276713b-699c-4f7f-a893-1d7ba3d01beb",
    "tags": []
   },
   "source": [
    "* 이미지 증강을 위해선 반드시 3단 디렉토리 구조를 가져갈 것"
   ]
  },
  {
   "cell_type": "markdown",
   "id": "44226ef3-af4e-436e-930f-2c53cbede513",
   "metadata": {
    "id": "44226ef3-af4e-436e-930f-2c53cbede513"
   },
   "source": [
    "<pre>\n",
    "train/              -------------------- 최상위폴더\n",
    "...cat/              -------------------- 서브폴더 : 분류클래스\n",
    "......cat_1.jpg   --------------------관련 이미지\n",
    "......cat_2.jpg\n",
    "...dog/\n",
    "......dog_1.jpg\n",
    "......dog_2.jpg"
   ]
  },
  {
   "cell_type": "code",
   "execution_count": null,
   "id": "5da1e3f7-c25b-4657-b458-f5c33ec79e9c",
   "metadata": {
    "id": "5da1e3f7-c25b-4657-b458-f5c33ec79e9c"
   },
   "outputs": [],
   "source": [
    "from tensorflow.keras.preprocessing import image_dataset_from_directory\n",
    "img_list = image_dataset_from_directory(dir)\n"
   ]
  },
  {
   "cell_type": "code",
   "execution_count": null,
   "id": "741addbe-09c6-48ee-9ded-88981fa3241e",
   "metadata": {
    "id": "741addbe-09c6-48ee-9ded-88981fa3241e"
   },
   "outputs": [],
   "source": []
  },
  {
   "cell_type": "code",
   "execution_count": null,
   "id": "62221b2d-d0ee-46d7-b9d9-1a108fa871a3",
   "metadata": {
    "id": "62221b2d-d0ee-46d7-b9d9-1a108fa871a3"
   },
   "outputs": [],
   "source": []
  },
  {
   "cell_type": "code",
   "execution_count": null,
   "id": "c59cbb2a-d4c9-480f-80af-4a96180a6370",
   "metadata": {
    "id": "c59cbb2a-d4c9-480f-80af-4a96180a6370"
   },
   "outputs": [],
   "source": []
  }
 ],
 "metadata": {
  "colab": {
   "collapsed_sections": [
    "f4fb7d22-60ab-49f1-a227-efe7707c8517",
    "26eebd30-193f-4db5-877a-606ed75e15e1",
    "40f1acf0-387e-407e-9bdd-83f2b71b0ba0",
    "9613dffe-824c-46ae-9e6f-9bf2528dd26c",
    "4616d4fe-cedc-42aa-a820-c35438811381",
    "0f353928-d486-4d00-b57e-4c3a63d7329b",
    "375951fe-845c-4674-9bef-76c07efb6216",
    "cab4f1a7-0a29-41e5-810d-3bb7f3cce8fc",
    "ef9bd0ad-0585-4e9e-8a6e-3cfbf4dd3244",
    "26dc970b-70b2-43e4-a052-50ba6982245b",
    "a2d5ff09-8a48-4444-9d2e-4c49cd1d9e2a",
    "c14238f5-964b-46e3-a464-dcd8fd27f20f"
   ],
   "name": "lec05_fashion_mnist_cnn_aug.ipynb",
   "provenance": []
  },
  "kernelspec": {
   "display_name": "Python 3 (ipykernel)",
   "language": "python",
   "name": "python3"
  },
  "language_info": {
   "codemirror_mode": {
    "name": "ipython",
    "version": 3
   },
   "file_extension": ".py",
   "mimetype": "text/x-python",
   "name": "python",
   "nbconvert_exporter": "python",
   "pygments_lexer": "ipython3",
   "version": "3.8.8"
  }
 },
 "nbformat": 4,
 "nbformat_minor": 5
}
