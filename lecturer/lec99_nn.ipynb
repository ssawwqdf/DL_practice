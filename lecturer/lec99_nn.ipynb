{
 "cells": [
  {
   "cell_type": "markdown",
   "id": "1a48ef17-9d60-4ee9-b086-d6b99061a657",
   "metadata": {},
   "source": [
    "# lec05. NN (Neural Network, FC)\n",
    "* 인공신경망"
   ]
  },
  {
   "cell_type": "code",
   "execution_count": 42,
   "id": "7c83322e-25cc-4f12-bd88-da69225d9565",
   "metadata": {},
   "outputs": [
    {
     "data": {
      "text/html": [
       "<style>.container{width:100% !important;}</style>"
      ],
      "text/plain": [
       "<IPython.core.display.HTML object>"
      ]
     },
     "metadata": {},
     "output_type": "display_data"
    }
   ],
   "source": [
    "import pandas as pd\n",
    "import numpy as np\n",
    "import matplotlib.pyplot as plt\n",
    "import seaborn as sns\n",
    "\n",
    "from keras.models import Sequential, Model\n",
    "from keras.layers import Dense, Activation, Conv2D, MaxPooling2D, InputLayer,Flatten\n",
    "import tensorflow as tf\n",
    "\n",
    "\n",
    "import warnings\n",
    "warnings.filterwarnings(action='ignore')\n",
    "\n",
    "#-------------------- 차트 관련 속성 (한글처리, 그리드) -----------\n",
    "#plt.rc('font', family='NanumGothicOTF') # For MacOS\n",
    "plt.rcParams['font.family']= 'Malgun Gothic'\n",
    "plt.rcParams['axes.unicode_minus'] = False\n",
    "sns.set()\n",
    "\n",
    "#-------------------- 주피터 , 출력결과 넓이 늘리기 ---------------\n",
    "from IPython.core.display import display, HTML\n",
    "display(HTML(\"<style>.container{width:100% !important;}</style>\"))\n",
    "pd.set_option('display.max_rows', 100)\n",
    "pd.set_option('display.max_columns', 100)\n",
    "pd.set_option('max_colwidth', None)\n",
    "\n",
    "# from sklearn.datasets import load_boston\n",
    "from keras.datasets     import mnist\n",
    "\n"
   ]
  },
  {
   "cell_type": "code",
   "execution_count": 5,
   "id": "be00e893-3f68-4cb4-b3eb-dcc1c8cf0b75",
   "metadata": {},
   "outputs": [],
   "source": [
    "np.random.seed(0)\n",
    "tf.random.set_seed(0)"
   ]
  },
  {
   "cell_type": "markdown",
   "id": "46ef31fe-bf84-4467-bd45-856b33f55220",
   "metadata": {},
   "source": [
    "# Data Load"
   ]
  },
  {
   "cell_type": "code",
   "execution_count": 14,
   "id": "e321adc2-3f5e-4e85-a79a-ec0b406dfe68",
   "metadata": {},
   "outputs": [],
   "source": [
    "X_train = np.array([[1, 0, 0], [0, 1, 0], [0, 0, 1]])\n",
    "y_train = np.array([[0], [1], [1]])"
   ]
  },
  {
   "cell_type": "markdown",
   "id": "d1be1e25-968f-4324-abb3-a03096c055b3",
   "metadata": {},
   "source": [
    "# 모델 "
   ]
  },
  {
   "cell_type": "code",
   "execution_count": 10,
   "id": "683b1510-efc4-4fd9-b737-fa05c664c3d7",
   "metadata": {},
   "outputs": [
    {
     "name": "stdout",
     "output_type": "stream",
     "text": [
      "Model: \"sequential_1\"\n",
      "_________________________________________________________________\n",
      " Layer (type)                Output Shape              Param #   \n",
      "=================================================================\n",
      " dense_6 (Dense)             (None, 4)                 16        \n",
      "                                                                 \n",
      " dense_7 (Dense)             (None, 2)                 10        \n",
      "                                                                 \n",
      "=================================================================\n",
      "Total params: 26\n",
      "Trainable params: 26\n",
      "Non-trainable params: 0\n",
      "_________________________________________________________________\n"
     ]
    }
   ],
   "source": [
    "input_layer = InputLayer(input_shape=(3,))\n",
    "hidden_layer = Dense(units=4, activation='relu')\n",
    "output_layer = Dense(units=2, activation='softmax')\n",
    "model =  Sequential([\n",
    "  input_layer,\n",
    "  hidden_layer,\n",
    "  output_layer\n",
    "  ])\n",
    "model.summary()"
   ]
  },
  {
   "cell_type": "code",
   "execution_count": 17,
   "id": "41702e8c-18e9-4101-95bb-9f673bcd655e",
   "metadata": {},
   "outputs": [],
   "source": [
    "model.compile(loss='mse', optimizer='Adam')"
   ]
  },
  {
   "cell_type": "markdown",
   "id": "1c74a8d7-3da1-4bde-90a1-217d015986c2",
   "metadata": {
    "tags": []
   },
   "source": [
    "# 은닉층(hidden_layer) 출력 확인하기"
   ]
  },
  {
   "cell_type": "code",
   "execution_count": 22,
   "id": "27a703f9-eaaa-488f-85bc-6d1d9eabfbfb",
   "metadata": {},
   "outputs": [
    {
     "data": {
      "text/plain": [
       "<KerasTensor: shape=(None, 4) dtype=float32 (created by layer 'dense_6')>"
      ]
     },
     "execution_count": 22,
     "metadata": {},
     "output_type": "execute_result"
    }
   ],
   "source": [
    "model.layers[0].output"
   ]
  },
  {
   "cell_type": "code",
   "execution_count": 21,
   "id": "8476412e-90d1-4df7-b94d-66f2fbfd15ce",
   "metadata": {},
   "outputs": [
    {
     "data": {
      "text/plain": [
       "<KerasTensor: shape=(None, 4) dtype=float32 (created by layer 'dense_6')>"
      ]
     },
     "execution_count": 21,
     "metadata": {},
     "output_type": "execute_result"
    }
   ],
   "source": [
    "model.get_layer('dense_6').output"
   ]
  },
  {
   "cell_type": "code",
   "execution_count": 28,
   "id": "8982223c-4958-47de-94af-f480f1fcd417",
   "metadata": {},
   "outputs": [
    {
     "name": "stdout",
     "output_type": "stream",
     "text": [
      "======== Inputs ========\n",
      "[[1 0 0]\n",
      " [0 1 0]\n",
      " [0 0 1]]\n",
      "\n",
      "======== Weights ========\n",
      "[[-0.5643544   0.44471443 -0.0225867   0.6949582 ]\n",
      " [-0.17199272 -0.8988821   0.38799608 -0.24902666]\n",
      " [ 0.14971566  0.7422098  -0.6817321   0.08326364]]\n",
      "\n",
      "======== Outputs : ReLU(np.dot(x, w)========\n",
      "tf.Tensor(\n",
      "[[0.         0.44471443 0.         0.6949582 ]\n",
      " [0.         0.         0.38799608 0.        ]\n",
      " [0.14971566 0.7422098  0.         0.08326364]], shape=(3, 4), dtype=float32)\n"
     ]
    }
   ],
   "source": [
    "hidden_layer_model = Model(inputs=model.input, outputs=model.layers[0].output)\n",
    "hidden_layer_output = hidden_layer_model(X_train)\n",
    "\n",
    "print('======== Inputs ========')\n",
    "print(X_train)\n",
    "\n",
    "print('\\n======== Weights ========')\n",
    "print(hidden_layer.get_weights()[0])\n",
    "\n",
    "print('\\n======== Outputs : ReLU(np.dot(x, w)========')\n",
    "print(hidden_layer_output)\n",
    "\n"
   ]
  },
  {
   "cell_type": "markdown",
   "id": "93d58b4a-f83f-4e1e-b0b2-05ba4020d1e8",
   "metadata": {},
   "source": [
    "# 출력층(output_layer) 출력 확인하기"
   ]
  },
  {
   "cell_type": "code",
   "execution_count": 31,
   "id": "e7786425-24de-4a75-9607-2878a063d89b",
   "metadata": {},
   "outputs": [
    {
     "name": "stdout",
     "output_type": "stream",
     "text": [
      "\n",
      "======== pred ========\n",
      "[[0.5175798  0.48242024]\n",
      " [0.50199926 0.49800074]\n",
      " [0.6386608  0.36133918]]\n"
     ]
    }
   ],
   "source": [
    "pred = model.predict(X_train)\n",
    "print('\\n======== pred ========')\n",
    "print(pred)"
   ]
  },
  {
   "cell_type": "markdown",
   "id": "15399dba-f8aa-4f02-aefe-2670af24712c",
   "metadata": {},
   "source": [
    "# 가중치 확인"
   ]
  },
  {
   "cell_type": "code",
   "execution_count": 34,
   "id": "914470b4-a46b-4964-a239-59abdf19ed1b",
   "metadata": {},
   "outputs": [
    {
     "data": {
      "text/plain": [
       "[array([[-0.5643544 ,  0.44471443, -0.0225867 ,  0.6949582 ],\n",
       "        [-0.17199272, -0.8988821 ,  0.38799608, -0.24902666],\n",
       "        [ 0.14971566,  0.7422098 , -0.6817321 ,  0.08326364]],\n",
       "       dtype=float32),\n",
       " array([0., 0., 0., 0.], dtype=float32),\n",
       " array([[-0.64972925, -0.36405158],\n",
       "        [ 0.71109486, -0.16548204],\n",
       "        [-0.5281601 , -0.5487714 ],\n",
       "        [ 0.1980567 ,  0.6577654 ]], dtype=float32),\n",
       " array([0., 0.], dtype=float32)]"
      ]
     },
     "execution_count": 34,
     "metadata": {},
     "output_type": "execute_result"
    }
   ],
   "source": [
    "weights = model.get_weights()\n",
    "weights"
   ]
  },
  {
   "cell_type": "code",
   "execution_count": 35,
   "id": "1601bed6-16c9-4538-9528-a95ba9ec80f4",
   "metadata": {},
   "outputs": [
    {
     "name": "stdout",
     "output_type": "stream",
     "text": [
      "[array([[-0.5643544 ,  0.44471443, -0.0225867 ,  0.6949582 ],\n",
      "       [-0.17199272, -0.8988821 ,  0.38799608, -0.24902666],\n",
      "       [ 0.14971566,  0.7422098 , -0.6817321 ,  0.08326364]],\n",
      "      dtype=float32), array([0., 0., 0., 0.], dtype=float32), array([[-0.64972925, -0.36405158],\n",
      "       [ 0.71109486, -0.16548204],\n",
      "       [-0.5281601 , -0.5487714 ],\n",
      "       [ 0.1980567 ,  0.6577654 ]], dtype=float32), array([0., 0.], dtype=float32)]\n"
     ]
    }
   ],
   "source": [
    "model.set_weights(weights)\n",
    "print(model.get_weights())"
   ]
  },
  {
   "cell_type": "code",
   "execution_count": 40,
   "id": "281ca8d5-3948-4408-a291-b58ffc3653f0",
   "metadata": {},
   "outputs": [
    {
     "name": "stdout",
     "output_type": "stream",
     "text": [
      "(3, 4)\n",
      "(4,)\n",
      "(4, 2)\n",
      "(2,)\n"
     ]
    }
   ],
   "source": [
    "print(weights[0].shape)\n",
    "print(weights[1].shape)\n",
    "print(weights[2].shape)\n",
    "print(weights[3].shape)"
   ]
  },
  {
   "cell_type": "markdown",
   "id": "5304c8e8-91e6-47ca-a387-61ecd2ecfaab",
   "metadata": {},
   "source": [
    "# 가중치 적용 모델 재구성"
   ]
  },
  {
   "cell_type": "code",
   "execution_count": 43,
   "id": "8bb23428-7d33-42ee-9b70-ce810e274b01",
   "metadata": {},
   "outputs": [
    {
     "name": "stdout",
     "output_type": "stream",
     "text": [
      "[array([[-0.0661997 , -0.05542319, -0.00184334, ...,  0.06040917,\n",
      "         0.00923988,  0.00344074],\n",
      "       [ 0.02670744,  0.01885773, -0.02440755, ...,  0.05757166,\n",
      "        -0.05688847,  0.04609665],\n",
      "       [ 0.00348741,  0.06168006, -0.06192341, ...,  0.0039708 ,\n",
      "         0.01299342, -0.0566762 ],\n",
      "       ...,\n",
      "       [ 0.00922745, -0.06580307, -0.04880428, ..., -0.06038167,\n",
      "         0.03672916,  0.04943163],\n",
      "       [ 0.0641048 , -0.06585594,  0.01186454, ...,  0.05630555,\n",
      "        -0.03557849,  0.06257528],\n",
      "       [ 0.02940424, -0.01366196,  0.03396847, ...,  0.06701964,\n",
      "        -0.05700074,  0.06546101]], dtype=float32), array([[-0.02202152,  0.03562982, -0.07478411, ...,  0.06562381,\n",
      "        -0.05857898, -0.09240679],\n",
      "       [ 0.00299827,  0.06149774, -0.07925921, ...,  0.00915465,\n",
      "         0.08889817, -0.06607331],\n",
      "       [ 0.06523602, -0.03345864,  0.07843926, ...,  0.07434996,\n",
      "        -0.01042911,  0.09479173],\n",
      "       ...,\n",
      "       [ 0.02329087, -0.02392936,  0.01120333, ...,  0.02478117,\n",
      "        -0.06108456,  0.0999819 ],\n",
      "       [ 0.02651941,  0.06113447, -0.04159565, ...,  0.00660229,\n",
      "        -0.02554139, -0.10194343],\n",
      "       [-0.09035794,  0.06401316, -0.01915216, ..., -0.05412378,\n",
      "        -0.00171983, -0.0819952 ]], dtype=float32)]\n",
      "2\n",
      "(784, 512)\n",
      "(512, 10)\n"
     ]
    }
   ],
   "source": [
    "# 3. 모델 구성\n",
    "model = Sequential([\n",
    "  Flatten(input_shape=(28, 28)),\n",
    "  Dense(512, activation=tf.nn.relu, use_bias=False),\n",
    "  Dense(10, activation=tf.nn.softmax, use_bias=False)\n",
    "])\n",
    "\n",
    "weights = model.get_weights()\n",
    "\n",
    "print(weights)\n",
    "print(len(weights))\n",
    "\n",
    "print(weights[0].shape)\n",
    "print(weights[1].shape)"
   ]
  },
  {
   "cell_type": "markdown",
   "id": "1343801c-cab7-4ee2-a64d-cd88561d49ca",
   "metadata": {},
   "source": [
    "# RandomNormal "
   ]
  },
  {
   "cell_type": "code",
   "execution_count": 45,
   "id": "6f9bfa72-5f59-4783-8ac5-dadcb0004065",
   "metadata": {},
   "outputs": [
    {
     "name": "stdout",
     "output_type": "stream",
     "text": [
      "[array([[2.0416415, 2.038124 , 1.9847361, ..., 1.9792725, 2.023481 ,\n",
      "        2.0344596],\n",
      "       [2.0089567, 2.0247881, 2.0484846, ..., 2.0318325, 1.8741969,\n",
      "        2.0058174],\n",
      "       [1.9560302, 1.9856726, 2.0244684, ..., 1.9817377, 2.0328732,\n",
      "        2.0900898],\n",
      "       ...,\n",
      "       [1.9467025, 1.9941446, 1.9938695, ..., 2.0436187, 1.9626455,\n",
      "        2.003143 ],\n",
      "       [2.1448028, 2.0049112, 1.9640114, ..., 1.9651076, 1.9986618,\n",
      "        1.9544768],\n",
      "       [2.0190773, 1.954591 , 2.088764 , ..., 1.8994648, 2.0600438,\n",
      "        2.0058026]], dtype=float32), array([[-1.9865074, -1.9952382, -1.990021 , ..., -2.0054867, -1.9945837,\n",
      "        -1.995364 ],\n",
      "       [-1.9982061, -2.0081196, -2.0203786, ..., -1.9915028, -2.001952 ,\n",
      "        -2.0081356],\n",
      "       [-1.993816 , -1.9819204, -1.9996343, ..., -2.0118055, -2.0126922,\n",
      "        -1.9811147],\n",
      "       ...,\n",
      "       [-1.9863311, -1.996919 , -2.010277 , ..., -2.0079741, -1.9763048,\n",
      "        -2.004481 ],\n",
      "       [-2.001847 , -2.004067 , -1.9995575, ..., -1.9988226, -2.013626 ,\n",
      "        -2.002265 ],\n",
      "       [-1.9925426, -1.9941556, -2.0074718, ..., -2.0117466, -2.0019681,\n",
      "        -2.0012918]], dtype=float32)]\n"
     ]
    },
    {
     "data": {
      "image/png": "[encoded data removed]",
      "text/plain": [
       "<Figure size 432x288 with 1 Axes>"
      ]
     },
     "metadata": {},
     "output_type": "display_data"
    }
   ],
   "source": [
    "mnist = tf.keras.datasets.mnist\n",
    "(x_train, y_train), (x_test, y_test) = mnist.load_data()\n",
    "x_train, x_test = x_train/255.0, x_test/255.0\n",
    "\n",
    "# tf.keras.initializers.RandomNormal 사용하기\n",
    "initializer1 = tf.keras.initializers.RandomNormal(mean=2.0, stddev=0.05, seed=None)\n",
    "initializer2 = tf.keras.initializers.RandomNormal(mean=-2.0, stddev=0.01, seed=None)\n",
    "\n",
    "model = tf.keras.models.Sequential([\n",
    "  tf.keras.layers.Flatten(input_shape=(28, 28)),\n",
    "  tf.keras.layers.Dense(512, activation=tf.nn.relu, use_bias=False, kernel_initializer=initializer1),\n",
    "  tf.keras.layers.Dense(10, activation=tf.nn.softmax, use_bias=False, kernel_initializer=initializer2)\n",
    "])\n",
    "\n",
    "weights = model.get_weights()\n",
    "print(weights)\n",
    "\n",
    "plt.hist(weights[0], bins=100, alpha=0.7, histtype='step')\n",
    "plt.hist(weights[1], bins=100, alpha=0.7, histtype='step')\n",
    "plt.show()"
   ]
  },
  {
   "cell_type": "markdown",
   "id": "f65e17f6-6e8c-4ff2-b8bb-d67050dea6f6",
   "metadata": {},
   "source": [
    "# RandomUniform"
   ]
  },
  {
   "cell_type": "code",
   "execution_count": 46,
   "id": "a7e2edc7-2621-44a6-a82f-9d32c8154202",
   "metadata": {},
   "outputs": [
    {
     "name": "stdout",
     "output_type": "stream",
     "text": [
      "[array([[-0.04050793,  0.0281483 ,  0.03243944, ...,  0.03383524,\n",
      "        -0.0127926 ,  0.03523726],\n",
      "       [ 0.01308379, -0.00581348, -0.03325216, ..., -0.00680916,\n",
      "        -0.01774889, -0.00881022],\n",
      "       [-0.03188099,  0.00753193, -0.02938407, ..., -0.04752439,\n",
      "        -0.00716919,  0.02583643],\n",
      "       ...,\n",
      "       [-0.02513367, -0.0307479 , -0.01876351, ...,  0.01243149,\n",
      "         0.02593647,  0.03951779],\n",
      "       [ 0.04426315,  0.03517571, -0.01712874, ..., -0.02187018,\n",
      "        -0.03427137,  0.00256746],\n",
      "       [-0.04170638, -0.04337412,  0.03561859, ..., -0.00373093,\n",
      "         0.03304461, -0.03849938]], dtype=float32), array([[-0.03967037,  0.04149909, -0.07004289, ...,  0.07312923,\n",
      "         0.06870282,  0.07358838],\n",
      "       [-0.0608969 ,  0.07211151,  0.01639125, ...,  0.0932539 ,\n",
      "        -0.0755441 , -0.08721402],\n",
      "       [ 0.05028249,  0.05185504,  0.06891698, ...,  0.07063694,\n",
      "         0.06543393, -0.03229396],\n",
      "       ...,\n",
      "       [-0.02716744, -0.02069101, -0.00779577, ...,  0.09061005,\n",
      "         0.05118538,  0.09337912],\n",
      "       [-0.01315944, -0.04308102,  0.03385649, ..., -0.00494282,\n",
      "        -0.09509065,  0.03586958],\n",
      "       [-0.04815998, -0.02533646, -0.04002836, ...,  0.05983151,\n",
      "         0.04977264,  0.0988654 ]], dtype=float32)]\n"
     ]
    },
    {
     "data": {
      "image/png": "[encoded data removed]",
      "text/plain": [
       "<Figure size 432x288 with 1 Axes>"
      ]
     },
     "metadata": {},
     "output_type": "display_data"
    }
   ],
   "source": [
    "mnist = tf.keras.datasets.mnist\n",
    "(x_train, y_train), (x_test, y_test) = mnist.load_data()\n",
    "x_train, x_test = x_train/255.0, x_test/255.0\n",
    "\n",
    "# tf.keras.initializers.RandomNormal\n",
    "initializer1 = tf.keras.initializers.RandomUniform(minval=-0.05, maxval=0.05, seed=None)\n",
    "initializer2 = tf.keras.initializers.RandomUniform(minval=-0.1, maxval=0.1, seed=None)\n",
    "\n",
    "model = tf.keras.models.Sequential([\n",
    "  Flatten(input_shape=(28, 28)),\n",
    "  Dense(512, activation=tf.nn.relu, use_bias=False, kernel_initializer=initializer1),\n",
    "  Dense(10, activation=tf.nn.softmax, use_bias=False, kernel_initializer=initializer2)\n",
    "])\n",
    "\n",
    "weights = model.get_weights()\n",
    "print(weights)\n",
    "\n",
    "plt.hist(weights[0], bins=100, alpha=0.7, histtype='step')\n",
    "plt.hist(weights[1], bins=100, alpha=0.7, histtype='step')\n",
    "plt.show()"
   ]
  },
  {
   "cell_type": "code",
   "execution_count": null,
   "id": "d518c0e8-a8b1-4779-8e8c-8785652e6b72",
   "metadata": {},
   "outputs": [],
   "source": []
  }
 ],
 "metadata": {
  "kernelspec": {
   "display_name": "Python 3 (ipykernel)",
   "language": "python",
   "name": "python3"
  },
  "language_info": {
   "codemirror_mode": {
    "name": "ipython",
    "version": 3
   },
   "file_extension": ".py",
   "mimetype": "text/x-python",
   "name": "python",
   "nbconvert_exporter": "python",
   "pygments_lexer": "ipython3",
   "version": "3.8.8"
  }
 },
 "nbformat": 4,
 "nbformat_minor": 5
}
