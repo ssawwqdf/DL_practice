{
 "cells": [
  {
   "cell_type": "code",
   "execution_count": null,
   "id": "e9048eec-69cd-48eb-8cff-d6c55e5969f3",
   "metadata": {},
   "outputs": [],
   "source": []
  },
  {
   "cell_type": "code",
   "execution_count": null,
   "id": "63ba2d49-d62b-4c27-aa54-e47ec1404f1e",
   "metadata": {},
   "outputs": [],
   "source": []
  },
  {
   "cell_type": "code",
   "execution_count": 1,
   "id": "44073a67-d09e-4629-b13e-5cf6b0bd7885",
   "metadata": {},
   "outputs": [
    {
     "data": {
      "text/html": [
       "<style type='text/css'>\n",
       ".datatable table.frame { margin-bottom: 0; }\n",
       ".datatable table.frame thead { border-bottom: none; }\n",
       ".datatable table.frame tr.coltypes td {  color: #FFFFFF;  line-height: 6px;  padding: 0 0.5em;}\n",
       ".datatable .bool    { background: #DDDD99; }\n",
       ".datatable .object  { background: #565656; }\n",
       ".datatable .int     { background: #5D9E5D; }\n",
       ".datatable .float   { background: #4040CC; }\n",
       ".datatable .str     { background: #CC4040; }\n",
       ".datatable .time    { background: #40CC40; }\n",
       ".datatable .row_index {  background: var(--jp-border-color3);  border-right: 1px solid var(--jp-border-color0);  color: var(--jp-ui-font-color3);  font-size: 9px;}\n",
       ".datatable .frame tbody td { text-align: left; }\n",
       ".datatable .frame tr.coltypes .row_index {  background: var(--jp-border-color0);}\n",
       ".datatable th:nth-child(2) { padding-left: 12px; }\n",
       ".datatable .hellipsis {  color: var(--jp-cell-editor-border-color);}\n",
       ".datatable .vellipsis {  background: var(--jp-layout-color0);  color: var(--jp-cell-editor-border-color);}\n",
       ".datatable .na {  color: var(--jp-cell-editor-border-color);  font-size: 80%;}\n",
       ".datatable .sp {  opacity: 0.25;}\n",
       ".datatable .footer { font-size: 9px; }\n",
       ".datatable .frame_dimensions {  background: var(--jp-border-color3);  border-top: 1px solid var(--jp-border-color0);  color: var(--jp-ui-font-color3);  display: inline-block;  opacity: 0.6;  padding: 1px 10px 1px 5px;}\n",
       "</style>\n"
      ],
      "text/plain": [
       "<IPython.core.display.HTML object>"
      ]
     },
     "metadata": {},
     "output_type": "display_data"
    },
    {
     "data": {
      "text/html": [
       "<style>.container{width:100% !important;}</style>"
      ],
      "text/plain": [
       "<IPython.core.display.HTML object>"
      ]
     },
     "metadata": {},
     "output_type": "display_data"
    }
   ],
   "source": [
    "import pandas as pd\n",
    "import numpy as np\n",
    "import matplotlib.pyplot as plt\n",
    "import seaborn as sns\n",
    "\n",
    "from sklearn.preprocessing import LabelEncoder, OneHotEncoder\n",
    "from sklearn.model_selection import train_test_split\n",
    "from sklearn.preprocessing import StandardScaler, RobustScaler, MinMaxScaler\n",
    "\n",
    "from sklearn.linear_model import LinearRegression\n",
    "from sklearn.linear_model import Lasso, LassoCV\n",
    "from sklearn.linear_model import ElasticNet, ElasticNetCV\n",
    "from sklearn.linear_model import Ridge, RidgeCV\n",
    "from xgboost import XGBRegressor\n",
    "from lightgbm import LGBMRegressor\n",
    "from sklearn.svm import SVC\n",
    "\n",
    "from sklearn.metrics import mean_squared_error, mean_squared_log_error, mean_absolute_error\n",
    "\n",
    "from sklearn.model_selection import cross_val_score, KFold, GridSearchCV\n",
    "\n",
    "import warnings\n",
    "warnings.filterwarnings(action='ignore')\n",
    "\n",
    "#-------------------- 차트 관련 속성 (한글처리, 그리드) -----------\n",
    "#plt.rc('font', family='NanumGothicOTF') # For MacOS\n",
    "plt.rcParams['font.family']= 'Malgun Gothic'\n",
    "plt.rcParams['axes.unicode_minus'] = False\n",
    "sns.set()\n",
    "\n",
    "#-------------------- 주피터 , 출력결과 넓이 늘리기 ---------------\n",
    "from IPython.core.display import display, HTML\n",
    "display(HTML(\"<style>.container{width:100% !important;}</style>\"))\n",
    "pd.set_option('display.max_rows', 100)\n",
    "pd.set_option('display.max_columns', 100)\n",
    "pd.set_option('max_colwidth', None)\n",
    "\n",
    "from sklearn.datasets import load_boston\n"
   ]
  },
  {
   "cell_type": "markdown",
   "id": "2deb69d1-43d2-4559-ba73-41071aea2c04",
   "metadata": {},
   "source": [
    "# Load Data"
   ]
  },
  {
   "cell_type": "code",
   "execution_count": 2,
   "id": "4de9a74c-ac17-440d-9ab8-d9730e9fe1d1",
   "metadata": {},
   "outputs": [
    {
     "data": {
      "text/html": [
       "<div>\n",
       "<style scoped>\n",
       "    .dataframe tbody tr th:only-of-type {\n",
       "        vertical-align: middle;\n",
       "    }\n",
       "\n",
       "    .dataframe tbody tr th {\n",
       "        vertical-align: top;\n",
       "    }\n",
       "\n",
       "    .dataframe thead th {\n",
       "        text-align: right;\n",
       "    }\n",
       "</style>\n",
       "<table border=\"1\" class=\"dataframe\">\n",
       "  <thead>\n",
       "    <tr style=\"text-align: right;\">\n",
       "      <th></th>\n",
       "      <th>crim</th>\n",
       "      <th>zn</th>\n",
       "      <th>indus</th>\n",
       "      <th>chas</th>\n",
       "      <th>nox</th>\n",
       "      <th>rm</th>\n",
       "      <th>age</th>\n",
       "      <th>dis</th>\n",
       "      <th>rad</th>\n",
       "      <th>tax</th>\n",
       "      <th>ptratio</th>\n",
       "      <th>b</th>\n",
       "      <th>lstat</th>\n",
       "      <th>price</th>\n",
       "    </tr>\n",
       "  </thead>\n",
       "  <tbody>\n",
       "    <tr>\n",
       "      <th>0</th>\n",
       "      <td>0.00632</td>\n",
       "      <td>18.0</td>\n",
       "      <td>2.31</td>\n",
       "      <td>0.0</td>\n",
       "      <td>0.538</td>\n",
       "      <td>6.575</td>\n",
       "      <td>65.2</td>\n",
       "      <td>4.09</td>\n",
       "      <td>1.0</td>\n",
       "      <td>296.0</td>\n",
       "      <td>15.3</td>\n",
       "      <td>396.9</td>\n",
       "      <td>4.98</td>\n",
       "      <td>24.0</td>\n",
       "    </tr>\n",
       "  </tbody>\n",
       "</table>\n",
       "</div>"
      ],
      "text/plain": [
       "      crim    zn  indus  chas    nox     rm   age   dis  rad    tax  ptratio  \\\n",
       "0  0.00632  18.0   2.31   0.0  0.538  6.575  65.2  4.09  1.0  296.0     15.3   \n",
       "\n",
       "       b  lstat  price  \n",
       "0  396.9   4.98   24.0  "
      ]
     },
     "execution_count": 2,
     "metadata": {},
     "output_type": "execute_result"
    }
   ],
   "source": [
    "data_dict = load_boston()\n",
    "df = pd.DataFrame(data=data_dict['data'], columns=data_dict['feature_names'] )\n",
    "df['price'] = data_dict['target']\n",
    "df.columns = [col.lower() for col in df.columns.tolist()]\n",
    "df.head(1)"
   ]
  },
  {
   "cell_type": "markdown",
   "id": "deeafaa5-8439-4114-84fd-da87e49318a2",
   "metadata": {},
   "source": [
    "# ML 학습"
   ]
  },
  {
   "cell_type": "code",
   "execution_count": 3,
   "id": "2c65610f-97ff-4ca6-8ebf-08e25d61fa71",
   "metadata": {},
   "outputs": [
    {
     "name": "stdout",
     "output_type": "stream",
     "text": [
      "RMSE:2.7499463831274227\n"
     ]
    }
   ],
   "source": [
    "y = df[\"price\"]\n",
    "X = df.drop([\"price\"], axis=1)\n",
    "\n",
    "\n",
    "\n",
    "X_train, X_test, y_train, y_test = train_test_split(X,y, test_size=0.2, shuffle=True, random_state=1234)\n",
    "\n",
    "model = LGBMRegressor()    \n",
    "model.fit(X_train, y_train)\n",
    "pred = model.predict(X_test)\n",
    "rmse = mean_squared_error(y_test, pred, squared=False)\n",
    "print(f\"RMSE:{rmse}\")    "
   ]
  },
  {
   "cell_type": "markdown",
   "id": "41a89b34-7213-413f-bc88-67327e39c298",
   "metadata": {},
   "source": [
    "# DL 학습"
   ]
  },
  {
   "cell_type": "code",
   "execution_count": 4,
   "id": "5a558a47-d8fb-41c7-97d8-d495cad307b3",
   "metadata": {},
   "outputs": [],
   "source": [
    "# ! pip install keras         #분석을 위한 tensorflow 내 벡엔드엔진\n",
    "# ! pip install tensorflow"
   ]
  },
  {
   "cell_type": "code",
   "execution_count": 5,
   "id": "0c3fc24b-573a-4a74-bc29-5d831244d64c",
   "metadata": {},
   "outputs": [],
   "source": [
    "from keras.models import Sequential\n",
    "from keras.layers import Dense, Activation\n",
    "import tensorflow as tf"
   ]
  },
  {
   "cell_type": "code",
   "execution_count": 6,
   "id": "607c8dd8-3d3a-40d5-b91d-4530eb9d7d90",
   "metadata": {},
   "outputs": [],
   "source": [
    "np.random.seed(1234)\n",
    "tf.random.set_seed(1234)"
   ]
  },
  {
   "cell_type": "code",
   "execution_count": 7,
   "id": "6eca0605-64cd-4c41-8eed-34ea78ee3ffd",
   "metadata": {},
   "outputs": [
    {
     "data": {
      "text/html": [
       "<div>\n",
       "<style scoped>\n",
       "    .dataframe tbody tr th:only-of-type {\n",
       "        vertical-align: middle;\n",
       "    }\n",
       "\n",
       "    .dataframe tbody tr th {\n",
       "        vertical-align: top;\n",
       "    }\n",
       "\n",
       "    .dataframe thead th {\n",
       "        text-align: right;\n",
       "    }\n",
       "</style>\n",
       "<table border=\"1\" class=\"dataframe\">\n",
       "  <thead>\n",
       "    <tr style=\"text-align: right;\">\n",
       "      <th></th>\n",
       "      <th>crim</th>\n",
       "      <th>zn</th>\n",
       "      <th>indus</th>\n",
       "      <th>chas</th>\n",
       "      <th>nox</th>\n",
       "      <th>rm</th>\n",
       "      <th>age</th>\n",
       "      <th>dis</th>\n",
       "      <th>rad</th>\n",
       "      <th>tax</th>\n",
       "      <th>ptratio</th>\n",
       "      <th>b</th>\n",
       "      <th>lstat</th>\n",
       "      <th>price</th>\n",
       "    </tr>\n",
       "  </thead>\n",
       "  <tbody>\n",
       "    <tr>\n",
       "      <th>0</th>\n",
       "      <td>0.00632</td>\n",
       "      <td>18.0</td>\n",
       "      <td>2.31</td>\n",
       "      <td>0.0</td>\n",
       "      <td>0.538</td>\n",
       "      <td>6.575</td>\n",
       "      <td>65.2</td>\n",
       "      <td>4.0900</td>\n",
       "      <td>1.0</td>\n",
       "      <td>296.0</td>\n",
       "      <td>15.3</td>\n",
       "      <td>396.9</td>\n",
       "      <td>4.98</td>\n",
       "      <td>24.0</td>\n",
       "    </tr>\n",
       "    <tr>\n",
       "      <th>1</th>\n",
       "      <td>0.02731</td>\n",
       "      <td>0.0</td>\n",
       "      <td>7.07</td>\n",
       "      <td>0.0</td>\n",
       "      <td>0.469</td>\n",
       "      <td>6.421</td>\n",
       "      <td>78.9</td>\n",
       "      <td>4.9671</td>\n",
       "      <td>2.0</td>\n",
       "      <td>242.0</td>\n",
       "      <td>17.8</td>\n",
       "      <td>396.9</td>\n",
       "      <td>9.14</td>\n",
       "      <td>21.6</td>\n",
       "    </tr>\n",
       "  </tbody>\n",
       "</table>\n",
       "</div>"
      ],
      "text/plain": [
       "      crim    zn  indus  chas    nox     rm   age     dis  rad    tax  \\\n",
       "0  0.00632  18.0   2.31   0.0  0.538  6.575  65.2  4.0900  1.0  296.0   \n",
       "1  0.02731   0.0   7.07   0.0  0.469  6.421  78.9  4.9671  2.0  242.0   \n",
       "\n",
       "   ptratio      b  lstat  price  \n",
       "0     15.3  396.9   4.98   24.0  \n",
       "1     17.8  396.9   9.14   21.6  "
      ]
     },
     "execution_count": 7,
     "metadata": {},
     "output_type": "execute_result"
    }
   ],
   "source": [
    "df.head(2)"
   ]
  },
  {
   "cell_type": "code",
   "execution_count": 8,
   "id": "a7b7a95b-bdcc-42dd-b190-b3d243c5f970",
   "metadata": {},
   "outputs": [],
   "source": [
    "y = df[\"price\"]\n",
    "X = df.drop([\"price\"], axis=1)"
   ]
  },
  {
   "cell_type": "code",
   "execution_count": 9,
   "id": "f088a7ce-5a68-4b80-968b-527bb4c4c14c",
   "metadata": {},
   "outputs": [
    {
     "name": "stdout",
     "output_type": "stream",
     "text": [
      "(506, 13) (506,)\n"
     ]
    }
   ],
   "source": [
    "print(X.shape, y.shape)"
   ]
  },
  {
   "cell_type": "code",
   "execution_count": 10,
   "id": "db920e11-5331-4513-b541-b62be89eab6b",
   "metadata": {},
   "outputs": [],
   "source": [
    "model = Sequential()\n",
    "\n",
    "\n",
    "\n",
    "model.add(Dense(units=20, activation='relu', input_dim=13))  #input  layer\n",
    "model.add(Dense(units=8, activation='relu'))                 #hidden layer1\n",
    "model.add(Dense(units=8, activation='relu'))                 #hidden layer2\n",
    "model.add(Dense(units=4, activation='relu'))                 #hidden layer3\n",
    "model.add(Dense(units=1, activation='sigmoid'))                                    #output layer"
   ]
  },
  {
   "cell_type": "code",
   "execution_count": 11,
   "id": "4fcbb7b4-94cb-424b-a513-e82b9dcccdbb",
   "metadata": {},
   "outputs": [
    {
     "name": "stdout",
     "output_type": "stream",
     "text": [
      "Model: \"sequential\"\n",
      "_________________________________________________________________\n",
      " Layer (type)                Output Shape              Param #   \n",
      "=================================================================\n",
      " dense (Dense)               (None, 20)                280       \n",
      "                                                                 \n",
      " dense_1 (Dense)             (None, 8)                 168       \n",
      "                                                                 \n",
      " dense_2 (Dense)             (None, 8)                 72        \n",
      "                                                                 \n",
      " dense_3 (Dense)             (None, 4)                 36        \n",
      "                                                                 \n",
      " dense_4 (Dense)             (None, 1)                 5         \n",
      "                                                                 \n",
      "=================================================================\n",
      "Total params: 561\n",
      "Trainable params: 561\n",
      "Non-trainable params: 0\n",
      "_________________________________________________________________\n"
     ]
    }
   ],
   "source": [
    "model.summary()"
   ]
  },
  {
   "cell_type": "code",
   "execution_count": 12,
   "id": "fbcd8f53-8f0e-4d09-b422-936bd27ae171",
   "metadata": {},
   "outputs": [],
   "source": [
    "# lom 설정\n",
    "model.compile(loss=\"mean_squared_error\",    #mse\n",
    "              optimizer=\"adam\"  #rmsprop\n",
    "              )  #metrics=\"mse\""
   ]
  },
  {
   "cell_type": "code",
   "execution_count": 19,
   "id": "fae4f9fa-45c2-4477-b9ab-7d2ae407d53b",
   "metadata": {},
   "outputs": [
    {
     "name": "stdout",
     "output_type": "stream",
     "text": [
      "Epoch 1/100\n",
      "13/13 [==============================] - 0s 9ms/step - loss: 21.9510 - val_loss: 46.5904\n",
      "Epoch 2/100\n",
      "13/13 [==============================] - 0s 4ms/step - loss: 19.3984 - val_loss: 38.9597\n",
      "Epoch 3/100\n",
      "13/13 [==============================] - 0s 4ms/step - loss: 18.7539 - val_loss: 40.3244\n",
      "Epoch 4/100\n",
      "13/13 [==============================] - 0s 5ms/step - loss: 18.3185 - val_loss: 44.2097\n",
      "Epoch 5/100\n",
      "13/13 [==============================] - 0s 4ms/step - loss: 20.2188 - val_loss: 44.0197\n",
      "Epoch 6/100\n",
      "13/13 [==============================] - 0s 4ms/step - loss: 18.4006 - val_loss: 39.2437\n",
      "Epoch 7/100\n",
      "13/13 [==============================] - 0s 4ms/step - loss: 18.6419 - val_loss: 40.0448\n",
      "Epoch 8/100\n",
      "13/13 [==============================] - 0s 4ms/step - loss: 17.8234 - val_loss: 39.2603\n",
      "Epoch 9/100\n",
      "13/13 [==============================] - 0s 5ms/step - loss: 19.2897 - val_loss: 45.0758\n",
      "Epoch 10/100\n",
      "13/13 [==============================] - 0s 4ms/step - loss: 20.5453 - val_loss: 38.1829\n",
      "Epoch 11/100\n",
      "13/13 [==============================] - 0s 4ms/step - loss: 18.3244 - val_loss: 39.8465\n",
      "Epoch 12/100\n",
      "13/13 [==============================] - 0s 4ms/step - loss: 18.0195 - val_loss: 40.2921\n",
      "Epoch 13/100\n",
      "13/13 [==============================] - 0s 5ms/step - loss: 18.1751 - val_loss: 36.5434\n",
      "Epoch 14/100\n",
      "13/13 [==============================] - 0s 4ms/step - loss: 18.8747 - val_loss: 42.1051\n",
      "Epoch 15/100\n",
      "13/13 [==============================] - 0s 4ms/step - loss: 18.2747 - val_loss: 39.9507\n",
      "Epoch 16/100\n",
      "13/13 [==============================] - 0s 4ms/step - loss: 18.7087 - val_loss: 38.1210\n",
      "Epoch 17/100\n",
      "13/13 [==============================] - 0s 4ms/step - loss: 20.0708 - val_loss: 41.6052\n",
      "Epoch 18/100\n",
      "13/13 [==============================] - 0s 5ms/step - loss: 18.7187 - val_loss: 35.4112\n",
      "Epoch 19/100\n",
      "13/13 [==============================] - 0s 4ms/step - loss: 17.8373 - val_loss: 52.1145\n",
      "Epoch 20/100\n",
      "13/13 [==============================] - 0s 3ms/step - loss: 18.8203 - val_loss: 34.1338\n",
      "Epoch 21/100\n",
      "13/13 [==============================] - 0s 4ms/step - loss: 20.0900 - val_loss: 41.9178\n",
      "Epoch 22/100\n",
      "13/13 [==============================] - 0s 4ms/step - loss: 18.6373 - val_loss: 39.8485\n",
      "Epoch 23/100\n",
      "13/13 [==============================] - 0s 4ms/step - loss: 20.9045 - val_loss: 39.8654\n",
      "Epoch 24/100\n",
      "13/13 [==============================] - 0s 4ms/step - loss: 19.2517 - val_loss: 44.2842\n",
      "Epoch 25/100\n",
      "13/13 [==============================] - 0s 4ms/step - loss: 17.8364 - val_loss: 39.6289\n",
      "Epoch 26/100\n",
      "13/13 [==============================] - 0s 5ms/step - loss: 17.9992 - val_loss: 38.8074\n",
      "Epoch 27/100\n",
      "13/13 [==============================] - 0s 4ms/step - loss: 18.7473 - val_loss: 35.9413\n",
      "Epoch 28/100\n",
      "13/13 [==============================] - 0s 5ms/step - loss: 18.3828 - val_loss: 38.0848\n",
      "Epoch 29/100\n",
      "13/13 [==============================] - 0s 4ms/step - loss: 17.6843 - val_loss: 40.4776\n",
      "Epoch 30/100\n",
      "13/13 [==============================] - 0s 6ms/step - loss: 18.1093 - val_loss: 35.8859\n",
      "Epoch 31/100\n",
      "13/13 [==============================] - 0s 4ms/step - loss: 17.9794 - val_loss: 45.0888\n",
      "Epoch 32/100\n",
      "13/13 [==============================] - 0s 5ms/step - loss: 18.8662 - val_loss: 38.4982\n",
      "Epoch 33/100\n",
      "13/13 [==============================] - 0s 4ms/step - loss: 17.2766 - val_loss: 37.1021\n",
      "Epoch 34/100\n",
      "13/13 [==============================] - 0s 4ms/step - loss: 17.4488 - val_loss: 42.9251\n",
      "Epoch 35/100\n",
      "13/13 [==============================] - 0s 4ms/step - loss: 17.8363 - val_loss: 36.9441\n",
      "Epoch 36/100\n",
      "13/13 [==============================] - 0s 4ms/step - loss: 18.5054 - val_loss: 38.7261\n",
      "Epoch 37/100\n",
      "13/13 [==============================] - 0s 5ms/step - loss: 18.1961 - val_loss: 38.5335\n",
      "Epoch 38/100\n",
      "13/13 [==============================] - 0s 5ms/step - loss: 18.1623 - val_loss: 37.5190\n",
      "Epoch 39/100\n",
      "13/13 [==============================] - 0s 4ms/step - loss: 17.1438 - val_loss: 38.0195\n",
      "Epoch 40/100\n",
      "13/13 [==============================] - 0s 3ms/step - loss: 18.7816 - val_loss: 35.4447\n",
      "Epoch 41/100\n",
      "13/13 [==============================] - 0s 4ms/step - loss: 18.0064 - val_loss: 38.8190\n",
      "Epoch 42/100\n",
      "13/13 [==============================] - 0s 5ms/step - loss: 17.2734 - val_loss: 35.0667\n",
      "Epoch 43/100\n",
      "13/13 [==============================] - 0s 4ms/step - loss: 17.3178 - val_loss: 35.1975\n",
      "Epoch 44/100\n",
      "13/13 [==============================] - 0s 6ms/step - loss: 17.5347 - val_loss: 38.0926\n",
      "Epoch 45/100\n",
      "13/13 [==============================] - 0s 4ms/step - loss: 17.3467 - val_loss: 38.2035\n",
      "Epoch 46/100\n",
      "13/13 [==============================] - 0s 4ms/step - loss: 16.5309 - val_loss: 36.9372\n",
      "Epoch 47/100\n",
      "13/13 [==============================] - 0s 4ms/step - loss: 18.1974 - val_loss: 33.7990\n",
      "Epoch 48/100\n",
      "13/13 [==============================] - 0s 5ms/step - loss: 17.8567 - val_loss: 36.1864\n",
      "Epoch 49/100\n",
      "13/13 [==============================] - 0s 5ms/step - loss: 18.9286 - val_loss: 39.8100\n",
      "Epoch 50/100\n",
      "13/13 [==============================] - 0s 4ms/step - loss: 17.6298 - val_loss: 33.1156\n",
      "Epoch 51/100\n",
      "13/13 [==============================] - 0s 3ms/step - loss: 17.2526 - val_loss: 38.2605\n",
      "Epoch 52/100\n",
      "13/13 [==============================] - 0s 3ms/step - loss: 18.6447 - val_loss: 37.1125\n",
      "Epoch 53/100\n",
      "13/13 [==============================] - 0s 5ms/step - loss: 17.2457 - val_loss: 33.4157\n",
      "Epoch 54/100\n",
      "13/13 [==============================] - 0s 5ms/step - loss: 16.9408 - val_loss: 36.3238\n",
      "Epoch 55/100\n",
      "13/13 [==============================] - 0s 5ms/step - loss: 17.4637 - val_loss: 32.9541\n",
      "Epoch 56/100\n",
      "13/13 [==============================] - 0s 4ms/step - loss: 17.7027 - val_loss: 35.7435\n",
      "Epoch 57/100\n",
      "13/13 [==============================] - 0s 4ms/step - loss: 17.4048 - val_loss: 34.6027\n",
      "Epoch 58/100\n",
      "13/13 [==============================] - 0s 4ms/step - loss: 18.4765 - val_loss: 36.5248\n",
      "Epoch 59/100\n",
      "13/13 [==============================] - 0s 5ms/step - loss: 17.8425 - val_loss: 34.4556\n",
      "Epoch 60/100\n",
      "13/13 [==============================] - 0s 4ms/step - loss: 16.7845 - val_loss: 37.3985\n",
      "Epoch 61/100\n",
      "13/13 [==============================] - 0s 5ms/step - loss: 17.9045 - val_loss: 34.7892\n",
      "Epoch 62/100\n",
      "13/13 [==============================] - 0s 4ms/step - loss: 20.7680 - val_loss: 40.9715\n",
      "Epoch 63/100\n",
      "13/13 [==============================] - 0s 3ms/step - loss: 20.9430 - val_loss: 38.2625\n",
      "Epoch 64/100\n",
      "13/13 [==============================] - 0s 4ms/step - loss: 19.2898 - val_loss: 38.9074\n",
      "Epoch 65/100\n",
      "13/13 [==============================] - 0s 5ms/step - loss: 18.9128 - val_loss: 37.3834\n",
      "Epoch 66/100\n",
      "13/13 [==============================] - 0s 4ms/step - loss: 17.5909 - val_loss: 37.1699\n",
      "Epoch 67/100\n",
      "13/13 [==============================] - 0s 3ms/step - loss: 16.9933 - val_loss: 37.0174\n",
      "Epoch 68/100\n",
      "13/13 [==============================] - 0s 4ms/step - loss: 17.2200 - val_loss: 39.7210\n",
      "Epoch 69/100\n",
      "13/13 [==============================] - 0s 4ms/step - loss: 16.6609 - val_loss: 36.0795\n",
      "Epoch 70/100\n",
      "13/13 [==============================] - 0s 4ms/step - loss: 18.2378 - val_loss: 34.9652\n",
      "Epoch 71/100\n",
      "13/13 [==============================] - 0s 3ms/step - loss: 17.3663 - val_loss: 34.7665\n",
      "Epoch 72/100\n",
      "13/13 [==============================] - 0s 4ms/step - loss: 18.0341 - val_loss: 37.3668\n",
      "Epoch 73/100\n",
      "13/13 [==============================] - 0s 3ms/step - loss: 18.4430 - val_loss: 34.9306\n",
      "Epoch 74/100\n",
      "13/13 [==============================] - 0s 3ms/step - loss: 16.6712 - val_loss: 36.3131\n",
      "Epoch 75/100\n",
      "13/13 [==============================] - 0s 3ms/step - loss: 16.4159 - val_loss: 35.5333\n",
      "Epoch 76/100\n",
      "13/13 [==============================] - 0s 5ms/step - loss: 16.9611 - val_loss: 37.2272\n",
      "Epoch 77/100\n",
      "13/13 [==============================] - 0s 4ms/step - loss: 16.3314 - val_loss: 35.1323\n",
      "Epoch 78/100\n",
      "13/13 [==============================] - 0s 5ms/step - loss: 16.9928 - val_loss: 33.0596\n",
      "Epoch 79/100\n",
      "13/13 [==============================] - 0s 4ms/step - loss: 16.7215 - val_loss: 34.7554\n",
      "Epoch 80/100\n",
      "13/13 [==============================] - 0s 4ms/step - loss: 17.5228 - val_loss: 35.7864\n",
      "Epoch 81/100\n",
      "13/13 [==============================] - 0s 3ms/step - loss: 16.6719 - val_loss: 37.5181\n",
      "Epoch 82/100\n",
      "13/13 [==============================] - 0s 3ms/step - loss: 16.3958 - val_loss: 35.4273\n",
      "Epoch 83/100\n",
      "13/13 [==============================] - 0s 5ms/step - loss: 16.3260 - val_loss: 34.7109\n",
      "Epoch 84/100\n",
      "13/13 [==============================] - 0s 5ms/step - loss: 16.9451 - val_loss: 34.2653\n",
      "Epoch 85/100\n",
      "13/13 [==============================] - 0s 5ms/step - loss: 16.6677 - val_loss: 35.5323\n",
      "Epoch 86/100\n",
      "13/13 [==============================] - 0s 4ms/step - loss: 16.9118 - val_loss: 32.3785\n",
      "Epoch 87/100\n",
      "13/13 [==============================] - 0s 5ms/step - loss: 16.5736 - val_loss: 36.9959\n",
      "Epoch 88/100\n",
      "13/13 [==============================] - 0s 4ms/step - loss: 19.4728 - val_loss: 42.6468\n",
      "Epoch 89/100\n",
      "13/13 [==============================] - 0s 6ms/step - loss: 18.6234 - val_loss: 35.9514\n",
      "Epoch 90/100\n",
      "13/13 [==============================] - 0s 4ms/step - loss: 17.5200 - val_loss: 36.1859\n",
      "Epoch 91/100\n",
      "13/13 [==============================] - 0s 5ms/step - loss: 16.8277 - val_loss: 36.9992\n",
      "Epoch 92/100\n",
      "13/13 [==============================] - 0s 5ms/step - loss: 16.8079 - val_loss: 32.4339\n",
      "Epoch 93/100\n",
      "13/13 [==============================] - 0s 6ms/step - loss: 18.2681 - val_loss: 35.9101\n",
      "Epoch 94/100\n",
      "13/13 [==============================] - 0s 4ms/step - loss: 18.2986 - val_loss: 35.0461\n",
      "Epoch 95/100\n",
      "13/13 [==============================] - 0s 4ms/step - loss: 17.1462 - val_loss: 35.9910\n",
      "Epoch 96/100\n",
      "13/13 [==============================] - 0s 5ms/step - loss: 16.2594 - val_loss: 34.2901\n",
      "Epoch 97/100\n",
      "13/13 [==============================] - 0s 4ms/step - loss: 17.3852 - val_loss: 31.8917\n",
      "Epoch 98/100\n",
      "13/13 [==============================] - 0s 5ms/step - loss: 18.7058 - val_loss: 32.9599\n",
      "Epoch 99/100\n",
      "13/13 [==============================] - 0s 5ms/step - loss: 16.5243 - val_loss: 35.4617\n",
      "Epoch 100/100\n",
      "13/13 [==============================] - 0s 4ms/step - loss: 18.7952 - val_loss: 37.6041\n"
     ]
    }
   ],
   "source": [
    "res = model.fit(X, y,\n",
    "    epochs=100,\n",
    "    validation_split=0.2\n",
    "    #callbacks=None,\n",
    "    #batch_size=None,\n",
    "    #validation_data=None,\n",
    "                \n",
    ")         "
   ]
  },
  {
   "cell_type": "code",
   "execution_count": 16,
   "id": "0c5e58e1-ba49-4b45-af3a-6bb17d4762b8",
   "metadata": {},
   "outputs": [
    {
     "data": {
      "text/plain": [
       "5.685375977013306"
      ]
     },
     "execution_count": 16,
     "metadata": {},
     "output_type": "execute_result"
    }
   ],
   "source": [
    "np.sqrt(32.3235)"
   ]
  },
  {
   "cell_type": "code",
   "execution_count": 21,
   "id": "4db7d0c1-1191-44e7-bd58-80e62a5ea4b0",
   "metadata": {},
   "outputs": [
    {
     "data": {
      "image/png": "[encoded data removed]",
      "text/plain": [
       "<Figure size 432x288 with 1 Axes>"
      ]
     },
     "metadata": {},
     "output_type": "display_data"
    }
   ],
   "source": [
    "\n",
    "plt.plot(np.arange(len(res.history['loss'])), res.history['loss'],    c=\"red\", label=\"loss\")\n",
    "plt.plot(np.arange(len(res.history['loss'])), res.history['val_loss'], c=\"blue\", label=\"val_loss\")\n",
    "plt.legend()\n",
    "plt.show()\n"
   ]
  },
  {
   "cell_type": "code",
   "execution_count": null,
   "id": "ac87752c-d61a-4173-bdac-e0fea4ca0907",
   "metadata": {},
   "outputs": [],
   "source": []
  },
  {
   "cell_type": "code",
   "execution_count": null,
   "id": "94a4206c-9ea2-46b6-ba31-af9000253845",
   "metadata": {},
   "outputs": [],
   "source": []
  },
  {
   "cell_type": "code",
   "execution_count": 17,
   "id": "544914c6-ff81-411b-99e9-a5eb2afb5cb4",
   "metadata": {},
   "outputs": [
    {
     "name": "stdout",
     "output_type": "stream",
     "text": [
      "16/16 [==============================] - 0s 2ms/step - loss: 54.1548\n"
     ]
    },
    {
     "data": {
      "text/plain": [
       "54.15481185913086"
      ]
     },
     "execution_count": 17,
     "metadata": {},
     "output_type": "execute_result"
    }
   ],
   "source": [
    "#--- loss mse  val_loss  val_mse \n",
    "model.evaluate(X,y)"
   ]
  }
 ],
 "metadata": {
  "kernelspec": {
   "display_name": "Python 3 (ipykernel)",
   "language": "python",
   "name": "python3"
  },
  "language_info": {
   "codemirror_mode": {
    "name": "ipython",
    "version": 3
   },
   "file_extension": ".py",
   "mimetype": "text/x-python",
   "name": "python",
   "nbconvert_exporter": "python",
   "pygments_lexer": "ipython3",
   "version": "3.8.8"
  }
 },
 "nbformat": 4,
 "nbformat_minor": 5
}
